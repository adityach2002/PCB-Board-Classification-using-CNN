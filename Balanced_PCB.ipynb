{
  "nbformat": 4,
  "nbformat_minor": 0,
  "metadata": {
    "colab": {
      "name": "Balanced_PCB.ipynb",
      "provenance": [],
      "collapsed_sections": [],
      "toc_visible": true,
      "machine_shape": "hm"
    },
    "kernelspec": {
      "name": "python3",
      "display_name": "Python 3"
    },
    "accelerator": "GPU"
  },
  "cells": [
    {
      "cell_type": "markdown",
      "metadata": {
        "id": "t7QkZJs6OPEN",
        "colab_type": "text"
      },
      "source": [
        "# 1. Importing necessary Libraries and the Dataset."
      ]
    },
    {
      "cell_type": "code",
      "metadata": {
        "id": "Z8Qn4VM1P31b",
        "colab_type": "code",
        "outputId": "066501b6-4591-4511-8dd0-901312acb232",
        "colab": {
          "base_uri": "https://localhost:8080/",
          "height": 666
        }
      },
      "source": [
        "!pip install tensorflow==1.14.0"
      ],
      "execution_count": 0,
      "outputs": [
        {
          "output_type": "stream",
          "text": [
            "Collecting tensorflow==1.14.0\n",
            "\u001b[?25l  Downloading https://files.pythonhosted.org/packages/de/f0/96fb2e0412ae9692dbf400e5b04432885f677ad6241c088ccc5fe7724d69/tensorflow-1.14.0-cp36-cp36m-manylinux1_x86_64.whl (109.2MB)\n",
            "\u001b[K     |████████████████████████████████| 109.2MB 35kB/s \n",
            "\u001b[?25hRequirement already satisfied: gast>=0.2.0 in /usr/local/lib/python3.6/dist-packages (from tensorflow==1.14.0) (0.3.3)\n",
            "Collecting tensorflow-estimator<1.15.0rc0,>=1.14.0rc0\n",
            "\u001b[?25l  Downloading https://files.pythonhosted.org/packages/3c/d5/21860a5b11caf0678fbc8319341b0ae21a07156911132e0e71bffed0510d/tensorflow_estimator-1.14.0-py2.py3-none-any.whl (488kB)\n",
            "\u001b[K     |████████████████████████████████| 491kB 58.8MB/s \n",
            "\u001b[?25hRequirement already satisfied: keras-applications>=1.0.6 in /usr/local/lib/python3.6/dist-packages (from tensorflow==1.14.0) (1.0.8)\n",
            "Requirement already satisfied: grpcio>=1.8.6 in /usr/local/lib/python3.6/dist-packages (from tensorflow==1.14.0) (1.28.1)\n",
            "Requirement already satisfied: termcolor>=1.1.0 in /usr/local/lib/python3.6/dist-packages (from tensorflow==1.14.0) (1.1.0)\n",
            "Requirement already satisfied: google-pasta>=0.1.6 in /usr/local/lib/python3.6/dist-packages (from tensorflow==1.14.0) (0.2.0)\n",
            "Requirement already satisfied: numpy<2.0,>=1.14.5 in /usr/local/lib/python3.6/dist-packages (from tensorflow==1.14.0) (1.18.2)\n",
            "Requirement already satisfied: astor>=0.6.0 in /usr/local/lib/python3.6/dist-packages (from tensorflow==1.14.0) (0.8.1)\n",
            "Requirement already satisfied: absl-py>=0.7.0 in /usr/local/lib/python3.6/dist-packages (from tensorflow==1.14.0) (0.9.0)\n",
            "Requirement already satisfied: six>=1.10.0 in /usr/local/lib/python3.6/dist-packages (from tensorflow==1.14.0) (1.12.0)\n",
            "Requirement already satisfied: protobuf>=3.6.1 in /usr/local/lib/python3.6/dist-packages (from tensorflow==1.14.0) (3.10.0)\n",
            "Collecting tensorboard<1.15.0,>=1.14.0\n",
            "\u001b[?25l  Downloading https://files.pythonhosted.org/packages/91/2d/2ed263449a078cd9c8a9ba50ebd50123adf1f8cfbea1492f9084169b89d9/tensorboard-1.14.0-py3-none-any.whl (3.1MB)\n",
            "\u001b[K     |████████████████████████████████| 3.2MB 58.7MB/s \n",
            "\u001b[?25hRequirement already satisfied: wrapt>=1.11.1 in /usr/local/lib/python3.6/dist-packages (from tensorflow==1.14.0) (1.12.1)\n",
            "Requirement already satisfied: wheel>=0.26 in /usr/local/lib/python3.6/dist-packages (from tensorflow==1.14.0) (0.34.2)\n",
            "Requirement already satisfied: keras-preprocessing>=1.0.5 in /usr/local/lib/python3.6/dist-packages (from tensorflow==1.14.0) (1.1.0)\n",
            "Requirement already satisfied: h5py in /usr/local/lib/python3.6/dist-packages (from keras-applications>=1.0.6->tensorflow==1.14.0) (2.10.0)\n",
            "Requirement already satisfied: setuptools in /usr/local/lib/python3.6/dist-packages (from protobuf>=3.6.1->tensorflow==1.14.0) (46.1.3)\n",
            "Requirement already satisfied: werkzeug>=0.11.15 in /usr/local/lib/python3.6/dist-packages (from tensorboard<1.15.0,>=1.14.0->tensorflow==1.14.0) (1.0.1)\n",
            "Requirement already satisfied: markdown>=2.6.8 in /usr/local/lib/python3.6/dist-packages (from tensorboard<1.15.0,>=1.14.0->tensorflow==1.14.0) (3.2.1)\n",
            "Installing collected packages: tensorflow-estimator, tensorboard, tensorflow\n",
            "  Found existing installation: tensorflow-estimator 2.2.0rc0\n",
            "    Uninstalling tensorflow-estimator-2.2.0rc0:\n",
            "      Successfully uninstalled tensorflow-estimator-2.2.0rc0\n",
            "  Found existing installation: tensorboard 2.2.0\n",
            "    Uninstalling tensorboard-2.2.0:\n",
            "      Successfully uninstalled tensorboard-2.2.0\n",
            "  Found existing installation: tensorflow 2.2.0rc3\n",
            "    Uninstalling tensorflow-2.2.0rc3:\n",
            "      Successfully uninstalled tensorflow-2.2.0rc3\n",
            "Successfully installed tensorboard-1.14.0 tensorflow-1.14.0 tensorflow-estimator-1.14.0\n"
          ],
          "name": "stdout"
        }
      ]
    },
    {
      "cell_type": "code",
      "metadata": {
        "id": "H4PlwNG32k4N",
        "colab_type": "code",
        "outputId": "3def1e53-9890-4a15-9d5d-95198405f158",
        "colab": {
          "base_uri": "https://localhost:8080/",
          "height": 54
        }
      },
      "source": [
        "# This will prompt for authorization.\n",
        "\n",
        "from google.colab import drive\n",
        "drive.mount('/content/drive')"
      ],
      "execution_count": 0,
      "outputs": [
        {
          "output_type": "stream",
          "text": [
            "Drive already mounted at /content/drive; to attempt to forcibly remount, call drive.mount(\"/content/drive\", force_remount=True).\n"
          ],
          "name": "stdout"
        }
      ]
    },
    {
      "cell_type": "markdown",
      "metadata": {
        "id": "Xs8DUtJKR4-X",
        "colab_type": "text"
      },
      "source": [
        "## 1.1 Importing necessary Libraries"
      ]
    },
    {
      "cell_type": "code",
      "metadata": {
        "id": "Ft-w1ujdPror",
        "colab_type": "code",
        "outputId": "750fea48-adbe-4887-860c-0539dec62ebf",
        "colab": {
          "base_uri": "https://localhost:8080/",
          "height": 34
        }
      },
      "source": [
        "# Import necessary Libraries\n",
        "\n",
        "import numpy as np\n",
        "from sklearn.model_selection import train_test_split\n",
        "from keras.utils import to_categorical\n",
        "import keras\n",
        "from keras import models\n",
        "from keras import layers\n",
        "import matplotlib.pyplot as plt\n",
        "%matplotlib inline\n",
        "from sklearn.metrics import classification_report,confusion_matrix\n",
        "import itertools"
      ],
      "execution_count": 0,
      "outputs": [
        {
          "output_type": "stream",
          "text": [
            "Using TensorFlow backend.\n"
          ],
          "name": "stderr"
        }
      ]
    },
    {
      "cell_type": "markdown",
      "metadata": {
        "id": "EFgwmL3uSDZl",
        "colab_type": "text"
      },
      "source": [
        "## 1.2 Reading the data from a shared location in drive"
      ]
    },
    {
      "cell_type": "code",
      "metadata": {
        "id": "8RdJ89ff5I3M",
        "colab_type": "code",
        "colab": {}
      },
      "source": [
        "# Reading data from Train and Test files\n",
        "\n",
        "import numpy as np\n",
        "a=np.load(\"/content/drive/My Drive/DL Classification Task/classification data/Balanced_PCB/xtrain.npy\")\n",
        "b=np.load(\"/content/drive/My Drive/DL Classification Task/classification data/Balanced_PCB/ytrain.npy\")\n",
        "#b=np.load(\"s_y_train.npy\")\n",
        "print(a.shape)\n",
        "print(b.shape)\n"
      ],
      "execution_count": 0,
      "outputs": []
    },
    {
      "cell_type": "markdown",
      "metadata": {
        "id": "N-X1mom4SLol",
        "colab_type": "text"
      },
      "source": [
        "## 1.3 High level overview of data"
      ]
    },
    {
      "cell_type": "code",
      "metadata": {
        "colab_type": "code",
        "outputId": "c0c46a3e-29ee-49df-b75c-be9dfcc635bb",
        "id": "xS0RGMYnWCQ7",
        "colab": {
          "base_uri": "https://localhost:8080/",
          "height": 51
        }
      },
      "source": [
        "#project_data = pd.read_csv('/content/drive/My Drive/Colab Notebooks/Dataset/Assignments_DonorsChoose_2018/train_data.csv')\n",
        "#resource_data = pd.read_csv('/content/drive/My Drive/Colab Notebooks/Dataset/Assignments_DonorsChoose_2018/resources.csv')\n",
        "\n",
        "import numpy as np\n",
        "a=np.load(\"/content/drive/My Drive/DL Classification Task/classification data/Balanced_PCB/xtrain.npy\")\n",
        "b=np.load(\"/content/drive/My Drive/DL Classification Task/classification data/Balanced_PCB/ytrain.npy\")\n",
        "#b=np.load(\"s_y_train.npy\")\n",
        "print(a.shape)\n",
        "print(b.shape)\n"
      ],
      "execution_count": 0,
      "outputs": [
        {
          "output_type": "stream",
          "text": [
            "(298, 300, 300, 3)\n",
            "(298,)\n"
          ],
          "name": "stdout"
        }
      ]
    },
    {
      "cell_type": "code",
      "metadata": {
        "id": "zAe2ppvEWEtf",
        "colab_type": "code",
        "outputId": "504d092a-1a75-4fe0-e2ca-d7763ae5527a",
        "colab": {
          "base_uri": "https://localhost:8080/",
          "height": 51
        }
      },
      "source": [
        "positive_class = 0\n",
        "neg_class = 0\n",
        "for i in b:\n",
        "  if i==0:\n",
        "    neg_class = neg_class+1\n",
        "  else:\n",
        "    positive_class = positive_class+1\n",
        "\n",
        "print(\"Number of negative class data points are : \",neg_class)\n",
        "print(\"NUmber of positive class data points are : \",positive_class)"
      ],
      "execution_count": 0,
      "outputs": [
        {
          "output_type": "stream",
          "text": [
            "Number of negative class data points are :  149\n",
            "NUmber of positive class data points are :  149\n"
          ],
          "name": "stdout"
        }
      ]
    },
    {
      "cell_type": "code",
      "metadata": {
        "colab_type": "code",
        "outputId": "81faaced-e8f3-4172-a7bd-d3d8f65a1ee1",
        "id": "gsx8zUhXWrfF",
        "colab": {
          "base_uri": "https://localhost:8080/",
          "height": 286
        }
      },
      "source": [
        "import matplotlib.pyplot as plt\n",
        "%matplotlib inline\n",
        "plt.imshow(a[14], cmap='gray')\n",
        "print(b[14])"
      ],
      "execution_count": 0,
      "outputs": [
        {
          "output_type": "stream",
          "text": [
            "0.0\n"
          ],
          "name": "stdout"
        },
        {
          "output_type": "display_data",
          "data": {
            "image/png": "[encoded data removed]",
            "text/plain": [
              "<Figure size 432x288 with 1 Axes>"
            ]
          },
          "metadata": {
            "tags": [],
            "needs_background": "light"
          }
        }
      ]
    },
    {
      "cell_type": "markdown",
      "metadata": {
        "id": "wCUSOxJDUPbG",
        "colab_type": "text"
      },
      "source": [
        "# 2. Splitting the data into Train and Test and normalizing the pixel values\n"
      ]
    },
    {
      "cell_type": "code",
      "metadata": {
        "id": "WWs5C1EdGr0L",
        "colab_type": "code",
        "colab": {}
      },
      "source": [
        "# train test split in scikit learn , test size = 30 percent\n",
        "\n",
        "xtrain, xtest, ytrain, ytest = train_test_split(a, b, test_size=0.20, random_state=42)"
      ],
      "execution_count": 0,
      "outputs": []
    },
    {
      "cell_type": "code",
      "metadata": {
        "id": "6cfJF_osHmD0",
        "colab_type": "code",
        "colab": {}
      },
      "source": [
        "xtrain = xtrain.astype('float32')\n",
        "xtest  = xtest.astype('float32')"
      ],
      "execution_count": 0,
      "outputs": []
    },
    {
      "cell_type": "markdown",
      "metadata": {
        "id": "eVJfogGZU1o6",
        "colab_type": "text"
      },
      "source": [
        "## 2.1 Data Normalization"
      ]
    },
    {
      "cell_type": "code",
      "metadata": {
        "colab_type": "code",
        "outputId": "8842e7f2-1107-4ba8-ff4f-4cbedd07dcf2",
        "id": "PNJqsdAaW75O",
        "colab": {
          "base_uri": "https://localhost:8080/",
          "height": 153
        }
      },
      "source": [
        "#keras.utils.normalize(a, axis=-1, order=2)\n",
        "print (np.max(xtrain),np.max(xtest))\n",
        "print (np.min(xtrain),np.min(xtest))\n",
        "\n",
        "print (np.max(ytrain),np.max(ytest))\n",
        "print (np.min(ytrain),np.min(ytest))\n",
        "\n",
        "mean = np.mean(xtrain)\n",
        "std  = np.std(xtrain)\n",
        "\n",
        "print(mean)\n",
        "print(std)\n",
        "\n",
        "xtrain -= mean\n",
        "xtrain /= std\n",
        "\n",
        "xtest -= mean\n",
        "xtest /= std\n",
        "\n",
        "print (np.max(xtrain),np.max(xtest))\n",
        "print (np.min(xtrain),np.min(xtest))"
      ],
      "execution_count": 0,
      "outputs": [
        {
          "output_type": "stream",
          "text": [
            "255.0 255.0\n",
            "0.0 0.0\n",
            "1.0 1.0\n",
            "0.0 0.0\n",
            "53.070915\n",
            "53.434452\n",
            "3.7790053 3.7790053\n",
            "-0.9931966 -0.9931966\n"
          ],
          "name": "stdout"
        }
      ]
    },
    {
      "cell_type": "code",
      "metadata": {
        "id": "7A91IbEa0W8s",
        "colab_type": "code",
        "colab": {}
      },
      "source": [
        "xtrain = xtrain.reshape(xtrain.shape[0],300,300,3)\n",
        "xtest =  xtest.reshape(xtest.shape[0],300,300,3)"
      ],
      "execution_count": 0,
      "outputs": []
    },
    {
      "cell_type": "markdown",
      "metadata": {
        "id": "vytszoG6U_e-",
        "colab_type": "text"
      },
      "source": [
        "## 2.2 One Hot encoding of class labels"
      ]
    },
    {
      "cell_type": "code",
      "metadata": {
        "id": "zMbLmBA_0W2F",
        "colab_type": "code",
        "outputId": "92a7f039-ea3e-411f-ec9a-7cd72d06249d",
        "colab": {
          "base_uri": "https://localhost:8080/",
          "height": 34
        }
      },
      "source": [
        "ytrain = to_categorical(ytrain)\n",
        "ytest  =  to_categorical(ytest)\n",
        "print(ytest[0])"
      ],
      "execution_count": 0,
      "outputs": [
        {
          "output_type": "stream",
          "text": [
            "[0. 1.]\n"
          ],
          "name": "stdout"
        }
      ]
    },
    {
      "cell_type": "markdown",
      "metadata": {
        "id": "CeY0FiJJVNE6",
        "colab_type": "text"
      },
      "source": [
        "# 3. CNN Model for classification of PCB Boards for Balanced Data"
      ]
    },
    {
      "cell_type": "markdown",
      "metadata": {
        "id": "6vrQ7op0VXK6",
        "colab_type": "text"
      },
      "source": [
        "## 3.1 LeNet for Classification"
      ]
    },
    {
      "cell_type": "markdown",
      "metadata": {
        "id": "YAcaw25mai6Y",
        "colab_type": "text"
      },
      "source": [
        "### 3.1.1 LeNet Structure"
      ]
    },
    {
      "cell_type": "code",
      "metadata": {
        "colab_type": "code",
        "outputId": "d5276fb1-5af4-45f1-bce2-31bcc37f6615",
        "id": "wZykkrGxaoIu",
        "colab": {
          "base_uri": "https://localhost:8080/",
          "height": 425
        }
      },
      "source": [
        "model = models.Sequential()\n",
        "\n",
        "model.add(layers.Conv2D(6, (3,3), input_shape=(300,300,3), activation='relu', strides=(1,1), padding='valid'))\n",
        "model.add(layers.AveragePooling2D(pool_size=(2,2), strides=(2,2)))\n",
        "\n",
        "model.add(layers.Conv2D(16, (5,5),activation='relu', strides=(1,1), padding='valid'))\n",
        "model.add(layers.AveragePooling2D(pool_size=(2,2), strides=(2,2)))\n",
        "\n",
        "model.add(layers.Flatten())\n",
        "\n",
        "model.add(layers.Dense(120, activation='relu'))\n",
        "model.add(layers.Dense(84, activation='relu'))\n",
        "model.add(layers.Dense(2, activation='softmax'))\n",
        "\n",
        "model.summary()"
      ],
      "execution_count": 0,
      "outputs": [
        {
          "output_type": "stream",
          "text": [
            "Model: \"sequential_1\"\n",
            "_________________________________________________________________\n",
            "Layer (type)                 Output Shape              Param #   \n",
            "=================================================================\n",
            "conv2d_1 (Conv2D)            (None, 298, 298, 6)       168       \n",
            "_________________________________________________________________\n",
            "average_pooling2d_1 (Average (None, 149, 149, 6)       0         \n",
            "_________________________________________________________________\n",
            "conv2d_2 (Conv2D)            (None, 145, 145, 16)      2416      \n",
            "_________________________________________________________________\n",
            "average_pooling2d_2 (Average (None, 72, 72, 16)        0         \n",
            "_________________________________________________________________\n",
            "flatten_1 (Flatten)          (None, 82944)             0         \n",
            "_________________________________________________________________\n",
            "dense_1 (Dense)              (None, 120)               9953400   \n",
            "_________________________________________________________________\n",
            "dense_2 (Dense)              (None, 84)                10164     \n",
            "_________________________________________________________________\n",
            "dense_3 (Dense)              (None, 2)                 170       \n",
            "=================================================================\n",
            "Total params: 9,966,318\n",
            "Trainable params: 9,966,318\n",
            "Non-trainable params: 0\n",
            "_________________________________________________________________\n"
          ],
          "name": "stdout"
        }
      ]
    },
    {
      "cell_type": "markdown",
      "metadata": {
        "id": "z3D_6FpaapGE",
        "colab_type": "text"
      },
      "source": [
        "### 3.1.2 Compiling and Training Model"
      ]
    },
    {
      "cell_type": "code",
      "metadata": {
        "id": "Fg5tee88k8AI",
        "colab_type": "code",
        "outputId": "3acdea16-7bf7-4201-a35b-eef86d20d6d9",
        "colab": {
          "base_uri": "https://localhost:8080/",
          "height": 1000
        }
      },
      "source": [
        "model.compile(loss=\"binary_crossentropy\", optimizer=\"sgd\", metrics=['accuracy'])\n",
        "history=model.fit(xtrain, ytrain, validation_split=(0.2), batch_size=256, epochs=50, verbose=1)"
      ],
      "execution_count": 0,
      "outputs": [
        {
          "output_type": "stream",
          "text": [
            "WARNING:tensorflow:From /usr/local/lib/python3.6/dist-packages/tensorflow/python/ops/math_grad.py:1250: add_dispatch_support.<locals>.wrapper (from tensorflow.python.ops.array_ops) is deprecated and will be removed in a future version.\n",
            "Instructions for updating:\n",
            "Use tf.where in 2.0, which has the same broadcast rule as np.where\n",
            "WARNING:tensorflow:From /usr/local/lib/python3.6/dist-packages/keras/backend/tensorflow_backend.py:422: The name tf.global_variables is deprecated. Please use tf.compat.v1.global_variables instead.\n",
            "\n",
            "Train on 190 samples, validate on 48 samples\n",
            "Epoch 1/50\n",
            "190/190 [==============================] - 7s 35ms/step - loss: 0.7112 - accuracy: 0.5158 - val_loss: 0.5695 - val_accuracy: 0.8333\n",
            "Epoch 2/50\n",
            "190/190 [==============================] - 6s 33ms/step - loss: 0.5253 - accuracy: 0.7947 - val_loss: 0.6948 - val_accuracy: 0.5000\n",
            "Epoch 3/50\n",
            "190/190 [==============================] - 6s 33ms/step - loss: 0.6312 - accuracy: 0.5737 - val_loss: 1.3017 - val_accuracy: 0.5000\n",
            "Epoch 4/50\n",
            "190/190 [==============================] - 6s 33ms/step - loss: 1.3533 - accuracy: 0.4789 - val_loss: 0.6193 - val_accuracy: 0.7292\n",
            "Epoch 5/50\n",
            "190/190 [==============================] - 6s 34ms/step - loss: 0.6097 - accuracy: 0.6895 - val_loss: 0.5812 - val_accuracy: 0.7708\n",
            "Epoch 6/50\n",
            "190/190 [==============================] - 6s 33ms/step - loss: 0.5611 - accuracy: 0.8105 - val_loss: 0.5495 - val_accuracy: 0.8333\n",
            "Epoch 7/50\n",
            "190/190 [==============================] - 6s 33ms/step - loss: 0.5166 - accuracy: 0.8421 - val_loss: 0.5223 - val_accuracy: 0.8333\n",
            "Epoch 8/50\n",
            "190/190 [==============================] - 6s 33ms/step - loss: 0.4759 - accuracy: 0.8789 - val_loss: 0.4980 - val_accuracy: 0.8333\n",
            "Epoch 9/50\n",
            "190/190 [==============================] - 6s 33ms/step - loss: 0.4381 - accuracy: 0.8737 - val_loss: 0.4775 - val_accuracy: 0.8333\n",
            "Epoch 10/50\n",
            "190/190 [==============================] - 6s 33ms/step - loss: 0.4040 - accuracy: 0.8842 - val_loss: 0.4586 - val_accuracy: 0.8333\n",
            "Epoch 11/50\n",
            "190/190 [==============================] - 6s 33ms/step - loss: 0.3734 - accuracy: 0.8842 - val_loss: 0.4418 - val_accuracy: 0.8542\n",
            "Epoch 12/50\n",
            "190/190 [==============================] - 6s 33ms/step - loss: 0.3453 - accuracy: 0.8842 - val_loss: 0.4271 - val_accuracy: 0.8333\n",
            "Epoch 13/50\n",
            "190/190 [==============================] - 6s 33ms/step - loss: 0.3197 - accuracy: 0.8895 - val_loss: 0.4128 - val_accuracy: 0.8542\n",
            "Epoch 14/50\n",
            "190/190 [==============================] - 6s 33ms/step - loss: 0.2986 - accuracy: 0.8947 - val_loss: 0.4063 - val_accuracy: 0.8333\n",
            "Epoch 15/50\n",
            "190/190 [==============================] - 6s 33ms/step - loss: 0.2833 - accuracy: 0.9158 - val_loss: 0.4004 - val_accuracy: 0.8750\n",
            "Epoch 16/50\n",
            "190/190 [==============================] - 6s 33ms/step - loss: 0.2773 - accuracy: 0.9105 - val_loss: 0.4285 - val_accuracy: 0.8333\n",
            "Epoch 17/50\n",
            "190/190 [==============================] - 6s 33ms/step - loss: 0.2878 - accuracy: 0.8947 - val_loss: 0.4988 - val_accuracy: 0.7917\n",
            "Epoch 18/50\n",
            "190/190 [==============================] - 6s 33ms/step - loss: 0.3570 - accuracy: 0.8526 - val_loss: 0.7149 - val_accuracy: 0.6250\n",
            "Epoch 19/50\n",
            "190/190 [==============================] - 6s 33ms/step - loss: 0.5212 - accuracy: 0.7000 - val_loss: 0.9065 - val_accuracy: 0.6042\n",
            "Epoch 20/50\n",
            "190/190 [==============================] - 6s 33ms/step - loss: 0.7992 - accuracy: 0.5684 - val_loss: 0.4795 - val_accuracy: 0.6875\n",
            "Epoch 21/50\n",
            "190/190 [==============================] - 6s 33ms/step - loss: 0.3465 - accuracy: 0.8526 - val_loss: 0.3973 - val_accuracy: 0.8750\n",
            "Epoch 22/50\n",
            "190/190 [==============================] - 6s 33ms/step - loss: 0.2559 - accuracy: 0.9316 - val_loss: 0.3835 - val_accuracy: 0.8750\n",
            "Epoch 23/50\n",
            "190/190 [==============================] - 6s 33ms/step - loss: 0.2324 - accuracy: 0.9421 - val_loss: 0.3731 - val_accuracy: 0.8750\n",
            "Epoch 24/50\n",
            "190/190 [==============================] - 6s 33ms/step - loss: 0.2157 - accuracy: 0.9474 - val_loss: 0.3646 - val_accuracy: 0.8958\n",
            "Epoch 25/50\n",
            "190/190 [==============================] - 6s 33ms/step - loss: 0.2024 - accuracy: 0.9474 - val_loss: 0.3578 - val_accuracy: 0.8958\n",
            "Epoch 26/50\n",
            "190/190 [==============================] - 6s 33ms/step - loss: 0.1912 - accuracy: 0.9474 - val_loss: 0.3520 - val_accuracy: 0.8958\n",
            "Epoch 27/50\n",
            "190/190 [==============================] - 6s 33ms/step - loss: 0.1816 - accuracy: 0.9474 - val_loss: 0.3468 - val_accuracy: 0.8958\n",
            "Epoch 28/50\n",
            "190/190 [==============================] - 6s 33ms/step - loss: 0.1733 - accuracy: 0.9526 - val_loss: 0.3422 - val_accuracy: 0.8958\n",
            "Epoch 29/50\n",
            "190/190 [==============================] - 6s 33ms/step - loss: 0.1660 - accuracy: 0.9579 - val_loss: 0.3381 - val_accuracy: 0.8958\n",
            "Epoch 30/50\n",
            "190/190 [==============================] - 6s 33ms/step - loss: 0.1596 - accuracy: 0.9579 - val_loss: 0.3339 - val_accuracy: 0.8958\n",
            "Epoch 31/50\n",
            "190/190 [==============================] - 6s 33ms/step - loss: 0.1539 - accuracy: 0.9579 - val_loss: 0.3301 - val_accuracy: 0.8958\n",
            "Epoch 32/50\n",
            "190/190 [==============================] - 6s 33ms/step - loss: 0.1488 - accuracy: 0.9579 - val_loss: 0.3269 - val_accuracy: 0.8958\n",
            "Epoch 33/50\n",
            "190/190 [==============================] - 6s 32ms/step - loss: 0.1441 - accuracy: 0.9526 - val_loss: 0.3236 - val_accuracy: 0.8958\n",
            "Epoch 34/50\n",
            "190/190 [==============================] - 6s 31ms/step - loss: 0.1398 - accuracy: 0.9526 - val_loss: 0.3204 - val_accuracy: 0.8958\n",
            "Epoch 35/50\n",
            "190/190 [==============================] - 6s 31ms/step - loss: 0.1359 - accuracy: 0.9579 - val_loss: 0.3176 - val_accuracy: 0.8958\n",
            "Epoch 36/50\n",
            "190/190 [==============================] - 6s 32ms/step - loss: 0.1324 - accuracy: 0.9579 - val_loss: 0.3151 - val_accuracy: 0.8958\n",
            "Epoch 37/50\n",
            "190/190 [==============================] - 6s 31ms/step - loss: 0.1291 - accuracy: 0.9579 - val_loss: 0.3121 - val_accuracy: 0.8958\n",
            "Epoch 38/50\n",
            "190/190 [==============================] - 6s 31ms/step - loss: 0.1261 - accuracy: 0.9579 - val_loss: 0.3101 - val_accuracy: 0.9167\n",
            "Epoch 39/50\n",
            "190/190 [==============================] - 6s 32ms/step - loss: 0.1233 - accuracy: 0.9579 - val_loss: 0.3077 - val_accuracy: 0.9167\n",
            "Epoch 40/50\n",
            "190/190 [==============================] - 6s 31ms/step - loss: 0.1206 - accuracy: 0.9579 - val_loss: 0.3056 - val_accuracy: 0.9167\n",
            "Epoch 41/50\n",
            "190/190 [==============================] - 6s 31ms/step - loss: 0.1182 - accuracy: 0.9579 - val_loss: 0.3033 - val_accuracy: 0.9167\n",
            "Epoch 42/50\n",
            "190/190 [==============================] - 6s 31ms/step - loss: 0.1158 - accuracy: 0.9579 - val_loss: 0.3016 - val_accuracy: 0.9167\n",
            "Epoch 43/50\n",
            "190/190 [==============================] - 6s 31ms/step - loss: 0.1136 - accuracy: 0.9579 - val_loss: 0.2993 - val_accuracy: 0.9167\n",
            "Epoch 44/50\n",
            "190/190 [==============================] - 6s 31ms/step - loss: 0.1115 - accuracy: 0.9579 - val_loss: 0.2978 - val_accuracy: 0.9167\n",
            "Epoch 45/50\n",
            "190/190 [==============================] - 6s 31ms/step - loss: 0.1095 - accuracy: 0.9579 - val_loss: 0.2958 - val_accuracy: 0.9167\n",
            "Epoch 46/50\n",
            "190/190 [==============================] - 6s 31ms/step - loss: 0.1076 - accuracy: 0.9579 - val_loss: 0.2942 - val_accuracy: 0.9167\n",
            "Epoch 47/50\n",
            "190/190 [==============================] - 6s 31ms/step - loss: 0.1058 - accuracy: 0.9632 - val_loss: 0.2923 - val_accuracy: 0.9167\n",
            "Epoch 48/50\n",
            "190/190 [==============================] - 6s 31ms/step - loss: 0.1040 - accuracy: 0.9632 - val_loss: 0.2907 - val_accuracy: 0.9167\n",
            "Epoch 49/50\n",
            "190/190 [==============================] - 6s 31ms/step - loss: 0.1023 - accuracy: 0.9632 - val_loss: 0.2890 - val_accuracy: 0.9167\n",
            "Epoch 50/50\n",
            "190/190 [==============================] - 6s 31ms/step - loss: 0.1007 - accuracy: 0.9632 - val_loss: 0.2877 - val_accuracy: 0.9167\n"
          ],
          "name": "stdout"
        }
      ]
    },
    {
      "cell_type": "markdown",
      "metadata": {
        "id": "lJc-JXOabKcR",
        "colab_type": "text"
      },
      "source": [
        "### 3.1.3 Results on Test data."
      ]
    },
    {
      "cell_type": "code",
      "metadata": {
        "colab_type": "code",
        "outputId": "789bac35-d9b8-4d6b-918b-e729da62836b",
        "id": "OQSi6GQS0aTR",
        "colab": {
          "base_uri": "https://localhost:8080/",
          "height": 51
        }
      },
      "source": [
        "model.evaluate(xtest,ytest)"
      ],
      "execution_count": 0,
      "outputs": [
        {
          "output_type": "stream",
          "text": [
            "60/60 [==============================] - 1s 12ms/step\n"
          ],
          "name": "stdout"
        },
        {
          "output_type": "execute_result",
          "data": {
            "text/plain": [
              "[0.5622508764266968, 0.75]"
            ]
          },
          "metadata": {
            "tags": []
          },
          "execution_count": 14
        }
      ]
    },
    {
      "cell_type": "code",
      "metadata": {
        "colab_type": "code",
        "outputId": "539663f5-b5f6-4142-af07-7d66a6e3be70",
        "id": "f-GDVKR3Xb30",
        "colab": {
          "base_uri": "https://localhost:8080/",
          "height": 51
        }
      },
      "source": [
        "pred=model.predict(xtest[0].reshape(1,300,300,3))\n",
        "print(pred)\n",
        "print(pred.argmax())"
      ],
      "execution_count": 0,
      "outputs": [
        {
          "output_type": "stream",
          "text": [
            "[[0.703113 0.296887]]\n",
            "0\n"
          ],
          "name": "stdout"
        }
      ]
    },
    {
      "cell_type": "code",
      "metadata": {
        "colab_type": "code",
        "outputId": "3b8c36a0-e1eb-41ff-c23e-4c74a776c93c",
        "id": "Nn1ypZaa0aTi",
        "colab": {
          "base_uri": "https://localhost:8080/",
          "height": 68
        }
      },
      "source": [
        "test_loss,test_acc=model.evaluate(xtest,ytest)\n",
        "print(test_loss)\n",
        "print(test_acc)"
      ],
      "execution_count": 0,
      "outputs": [
        {
          "output_type": "stream",
          "text": [
            "60/60 [==============================] - 1s 12ms/step\n",
            "0.5622508764266968\n",
            "0.75\n"
          ],
          "name": "stdout"
        }
      ]
    },
    {
      "cell_type": "code",
      "metadata": {
        "colab_type": "code",
        "outputId": "8da0ee80-c3a4-4f1e-a72b-5ad86a5ff8bd",
        "id": "osXHjJ6uXb4D",
        "colab": {
          "base_uri": "https://localhost:8080/",
          "height": 68
        }
      },
      "source": [
        "test_loss,test_acc=model.evaluate(xtest,ytest)\n",
        "print(test_loss)\n",
        "print(test_acc)"
      ],
      "execution_count": 0,
      "outputs": [
        {
          "output_type": "stream",
          "text": [
            "60/60 [==============================] - 1s 12ms/step\n",
            "0.5622508764266968\n",
            "0.75\n"
          ],
          "name": "stdout"
        }
      ]
    },
    {
      "cell_type": "code",
      "metadata": {
        "colab_type": "code",
        "id": "Cn-B-zJeXb4J",
        "colab": {}
      },
      "source": [
        "train_loss = history.history['loss']\n",
        "train_acc = history.history['accuracy']\n",
        "val_loss = history.history['val_loss']\n",
        "val_acc = history.history['val_accuracy']\n",
        "xc=range(len(train_loss))"
      ],
      "execution_count": 0,
      "outputs": []
    },
    {
      "cell_type": "code",
      "metadata": {
        "colab_type": "code",
        "outputId": "fb13da53-4cf4-4819-b4a0-cafa8eb35f87",
        "id": "xsW_1gL8Xb4P",
        "colab": {
          "base_uri": "https://localhost:8080/",
          "height": 298
        }
      },
      "source": [
        "import matplotlib.pyplot as plt\n",
        "%matplotlib inline\n",
        "plt.plot(xc, train_loss)\n",
        "plt.plot(xc, val_loss)\n",
        "plt.xlabel(\"Epoch\")\n",
        "plt.ylabel(\"Loss\")\n",
        "plt.legend(['train','val'])"
      ],
      "execution_count": 0,
      "outputs": [
        {
          "output_type": "execute_result",
          "data": {
            "text/plain": [
              "<matplotlib.legend.Legend at 0x7fb18a1bd898>"
            ]
          },
          "metadata": {
            "tags": []
          },
          "execution_count": 19
        },
        {
          "output_type": "display_data",
          "data": {
            "image/png": "[encoded data removed]",
            "text/plain": [
              "<Figure size 432x288 with 1 Axes>"
            ]
          },
          "metadata": {
            "tags": [],
            "needs_background": "light"
          }
        }
      ]
    },
    {
      "cell_type": "code",
      "metadata": {
        "colab_type": "code",
        "outputId": "91d7035f-c322-4836-a9e1-1e6296f0b675",
        "id": "0_Y13he0Xb4V",
        "colab": {
          "base_uri": "https://localhost:8080/",
          "height": 296
        }
      },
      "source": [
        "import matplotlib.pyplot as plt\n",
        "%matplotlib inline\n",
        "plt.plot(xc, train_acc)\n",
        "plt.plot(xc, val_acc)\n",
        "plt.xlabel(\"Epoch\")\n",
        "plt.ylabel(\"Acc\")\n",
        "plt.legend(['train','val'])"
      ],
      "execution_count": 0,
      "outputs": [
        {
          "output_type": "execute_result",
          "data": {
            "text/plain": [
              "<matplotlib.legend.Legend at 0x7fb18a149c18>"
            ]
          },
          "metadata": {
            "tags": []
          },
          "execution_count": 20
        },
        {
          "output_type": "display_data",
          "data": {
            "image/png": "[encoded data removed]",
            "text/plain": [
              "<Figure size 432x288 with 1 Axes>"
            ]
          },
          "metadata": {
            "tags": [],
            "needs_background": "light"
          }
        }
      ]
    },
    {
      "cell_type": "code",
      "metadata": {
        "colab_type": "code",
        "outputId": "5f3af901-07a3-498c-c699-40a0cdfe3f7a",
        "id": "SzWGntjYXb4c",
        "colab": {
          "base_uri": "https://localhost:8080/",
          "height": 187
        }
      },
      "source": [
        "%matplotlib inline\n",
        "for i in range(10):\n",
        "    pred = model.predict(xtest[i].reshape(1, 300, 300, 3))\n",
        "    print(\"\"+str(i+1)+\" Actual is \"+ \" \" + str(ytest[i])+\" Predicted is \"+str(pred.argmax()))"
      ],
      "execution_count": 0,
      "outputs": [
        {
          "output_type": "stream",
          "text": [
            "1 Actual is  [0. 1.] Predicted is 0\n",
            "2 Actual is  [0. 1.] Predicted is 1\n",
            "3 Actual is  [0. 1.] Predicted is 1\n",
            "4 Actual is  [1. 0.] Predicted is 0\n",
            "5 Actual is  [1. 0.] Predicted is 0\n",
            "6 Actual is  [0. 1.] Predicted is 1\n",
            "7 Actual is  [1. 0.] Predicted is 0\n",
            "8 Actual is  [1. 0.] Predicted is 0\n",
            "9 Actual is  [1. 0.] Predicted is 0\n",
            "10 Actual is  [0. 1.] Predicted is 1\n"
          ],
          "name": "stdout"
        }
      ]
    },
    {
      "cell_type": "markdown",
      "metadata": {
        "id": "IUPFbTYbbTVO",
        "colab_type": "text"
      },
      "source": [
        "### 3.1.4 F1 score and Confusion Matrix"
      ]
    },
    {
      "cell_type": "code",
      "metadata": {
        "colab_type": "code",
        "outputId": "23aa1ec3-0328-4d06-e073-18bb2dfd9c3e",
        "id": "QnLpqNLLXlVQ",
        "colab": {
          "base_uri": "https://localhost:8080/",
          "height": 170
        }
      },
      "source": [
        "import numpy as np\n",
        "from sklearn.metrics import classification_report,confusion_matrix\n",
        "import itertools\n",
        "\n",
        "Y_pred = model.predict(xtest)\n",
        "y_pred = np.argmax(Y_pred, axis=1)\n",
        "target_names = ['class 0', 'class 1']\n",
        "print(classification_report(np.argmax(ytest,axis=1), y_pred,target_names=target_names))"
      ],
      "execution_count": 0,
      "outputs": [
        {
          "output_type": "stream",
          "text": [
            "              precision    recall  f1-score   support\n",
            "\n",
            "     class 0       0.79      0.76      0.78        34\n",
            "     class 1       0.70      0.73      0.72        26\n",
            "\n",
            "    accuracy                           0.75        60\n",
            "   macro avg       0.75      0.75      0.75        60\n",
            "weighted avg       0.75      0.75      0.75        60\n",
            "\n"
          ],
          "name": "stdout"
        }
      ]
    },
    {
      "cell_type": "code",
      "metadata": {
        "colab_type": "code",
        "id": "N6UYcsj4bFSQ",
        "colab": {}
      },
      "source": [
        "def plot_confusion_matrix(cm, classes,\n",
        "                          normalize=False,\n",
        "                          title='Confusion matrix',\n",
        "                          cmap=plt.cm.Blues):\n",
        "    \"\"\"\n",
        "    This function prints and plots the confusion matrix.\n",
        "    Normalization can be applied by setting `normalize=True`.\n",
        "    \"\"\"\n",
        "    plt.imshow(cm, interpolation='nearest', cmap=cmap)\n",
        "    plt.title(title)\n",
        "    plt.colorbar()\n",
        "    tick_marks = np.arange(len(classes))\n",
        "    plt.xticks(tick_marks, classes, rotation=45)\n",
        "    plt.yticks(tick_marks, classes)\n",
        "\n",
        "    if normalize:\n",
        "        cm = cm.astype('float') / cm.sum(axis=1)[:, np.newaxis]\n",
        "        print(\"Normalized confusion matrix\")\n",
        "    else:\n",
        "        print('Confusion matrix, without normalization')\n",
        "\n",
        "    print(cm)\n",
        "\n",
        "    thresh = cm.max() / 2.\n",
        "    for i, j in itertools.product(range(cm.shape[0]), range(cm.shape[1])):\n",
        "        plt.text(j, i, cm[i, j],\n",
        "                 horizontalalignment=\"center\",\n",
        "                 color=\"white\" if cm[i, j] > thresh else \"black\")\n",
        "        \n",
        "\n",
        "    plt.tight_layout()\n",
        "    plt.ylabel('True label')\n",
        "    plt.xlabel('Predicted label')"
      ],
      "execution_count": 0,
      "outputs": []
    },
    {
      "cell_type": "code",
      "metadata": {
        "colab_type": "code",
        "outputId": "3fc8808b-7ba1-4815-d7e7-c6d18b5847c2",
        "id": "qmcg7UoyXpaX",
        "colab": {
          "base_uri": "https://localhost:8080/",
          "height": 780
        }
      },
      "source": [
        "cnf_matrix = (confusion_matrix(np.argmax(ytest,axis=1), y_pred))\n",
        "np.set_printoptions(precision=2)\n",
        "plt.figure(figsize=(10,10))\n",
        "plot_confusion_matrix(cnf_matrix, classes=target_names,\n",
        "                      title='Confusion matrix')\n",
        "#plt.show()"
      ],
      "execution_count": 0,
      "outputs": [
        {
          "output_type": "stream",
          "text": [
            "Confusion matrix, without normalization\n",
            "[[26  8]\n",
            " [ 7 19]]\n"
          ],
          "name": "stdout"
        },
        {
          "output_type": "display_data",
          "data": {
            "image/png": "[encoded data removed]",
            "text/plain": [
              "<Figure size 720x720 with 2 Axes>"
            ]
          },
          "metadata": {
            "tags": [],
            "needs_background": "light"
          }
        }
      ]
    },
    {
      "cell_type": "markdown",
      "metadata": {
        "id": "MLNyT0jaeFUT",
        "colab_type": "text"
      },
      "source": [
        "## 3.2 Modified LeNet (3 Concolutional-Max Pooling Layers)"
      ]
    },
    {
      "cell_type": "markdown",
      "metadata": {
        "id": "0igejsFTaUKe",
        "colab_type": "text"
      },
      "source": [
        "### 3.2.1 Modified Structure"
      ]
    },
    {
      "cell_type": "code",
      "metadata": {
        "colab_type": "code",
        "outputId": "9d81f90d-c8d1-4874-b0b4-548463b87761",
        "id": "NANDtveUDMUD",
        "colab": {
          "base_uri": "https://localhost:8080/",
          "height": 547
        }
      },
      "source": [
        "# Slight Modification of LeNet (1998) model with one extra convolutional layer before flattening\n",
        "\n",
        "model = models.Sequential()\n",
        "\n",
        "model.add(layers.Conv2D(6, (3,3), input_shape=(300,300,3), activation='relu', strides=(1,1), padding='valid'))\n",
        "model.add(layers.MaxPooling2D(pool_size=(2,2), strides=(2,2)))\n",
        "\n",
        "model.add(layers.Conv2D(16, (5,5),activation='relu', strides=(1,1), padding='valid'))\n",
        "model.add(layers.MaxPooling2D(pool_size=(2,2), strides=(2,2)))\n",
        "\n",
        "model.add(layers.Conv2D(16, (5,5),activation='relu', strides=(1,1), padding='valid'))\n",
        "model.add(layers.MaxPooling2D(pool_size=(2,2), strides=(2,2)))\n",
        "\n",
        "model.add(layers.Flatten())\n",
        "\n",
        "model.add(layers.Dense(120, activation='relu'))\n",
        "model.add(layers.Dense(84, activation='relu'))\n",
        "\n",
        "model.add(layers.Dense(2, activation='softmax'))\n",
        "\n",
        "model.summary()"
      ],
      "execution_count": 0,
      "outputs": [
        {
          "output_type": "stream",
          "text": [
            "WARNING:tensorflow:From /usr/local/lib/python3.6/dist-packages/keras/backend/tensorflow_backend.py:4070: The name tf.nn.max_pool is deprecated. Please use tf.nn.max_pool2d instead.\n",
            "\n",
            "Model: \"sequential_1\"\n",
            "_________________________________________________________________\n",
            "Layer (type)                 Output Shape              Param #   \n",
            "=================================================================\n",
            "conv2d_1 (Conv2D)            (None, 298, 298, 6)       168       \n",
            "_________________________________________________________________\n",
            "max_pooling2d_1 (MaxPooling2 (None, 149, 149, 6)       0         \n",
            "_________________________________________________________________\n",
            "conv2d_2 (Conv2D)            (None, 145, 145, 16)      2416      \n",
            "_________________________________________________________________\n",
            "max_pooling2d_2 (MaxPooling2 (None, 72, 72, 16)        0         \n",
            "_________________________________________________________________\n",
            "conv2d_3 (Conv2D)            (None, 68, 68, 16)        6416      \n",
            "_________________________________________________________________\n",
            "max_pooling2d_3 (MaxPooling2 (None, 34, 34, 16)        0         \n",
            "_________________________________________________________________\n",
            "flatten_1 (Flatten)          (None, 18496)             0         \n",
            "_________________________________________________________________\n",
            "dense_1 (Dense)              (None, 120)               2219640   \n",
            "_________________________________________________________________\n",
            "dense_2 (Dense)              (None, 84)                10164     \n",
            "_________________________________________________________________\n",
            "dense_3 (Dense)              (None, 2)                 170       \n",
            "=================================================================\n",
            "Total params: 2,238,974\n",
            "Trainable params: 2,238,974\n",
            "Non-trainable params: 0\n",
            "_________________________________________________________________\n"
          ],
          "name": "stdout"
        }
      ]
    },
    {
      "cell_type": "markdown",
      "metadata": {
        "id": "Jwg-TfmEWd9-",
        "colab_type": "text"
      },
      "source": [
        "### 3.2.2 Compiling and training the Model"
      ]
    },
    {
      "cell_type": "code",
      "metadata": {
        "colab_type": "code",
        "outputId": "75ba9dbb-a0a4-4197-cce0-29532f081c35",
        "id": "Bnaa899S15Ec",
        "colab": {
          "base_uri": "https://localhost:8080/",
          "height": 1000
        }
      },
      "source": [
        "model.compile(loss=\"categorical_crossentropy\", optimizer=\"Adam\", metrics=['accuracy'])\n",
        "history=model.fit(xtrain, ytrain, validation_split=(0.2), batch_size=256, epochs=30, verbose=1)"
      ],
      "execution_count": 0,
      "outputs": [
        {
          "output_type": "stream",
          "text": [
            "Train on 190 samples, validate on 48 samples\n",
            "Epoch 1/30\n",
            "190/190 [==============================] - 7s 39ms/step - loss: 0.6955 - accuracy: 0.5632 - val_loss: 0.9320 - val_accuracy: 0.5208\n",
            "Epoch 2/30\n",
            "190/190 [==============================] - 7s 37ms/step - loss: 0.7620 - accuracy: 0.5368 - val_loss: 2.9987 - val_accuracy: 0.5000\n",
            "Epoch 3/30\n",
            "190/190 [==============================] - 7s 38ms/step - loss: 3.1044 - accuracy: 0.4789 - val_loss: 0.8083 - val_accuracy: 0.6250\n",
            "Epoch 4/30\n",
            "190/190 [==============================] - 7s 38ms/step - loss: 0.7454 - accuracy: 0.6105 - val_loss: 0.8492 - val_accuracy: 0.5000\n",
            "Epoch 5/30\n",
            "190/190 [==============================] - 7s 37ms/step - loss: 0.7870 - accuracy: 0.5211 - val_loss: 0.8173 - val_accuracy: 0.5000\n",
            "Epoch 6/30\n",
            "190/190 [==============================] - 7s 37ms/step - loss: 0.7375 - accuracy: 0.5211 - val_loss: 0.6347 - val_accuracy: 0.5000\n",
            "Epoch 7/30\n",
            "190/190 [==============================] - 7s 38ms/step - loss: 0.5537 - accuracy: 0.5421 - val_loss: 0.5576 - val_accuracy: 0.6250\n",
            "Epoch 8/30\n",
            "190/190 [==============================] - 7s 38ms/step - loss: 0.4763 - accuracy: 0.7263 - val_loss: 0.5423 - val_accuracy: 0.6667\n",
            "Epoch 9/30\n",
            "190/190 [==============================] - 7s 37ms/step - loss: 0.4521 - accuracy: 0.8158 - val_loss: 0.5422 - val_accuracy: 0.6042\n",
            "Epoch 10/30\n",
            "190/190 [==============================] - 7s 37ms/step - loss: 0.4415 - accuracy: 0.8105 - val_loss: 0.5321 - val_accuracy: 0.6458\n",
            "Epoch 11/30\n",
            "190/190 [==============================] - 7s 38ms/step - loss: 0.4246 - accuracy: 0.8053 - val_loss: 0.5098 - val_accuracy: 0.6458\n",
            "Epoch 12/30\n",
            "190/190 [==============================] - 7s 38ms/step - loss: 0.3967 - accuracy: 0.8211 - val_loss: 0.4769 - val_accuracy: 0.6875\n",
            "Epoch 13/30\n",
            "190/190 [==============================] - 7s 38ms/step - loss: 0.3635 - accuracy: 0.8316 - val_loss: 0.4389 - val_accuracy: 0.6667\n",
            "Epoch 14/30\n",
            "190/190 [==============================] - 7s 38ms/step - loss: 0.3301 - accuracy: 0.8316 - val_loss: 0.4042 - val_accuracy: 0.7083\n",
            "Epoch 15/30\n",
            "190/190 [==============================] - 7s 37ms/step - loss: 0.2993 - accuracy: 0.8421 - val_loss: 0.3748 - val_accuracy: 0.7292\n",
            "Epoch 16/30\n",
            "190/190 [==============================] - 7s 38ms/step - loss: 0.2699 - accuracy: 0.8737 - val_loss: 0.3369 - val_accuracy: 0.8125\n",
            "Epoch 17/30\n",
            "190/190 [==============================] - 7s 37ms/step - loss: 0.2395 - accuracy: 0.8895 - val_loss: 0.3006 - val_accuracy: 0.8958\n",
            "Epoch 18/30\n",
            "190/190 [==============================] - 7s 38ms/step - loss: 0.2156 - accuracy: 0.9211 - val_loss: 0.2804 - val_accuracy: 0.8958\n",
            "Epoch 19/30\n",
            "190/190 [==============================] - 7s 38ms/step - loss: 0.1883 - accuracy: 0.9211 - val_loss: 0.2887 - val_accuracy: 0.9167\n",
            "Epoch 20/30\n",
            "190/190 [==============================] - 7s 38ms/step - loss: 0.1659 - accuracy: 0.9316 - val_loss: 0.2860 - val_accuracy: 0.8750\n",
            "Epoch 21/30\n",
            "190/190 [==============================] - 7s 38ms/step - loss: 0.1502 - accuracy: 0.9368 - val_loss: 0.2478 - val_accuracy: 0.9167\n",
            "Epoch 22/30\n",
            "190/190 [==============================] - 7s 38ms/step - loss: 0.1352 - accuracy: 0.9316 - val_loss: 0.2240 - val_accuracy: 0.8958\n",
            "Epoch 23/30\n",
            "190/190 [==============================] - 7s 38ms/step - loss: 0.1265 - accuracy: 0.9474 - val_loss: 0.2328 - val_accuracy: 0.8958\n",
            "Epoch 24/30\n",
            "190/190 [==============================] - 7s 39ms/step - loss: 0.1155 - accuracy: 0.9474 - val_loss: 0.2677 - val_accuracy: 0.8958\n",
            "Epoch 25/30\n",
            "190/190 [==============================] - 7s 38ms/step - loss: 0.1065 - accuracy: 0.9474 - val_loss: 0.2934 - val_accuracy: 0.8750\n",
            "Epoch 26/30\n",
            "190/190 [==============================] - 7s 38ms/step - loss: 0.0990 - accuracy: 0.9632 - val_loss: 0.2870 - val_accuracy: 0.8958\n",
            "Epoch 27/30\n",
            "190/190 [==============================] - 7s 37ms/step - loss: 0.0903 - accuracy: 0.9632 - val_loss: 0.2806 - val_accuracy: 0.8958\n",
            "Epoch 28/30\n",
            "190/190 [==============================] - 7s 38ms/step - loss: 0.0838 - accuracy: 0.9632 - val_loss: 0.2963 - val_accuracy: 0.8958\n",
            "Epoch 29/30\n",
            "190/190 [==============================] - 7s 37ms/step - loss: 0.0777 - accuracy: 0.9632 - val_loss: 0.3284 - val_accuracy: 0.8958\n",
            "Epoch 30/30\n",
            "190/190 [==============================] - 7s 38ms/step - loss: 0.0709 - accuracy: 0.9737 - val_loss: 0.3639 - val_accuracy: 0.8958\n"
          ],
          "name": "stdout"
        }
      ]
    },
    {
      "cell_type": "markdown",
      "metadata": {
        "id": "m8npIPizejIH",
        "colab_type": "text"
      },
      "source": [
        "### 3.2.3 Results on Test Data"
      ]
    },
    {
      "cell_type": "code",
      "metadata": {
        "colab_type": "code",
        "outputId": "e22b746c-3758-4216-df06-c7fff20f8f87",
        "id": "vS_5IkVL15Ei",
        "colab": {
          "base_uri": "https://localhost:8080/",
          "height": 51
        }
      },
      "source": [
        "model.evaluate(xtest,ytest)"
      ],
      "execution_count": 0,
      "outputs": [
        {
          "output_type": "stream",
          "text": [
            "60/60 [==============================] - 1s 13ms/step\n"
          ],
          "name": "stdout"
        },
        {
          "output_type": "execute_result",
          "data": {
            "text/plain": [
              "[0.85101717710495, 0.7333333492279053]"
            ]
          },
          "metadata": {
            "tags": []
          },
          "execution_count": 64
        }
      ]
    },
    {
      "cell_type": "code",
      "metadata": {
        "colab_type": "code",
        "outputId": "716c56c2-c3a6-4240-bc47-8137ef1eb2ed",
        "id": "qx7PeXiI15Eo",
        "colab": {
          "base_uri": "https://localhost:8080/",
          "height": 51
        }
      },
      "source": [
        "pred=model.predict(xtest[0].reshape(1,300,300,3))\n",
        "print(pred)\n",
        "print(pred.argmax())"
      ],
      "execution_count": 0,
      "outputs": [
        {
          "output_type": "stream",
          "text": [
            "[[0.93 0.07]]\n",
            "0\n"
          ],
          "name": "stdout"
        }
      ]
    },
    {
      "cell_type": "code",
      "metadata": {
        "colab_type": "code",
        "outputId": "dec4d912-b211-416e-d94c-f998959c7c21",
        "id": "L-KMvJxx15Ew",
        "colab": {
          "base_uri": "https://localhost:8080/",
          "height": 68
        }
      },
      "source": [
        "test_loss,test_acc=model.evaluate(xtest,ytest)\n",
        "print(test_loss)\n",
        "print(test_acc)"
      ],
      "execution_count": 0,
      "outputs": [
        {
          "output_type": "stream",
          "text": [
            "60/60 [==============================] - 1s 13ms/step\n",
            "0.85101717710495\n",
            "0.7333333492279053\n"
          ],
          "name": "stdout"
        }
      ]
    },
    {
      "cell_type": "code",
      "metadata": {
        "colab_type": "code",
        "outputId": "2f1260f2-414e-4cd1-eb1d-9e8aebb4bf06",
        "id": "2OCP4pQU15E2",
        "colab": {
          "base_uri": "https://localhost:8080/",
          "height": 68
        }
      },
      "source": [
        "test_loss,test_acc=model.evaluate(xtest,ytest)\n",
        "print(test_loss)\n",
        "print(test_acc)"
      ],
      "execution_count": 0,
      "outputs": [
        {
          "output_type": "stream",
          "text": [
            "60/60 [==============================] - 1s 12ms/step\n",
            "0.85101717710495\n",
            "0.7333333492279053\n"
          ],
          "name": "stdout"
        }
      ]
    },
    {
      "cell_type": "code",
      "metadata": {
        "colab_type": "code",
        "id": "wPg04Hd815E8",
        "colab": {}
      },
      "source": [
        "train_loss = history.history['loss']\n",
        "train_acc = history.history['accuracy']\n",
        "val_loss = history.history['val_loss']\n",
        "val_acc = history.history['val_accuracy']\n",
        "xc=range(len(train_loss))"
      ],
      "execution_count": 0,
      "outputs": []
    },
    {
      "cell_type": "code",
      "metadata": {
        "colab_type": "code",
        "outputId": "a531d951-d266-4f07-b43d-682310f3246e",
        "id": "X6qu6G9p15FC",
        "colab": {
          "base_uri": "https://localhost:8080/",
          "height": 296
        }
      },
      "source": [
        "import matplotlib.pyplot as plt\n",
        "%matplotlib inline\n",
        "plt.plot(xc, train_loss)\n",
        "plt.plot(xc, val_loss)\n",
        "plt.xlabel(\"Epoch\")\n",
        "plt.ylabel(\"Loss\")\n",
        "plt.legend(['train','val'])"
      ],
      "execution_count": 0,
      "outputs": [
        {
          "output_type": "execute_result",
          "data": {
            "text/plain": [
              "<matplotlib.legend.Legend at 0x7fcf6e83d048>"
            ]
          },
          "metadata": {
            "tags": []
          },
          "execution_count": 69
        },
        {
          "output_type": "display_data",
          "data": {
            "image/png": "[encoded data removed]",
            "text/plain": [
              "<Figure size 432x288 with 1 Axes>"
            ]
          },
          "metadata": {
            "tags": [],
            "needs_background": "light"
          }
        }
      ]
    },
    {
      "cell_type": "code",
      "metadata": {
        "colab_type": "code",
        "outputId": "0acb03d6-6645-4dae-d1e5-87a566ddb1e7",
        "id": "b4DJmakY15FJ",
        "colab": {
          "base_uri": "https://localhost:8080/",
          "height": 296
        }
      },
      "source": [
        "import matplotlib.pyplot as plt\n",
        "%matplotlib inline\n",
        "plt.plot(xc, train_acc)\n",
        "plt.plot(xc, val_acc)\n",
        "plt.xlabel(\"Epoch\")\n",
        "plt.ylabel(\"Acc\")\n",
        "plt.legend(['train','val'])"
      ],
      "execution_count": 0,
      "outputs": [
        {
          "output_type": "execute_result",
          "data": {
            "text/plain": [
              "<matplotlib.legend.Legend at 0x7fcf6cd53eb8>"
            ]
          },
          "metadata": {
            "tags": []
          },
          "execution_count": 70
        },
        {
          "output_type": "display_data",
          "data": {
            "image/png": "[encoded data removed]",
            "text/plain": [
              "<Figure size 432x288 with 1 Axes>"
            ]
          },
          "metadata": {
            "tags": [],
            "needs_background": "light"
          }
        }
      ]
    },
    {
      "cell_type": "code",
      "metadata": {
        "colab_type": "code",
        "outputId": "82444e88-e015-429e-adb8-99317b0ee581",
        "id": "R6FXxPBO15FP",
        "colab": {
          "base_uri": "https://localhost:8080/",
          "height": 187
        }
      },
      "source": [
        "%matplotlib inline\n",
        "for i in range(10):\n",
        "    pred = model.predict(xtest[i].reshape(1, 300, 300, 3))\n",
        "    print(\"\"+str(i+1)+\" Actual is \"+ \" \" + str(ytest[i])+\" Predicted is \"+str(pred.argmax()))"
      ],
      "execution_count": 0,
      "outputs": [
        {
          "output_type": "stream",
          "text": [
            "1 Actual is  [0. 1.] Predicted is 0\n",
            "2 Actual is  [0. 1.] Predicted is 1\n",
            "3 Actual is  [0. 1.] Predicted is 1\n",
            "4 Actual is  [1. 0.] Predicted is 0\n",
            "5 Actual is  [1. 0.] Predicted is 0\n",
            "6 Actual is  [0. 1.] Predicted is 1\n",
            "7 Actual is  [1. 0.] Predicted is 0\n",
            "8 Actual is  [1. 0.] Predicted is 0\n",
            "9 Actual is  [1. 0.] Predicted is 0\n",
            "10 Actual is  [0. 1.] Predicted is 1\n"
          ],
          "name": "stdout"
        }
      ]
    },
    {
      "cell_type": "markdown",
      "metadata": {
        "id": "7RQQb4jmeyQa",
        "colab_type": "text"
      },
      "source": [
        "### 3.2.4 F1 Score and Confusion Matrix"
      ]
    },
    {
      "cell_type": "code",
      "metadata": {
        "colab_type": "code",
        "outputId": "b6ad802c-60d6-40bd-942b-063e1ebf9155",
        "id": "ZeCay5zP15FV",
        "colab": {
          "base_uri": "https://localhost:8080/",
          "height": 170
        }
      },
      "source": [
        "import numpy as np\n",
        "from sklearn.metrics import classification_report,confusion_matrix\n",
        "import itertools\n",
        "\n",
        "Y_pred = model.predict(xtest)\n",
        "y_pred = np.argmax(Y_pred, axis=1)\n",
        "target_names = ['class 0', 'class 1']\n",
        "print(classification_report(np.argmax(ytest,axis=1), y_pred,target_names=target_names))"
      ],
      "execution_count": 0,
      "outputs": [
        {
          "output_type": "stream",
          "text": [
            "              precision    recall  f1-score   support\n",
            "\n",
            "     class 0       0.80      0.71      0.75        34\n",
            "     class 1       0.67      0.77      0.71        26\n",
            "\n",
            "    accuracy                           0.73        60\n",
            "   macro avg       0.73      0.74      0.73        60\n",
            "weighted avg       0.74      0.73      0.73        60\n",
            "\n"
          ],
          "name": "stdout"
        }
      ]
    },
    {
      "cell_type": "code",
      "metadata": {
        "colab_type": "code",
        "outputId": "a0ecbc1a-c740-4f08-8ef0-33fcfacb54e0",
        "id": "069wzJyX15Fc",
        "colab": {
          "base_uri": "https://localhost:8080/",
          "height": 780
        }
      },
      "source": [
        "cnf_matrix = (confusion_matrix(np.argmax(ytest,axis=1), y_pred))\n",
        "np.set_printoptions(precision=2)\n",
        "plt.figure(figsize=(10,10))\n",
        "plot_confusion_matrix(cnf_matrix, classes=target_names,\n",
        "                      title='Confusion matrix')\n",
        "#plt.show()"
      ],
      "execution_count": 0,
      "outputs": [
        {
          "output_type": "stream",
          "text": [
            "Confusion matrix, without normalization\n",
            "[[24 10]\n",
            " [ 6 20]]\n"
          ],
          "name": "stdout"
        },
        {
          "output_type": "display_data",
          "data": {
            "image/png": "[encoded data removed]",
            "text/plain": [
              "<Figure size 720x720 with 2 Axes>"
            ]
          },
          "metadata": {
            "tags": [],
            "needs_background": "light"
          }
        }
      ]
    },
    {
      "cell_type": "markdown",
      "metadata": {
        "id": "PT4h9Ub8fCOq",
        "colab_type": "text"
      },
      "source": [
        "## 3.3 4-Convolutional Layers with Max-Pooling(5X5) and 2 Dense Layers And Dropout to avoid overfitting"
      ]
    },
    {
      "cell_type": "markdown",
      "metadata": {
        "id": "kWuXA-PCfsMG",
        "colab_type": "text"
      },
      "source": [
        "### 3.3.1 Model Structure"
      ]
    },
    {
      "cell_type": "code",
      "metadata": {
        "colab_type": "code",
        "outputId": "6f627173-f4c1-416c-e4e1-dff69538675e",
        "id": "VDSyrcT5YJJf",
        "colab": {
          "base_uri": "https://localhost:8080/",
          "height": 629
        }
      },
      "source": [
        "model = models.Sequential()\n",
        "\n",
        "model.add(layers.Conv2D(16, (3,3), input_shape=(300,300,3), activation='relu', strides=(1,1), padding='valid'))\n",
        "model.add(layers.MaxPooling2D(pool_size=(3,3), strides=(2,2)))\n",
        "\n",
        "model.add(layers.Conv2D(32, (5,5),activation='relu', strides=(1,1), padding='valid'))\n",
        "model.add(layers.MaxPooling2D(pool_size=(3,3), strides=(2,2)))\n",
        "\n",
        "model.add(layers.Conv2D(32, (5,5),activation='relu', strides=(1,1), padding='valid'))\n",
        "model.add(layers.MaxPooling2D(pool_size=(3,3), strides=(2,2)))\n",
        "\n",
        "model.add(layers.Conv2D(32, (5,5),activation='relu', strides=(1,1), padding='valid'))\n",
        "model.add(layers.MaxPooling2D(pool_size=(3,3), strides=(2,2)))\n",
        "\n",
        "\n",
        "model.add(layers.Flatten())\n",
        "\n",
        "model.add(layers.Dense(256, activation='relu'))\n",
        "model.add(layers.Dropout(0.40))\n",
        "model.add(layers.Dense(128, activation='relu'))\n",
        "model.add(layers.Dropout(0.40))\n",
        "model.add(layers.Dense(2, activation='softmax'))\n",
        "\n",
        "model.summary()"
      ],
      "execution_count": 0,
      "outputs": [
        {
          "output_type": "stream",
          "text": [
            "Model: \"sequential_7\"\n",
            "_________________________________________________________________\n",
            "Layer (type)                 Output Shape              Param #   \n",
            "=================================================================\n",
            "conv2d_20 (Conv2D)           (None, 298, 298, 16)      448       \n",
            "_________________________________________________________________\n",
            "max_pooling2d_14 (MaxPooling (None, 148, 148, 16)      0         \n",
            "_________________________________________________________________\n",
            "conv2d_21 (Conv2D)           (None, 144, 144, 32)      12832     \n",
            "_________________________________________________________________\n",
            "max_pooling2d_15 (MaxPooling (None, 71, 71, 32)        0         \n",
            "_________________________________________________________________\n",
            "conv2d_22 (Conv2D)           (None, 67, 67, 32)        25632     \n",
            "_________________________________________________________________\n",
            "max_pooling2d_16 (MaxPooling (None, 33, 33, 32)        0         \n",
            "_________________________________________________________________\n",
            "conv2d_23 (Conv2D)           (None, 29, 29, 32)        25632     \n",
            "_________________________________________________________________\n",
            "max_pooling2d_17 (MaxPooling (None, 14, 14, 32)        0         \n",
            "_________________________________________________________________\n",
            "flatten_7 (Flatten)          (None, 6272)              0         \n",
            "_________________________________________________________________\n",
            "dense_19 (Dense)             (None, 256)               1605888   \n",
            "_________________________________________________________________\n",
            "dropout_3 (Dropout)          (None, 256)               0         \n",
            "_________________________________________________________________\n",
            "dense_20 (Dense)             (None, 128)               32896     \n",
            "_________________________________________________________________\n",
            "dropout_4 (Dropout)          (None, 128)               0         \n",
            "_________________________________________________________________\n",
            "dense_21 (Dense)             (None, 2)                 258       \n",
            "=================================================================\n",
            "Total params: 1,703,586\n",
            "Trainable params: 1,703,586\n",
            "Non-trainable params: 0\n",
            "_________________________________________________________________\n"
          ],
          "name": "stdout"
        }
      ]
    },
    {
      "cell_type": "markdown",
      "metadata": {
        "id": "NWM8aJznfysU",
        "colab_type": "text"
      },
      "source": [
        "### 3.3.2 Compiling and training the Model"
      ]
    },
    {
      "cell_type": "code",
      "metadata": {
        "colab_type": "code",
        "outputId": "99db66a5-a8ef-4ebf-e65b-cc7e92567023",
        "id": "PTlBJoVTovZU",
        "colab": {
          "base_uri": "https://localhost:8080/",
          "height": 1000
        }
      },
      "source": [
        "model.compile(loss=\"binary_crossentropy\", optimizer=\"Adam\", metrics=['accuracy'])\n",
        "history=model.fit(xtrain, ytrain, validation_split=(0.2), batch_size=256, epochs=50, verbose=1)"
      ],
      "execution_count": 0,
      "outputs": [
        {
          "output_type": "stream",
          "text": [
            "Train on 190 samples, validate on 48 samples\n",
            "Epoch 1/50\n",
            "190/190 [==============================] - 14s 76ms/step - loss: 0.8023 - accuracy: 0.5158 - val_loss: 1.0274 - val_accuracy: 0.5000\n",
            "Epoch 2/50\n",
            "190/190 [==============================] - 14s 74ms/step - loss: 1.0710 - accuracy: 0.5211 - val_loss: 0.6955 - val_accuracy: 0.5000\n",
            "Epoch 3/50\n",
            "190/190 [==============================] - 14s 74ms/step - loss: 0.6912 - accuracy: 0.5316 - val_loss: 0.6985 - val_accuracy: 0.5000\n",
            "Epoch 4/50\n",
            "190/190 [==============================] - 14s 74ms/step - loss: 0.7008 - accuracy: 0.4947 - val_loss: 0.6940 - val_accuracy: 0.5000\n",
            "Epoch 5/50\n",
            "190/190 [==============================] - 14s 74ms/step - loss: 0.6936 - accuracy: 0.5316 - val_loss: 0.6910 - val_accuracy: 0.5208\n",
            "Epoch 6/50\n",
            "190/190 [==============================] - 14s 74ms/step - loss: 0.6827 - accuracy: 0.5737 - val_loss: 0.6865 - val_accuracy: 0.7292\n",
            "Epoch 7/50\n",
            "190/190 [==============================] - 14s 73ms/step - loss: 0.6859 - accuracy: 0.5421 - val_loss: 0.6832 - val_accuracy: 0.6875\n",
            "Epoch 8/50\n",
            "190/190 [==============================] - 14s 74ms/step - loss: 0.6802 - accuracy: 0.6158 - val_loss: 0.6758 - val_accuracy: 0.6458\n",
            "Epoch 9/50\n",
            "190/190 [==============================] - 14s 73ms/step - loss: 0.6759 - accuracy: 0.6368 - val_loss: 0.6646 - val_accuracy: 0.6250\n",
            "Epoch 10/50\n",
            "190/190 [==============================] - 14s 73ms/step - loss: 0.6577 - accuracy: 0.6368 - val_loss: 0.6466 - val_accuracy: 0.6250\n",
            "Epoch 11/50\n",
            "190/190 [==============================] - 14s 73ms/step - loss: 0.6289 - accuracy: 0.7105 - val_loss: 0.6207 - val_accuracy: 0.6250\n",
            "Epoch 12/50\n",
            "190/190 [==============================] - 14s 73ms/step - loss: 0.6279 - accuracy: 0.6526 - val_loss: 0.5952 - val_accuracy: 0.6250\n",
            "Epoch 13/50\n",
            "190/190 [==============================] - 14s 74ms/step - loss: 0.6013 - accuracy: 0.6684 - val_loss: 0.5656 - val_accuracy: 0.6250\n",
            "Epoch 14/50\n",
            "190/190 [==============================] - 14s 74ms/step - loss: 0.5906 - accuracy: 0.6526 - val_loss: 0.5466 - val_accuracy: 0.6042\n",
            "Epoch 15/50\n",
            "190/190 [==============================] - 14s 75ms/step - loss: 0.5484 - accuracy: 0.6842 - val_loss: 0.5419 - val_accuracy: 0.5833\n",
            "Epoch 16/50\n",
            "190/190 [==============================] - 14s 74ms/step - loss: 0.5188 - accuracy: 0.6579 - val_loss: 0.5210 - val_accuracy: 0.6458\n",
            "Epoch 17/50\n",
            "190/190 [==============================] - 14s 74ms/step - loss: 0.5049 - accuracy: 0.7105 - val_loss: 0.5126 - val_accuracy: 0.6458\n",
            "Epoch 18/50\n",
            "190/190 [==============================] - 14s 74ms/step - loss: 0.4473 - accuracy: 0.7526 - val_loss: 0.5135 - val_accuracy: 0.6875\n",
            "Epoch 19/50\n",
            "190/190 [==============================] - 14s 74ms/step - loss: 0.4226 - accuracy: 0.7737 - val_loss: 0.4991 - val_accuracy: 0.6667\n",
            "Epoch 20/50\n",
            "190/190 [==============================] - 14s 74ms/step - loss: 0.3971 - accuracy: 0.8105 - val_loss: 0.4846 - val_accuracy: 0.7083\n",
            "Epoch 21/50\n",
            "190/190 [==============================] - 14s 74ms/step - loss: 0.3711 - accuracy: 0.8000 - val_loss: 0.4827 - val_accuracy: 0.7708\n",
            "Epoch 22/50\n",
            "190/190 [==============================] - 14s 74ms/step - loss: 0.3297 - accuracy: 0.8474 - val_loss: 0.4978 - val_accuracy: 0.8125\n",
            "Epoch 23/50\n",
            "190/190 [==============================] - 14s 74ms/step - loss: 0.3436 - accuracy: 0.8632 - val_loss: 0.4702 - val_accuracy: 0.7708\n",
            "Epoch 24/50\n",
            "190/190 [==============================] - 14s 74ms/step - loss: 0.2578 - accuracy: 0.8737 - val_loss: 0.5246 - val_accuracy: 0.7083\n",
            "Epoch 25/50\n",
            "190/190 [==============================] - 14s 74ms/step - loss: 0.3283 - accuracy: 0.8316 - val_loss: 0.4511 - val_accuracy: 0.8125\n",
            "Epoch 26/50\n",
            "190/190 [==============================] - 14s 74ms/step - loss: 0.2508 - accuracy: 0.8947 - val_loss: 0.4808 - val_accuracy: 0.8333\n",
            "Epoch 27/50\n",
            "190/190 [==============================] - 14s 73ms/step - loss: 0.2655 - accuracy: 0.8895 - val_loss: 0.4184 - val_accuracy: 0.8750\n",
            "Epoch 28/50\n",
            "190/190 [==============================] - 14s 73ms/step - loss: 0.1944 - accuracy: 0.9053 - val_loss: 0.4521 - val_accuracy: 0.8542\n",
            "Epoch 29/50\n",
            "190/190 [==============================] - 14s 72ms/step - loss: 0.2034 - accuracy: 0.9105 - val_loss: 0.4941 - val_accuracy: 0.8125\n",
            "Epoch 30/50\n",
            "190/190 [==============================] - 14s 73ms/step - loss: 0.1968 - accuracy: 0.9053 - val_loss: 0.4558 - val_accuracy: 0.8542\n",
            "Epoch 31/50\n",
            "190/190 [==============================] - 14s 72ms/step - loss: 0.1743 - accuracy: 0.9158 - val_loss: 0.4145 - val_accuracy: 0.9167\n",
            "Epoch 32/50\n",
            "190/190 [==============================] - 14s 71ms/step - loss: 0.1722 - accuracy: 0.9263 - val_loss: 0.4213 - val_accuracy: 0.9167\n",
            "Epoch 33/50\n",
            "190/190 [==============================] - 14s 72ms/step - loss: 0.1382 - accuracy: 0.9421 - val_loss: 0.4409 - val_accuracy: 0.9167\n",
            "Epoch 34/50\n",
            "190/190 [==============================] - 14s 71ms/step - loss: 0.1437 - accuracy: 0.9263 - val_loss: 0.4715 - val_accuracy: 0.9167\n",
            "Epoch 35/50\n",
            "190/190 [==============================] - 13s 70ms/step - loss: 0.1292 - accuracy: 0.9368 - val_loss: 0.5194 - val_accuracy: 0.8958\n",
            "Epoch 36/50\n",
            "190/190 [==============================] - 14s 73ms/step - loss: 0.1177 - accuracy: 0.9368 - val_loss: 0.5852 - val_accuracy: 0.8958\n",
            "Epoch 37/50\n",
            "190/190 [==============================] - 14s 71ms/step - loss: 0.1074 - accuracy: 0.9421 - val_loss: 0.6403 - val_accuracy: 0.8750\n",
            "Epoch 38/50\n",
            "190/190 [==============================] - 13s 70ms/step - loss: 0.1144 - accuracy: 0.9474 - val_loss: 0.6637 - val_accuracy: 0.8750\n",
            "Epoch 39/50\n",
            "190/190 [==============================] - 13s 70ms/step - loss: 0.1114 - accuracy: 0.9421 - val_loss: 0.6620 - val_accuracy: 0.8750\n",
            "Epoch 40/50\n",
            "190/190 [==============================] - 13s 70ms/step - loss: 0.0987 - accuracy: 0.9474 - val_loss: 0.6943 - val_accuracy: 0.8750\n",
            "Epoch 41/50\n",
            "190/190 [==============================] - 13s 71ms/step - loss: 0.1135 - accuracy: 0.9368 - val_loss: 0.6939 - val_accuracy: 0.8958\n",
            "Epoch 42/50\n",
            "190/190 [==============================] - 13s 70ms/step - loss: 0.1211 - accuracy: 0.9421 - val_loss: 0.6903 - val_accuracy: 0.8958\n",
            "Epoch 43/50\n",
            "190/190 [==============================] - 13s 70ms/step - loss: 0.0848 - accuracy: 0.9474 - val_loss: 0.7484 - val_accuracy: 0.8750\n",
            "Epoch 44/50\n",
            "190/190 [==============================] - 13s 70ms/step - loss: 0.0890 - accuracy: 0.9421 - val_loss: 0.8255 - val_accuracy: 0.8750\n",
            "Epoch 45/50\n",
            "190/190 [==============================] - 13s 70ms/step - loss: 0.0806 - accuracy: 0.9579 - val_loss: 0.8832 - val_accuracy: 0.8542\n",
            "Epoch 46/50\n",
            "190/190 [==============================] - 13s 69ms/step - loss: 0.0850 - accuracy: 0.9421 - val_loss: 0.8529 - val_accuracy: 0.8542\n",
            "Epoch 47/50\n",
            "190/190 [==============================] - 13s 71ms/step - loss: 0.0792 - accuracy: 0.9579 - val_loss: 0.7990 - val_accuracy: 0.8750\n",
            "Epoch 48/50\n",
            "190/190 [==============================] - 13s 70ms/step - loss: 0.0791 - accuracy: 0.9632 - val_loss: 0.7718 - val_accuracy: 0.8958\n",
            "Epoch 49/50\n",
            "190/190 [==============================] - 13s 71ms/step - loss: 0.0687 - accuracy: 0.9632 - val_loss: 0.7791 - val_accuracy: 0.8958\n",
            "Epoch 50/50\n",
            "190/190 [==============================] - 14s 73ms/step - loss: 0.0557 - accuracy: 0.9737 - val_loss: 0.7960 - val_accuracy: 0.8542\n"
          ],
          "name": "stdout"
        }
      ]
    },
    {
      "cell_type": "markdown",
      "metadata": {
        "id": "_H1etrysf6lQ",
        "colab_type": "text"
      },
      "source": [
        "### 3.3.3 Results on Test Data"
      ]
    },
    {
      "cell_type": "code",
      "metadata": {
        "colab_type": "code",
        "outputId": "b419bef9-1f14-4326-d1ec-efe12ba0a164",
        "id": "TSdXLDMopATw",
        "colab": {
          "base_uri": "https://localhost:8080/",
          "height": 51
        }
      },
      "source": [
        "model.evaluate(xtest,ytest)"
      ],
      "execution_count": 0,
      "outputs": [
        {
          "output_type": "stream",
          "text": [
            "60/60 [==============================] - 1s 18ms/step\n"
          ],
          "name": "stdout"
        },
        {
          "output_type": "execute_result",
          "data": {
            "text/plain": [
              "[1.3973800659179687, 0.7666666507720947]"
            ]
          },
          "metadata": {
            "tags": []
          },
          "execution_count": 76
        }
      ]
    },
    {
      "cell_type": "code",
      "metadata": {
        "colab_type": "code",
        "outputId": "a2db34f1-df20-420d-a588-f85d8473cbb8",
        "id": "KBeF0Fh5pAT6",
        "colab": {
          "base_uri": "https://localhost:8080/",
          "height": 51
        }
      },
      "source": [
        "pred=model.predict(xtest[0].reshape(1,300,300,3))\n",
        "print(pred)\n",
        "print(pred.argmax())"
      ],
      "execution_count": 0,
      "outputs": [
        {
          "output_type": "stream",
          "text": [
            "[[0.02 0.98]]\n",
            "1\n"
          ],
          "name": "stdout"
        }
      ]
    },
    {
      "cell_type": "code",
      "metadata": {
        "colab_type": "code",
        "outputId": "43257787-d626-41a0-9a7a-40bb0dd1dedd",
        "id": "4njq_8DopAT-",
        "colab": {
          "base_uri": "https://localhost:8080/",
          "height": 68
        }
      },
      "source": [
        "test_loss,test_acc=model.evaluate(xtest,ytest)\n",
        "print(test_loss)\n",
        "print(test_acc)"
      ],
      "execution_count": 0,
      "outputs": [
        {
          "output_type": "stream",
          "text": [
            "60/60 [==============================] - 1s 19ms/step\n",
            "1.3973800659179687\n",
            "0.7666666507720947\n"
          ],
          "name": "stdout"
        }
      ]
    },
    {
      "cell_type": "code",
      "metadata": {
        "colab_type": "code",
        "outputId": "528e1ac1-f29a-401b-8ad2-2c9caa496034",
        "id": "QDAkdD4npAUB",
        "colab": {
          "base_uri": "https://localhost:8080/",
          "height": 68
        }
      },
      "source": [
        "test_loss,test_acc=model.evaluate(xtest,ytest)\n",
        "print(test_loss)\n",
        "print(test_acc)"
      ],
      "execution_count": 0,
      "outputs": [
        {
          "output_type": "stream",
          "text": [
            "60/60 [==============================] - 1s 19ms/step\n",
            "1.3973800659179687\n",
            "0.7666666507720947\n"
          ],
          "name": "stdout"
        }
      ]
    },
    {
      "cell_type": "code",
      "metadata": {
        "colab_type": "code",
        "id": "4l1wlJ3QpAUF",
        "colab": {}
      },
      "source": [
        "train_loss = history.history['loss']\n",
        "train_acc = history.history['accuracy']\n",
        "val_loss = history.history['val_loss']\n",
        "val_acc = history.history['val_accuracy']\n",
        "xc=range(len(train_loss))"
      ],
      "execution_count": 0,
      "outputs": []
    },
    {
      "cell_type": "code",
      "metadata": {
        "colab_type": "code",
        "outputId": "661069d2-3781-47a0-d026-f94fcd2157c3",
        "id": "XccQsvvxpAUJ",
        "colab": {
          "base_uri": "https://localhost:8080/",
          "height": 296
        }
      },
      "source": [
        "import matplotlib.pyplot as plt\n",
        "%matplotlib inline\n",
        "plt.plot(xc, train_loss)\n",
        "plt.plot(xc, val_loss)\n",
        "plt.xlabel(\"Epoch\")\n",
        "plt.ylabel(\"Loss\")\n",
        "plt.legend(['train','val'])"
      ],
      "execution_count": 0,
      "outputs": [
        {
          "output_type": "execute_result",
          "data": {
            "text/plain": [
              "<matplotlib.legend.Legend at 0x7fcf6aa94400>"
            ]
          },
          "metadata": {
            "tags": []
          },
          "execution_count": 81
        },
        {
          "output_type": "display_data",
          "data": {
            "image/png": "[encoded data removed]",
            "text/plain": [
              "<Figure size 432x288 with 1 Axes>"
            ]
          },
          "metadata": {
            "tags": [],
            "needs_background": "light"
          }
        }
      ]
    },
    {
      "cell_type": "code",
      "metadata": {
        "colab_type": "code",
        "outputId": "2d3fb43a-69d5-40fe-8e35-05caa43543b7",
        "id": "YDmKZugOpAUN",
        "colab": {
          "base_uri": "https://localhost:8080/",
          "height": 296
        }
      },
      "source": [
        "import matplotlib.pyplot as plt\n",
        "%matplotlib inline\n",
        "plt.plot(xc, train_acc)\n",
        "plt.plot(xc, val_acc)\n",
        "plt.xlabel(\"Epoch\")\n",
        "plt.ylabel(\"Acc\")\n",
        "plt.legend(['train','val'])"
      ],
      "execution_count": 0,
      "outputs": [
        {
          "output_type": "execute_result",
          "data": {
            "text/plain": [
              "<matplotlib.legend.Legend at 0x7fcf6a9f97f0>"
            ]
          },
          "metadata": {
            "tags": []
          },
          "execution_count": 82
        },
        {
          "output_type": "display_data",
          "data": {
            "image/png": "[encoded data removed]",
            "text/plain": [
              "<Figure size 432x288 with 1 Axes>"
            ]
          },
          "metadata": {
            "tags": [],
            "needs_background": "light"
          }
        }
      ]
    },
    {
      "cell_type": "code",
      "metadata": {
        "colab_type": "code",
        "outputId": "d3b72b6c-80f6-4f35-ddd8-c8a2e6d5c1f1",
        "id": "96ZtgcXrpAUQ",
        "colab": {
          "base_uri": "https://localhost:8080/",
          "height": 187
        }
      },
      "source": [
        "%matplotlib inline\n",
        "for i in range(10):\n",
        "    pred = model.predict(xtest[i].reshape(1, 300, 300, 3))\n",
        "    print(\"\"+str(i+1)+\" Actual is \"+ \" \" + str(ytest[i])+\" Predicted is \"+str(pred.argmax()))"
      ],
      "execution_count": 0,
      "outputs": [
        {
          "output_type": "stream",
          "text": [
            "1 Actual is  [0. 1.] Predicted is 1\n",
            "2 Actual is  [0. 1.] Predicted is 1\n",
            "3 Actual is  [0. 1.] Predicted is 1\n",
            "4 Actual is  [1. 0.] Predicted is 0\n",
            "5 Actual is  [1. 0.] Predicted is 0\n",
            "6 Actual is  [0. 1.] Predicted is 1\n",
            "7 Actual is  [1. 0.] Predicted is 1\n",
            "8 Actual is  [1. 0.] Predicted is 0\n",
            "9 Actual is  [1. 0.] Predicted is 0\n",
            "10 Actual is  [0. 1.] Predicted is 1\n"
          ],
          "name": "stdout"
        }
      ]
    },
    {
      "cell_type": "markdown",
      "metadata": {
        "id": "v_diVWNPgAw5",
        "colab_type": "text"
      },
      "source": [
        "### 3.3.4 F1 Score and Confusion Matrix"
      ]
    },
    {
      "cell_type": "code",
      "metadata": {
        "colab_type": "code",
        "outputId": "8c6d59c3-c07e-4d96-f689-f04078e0e28f",
        "id": "NN3SZnj6pAUT",
        "colab": {
          "base_uri": "https://localhost:8080/",
          "height": 170
        }
      },
      "source": [
        "import numpy as np\n",
        "from sklearn.metrics import classification_report,confusion_matrix\n",
        "import itertools\n",
        "\n",
        "Y_pred = model.predict(xtest)\n",
        "y_pred = np.argmax(Y_pred, axis=1)\n",
        "target_names = ['class 0', 'class 1']\n",
        "print(classification_report(np.argmax(ytest,axis=1), y_pred,target_names=target_names))"
      ],
      "execution_count": 0,
      "outputs": [
        {
          "output_type": "stream",
          "text": [
            "              precision    recall  f1-score   support\n",
            "\n",
            "     class 0       0.83      0.74      0.78        34\n",
            "     class 1       0.70      0.81      0.75        26\n",
            "\n",
            "    accuracy                           0.77        60\n",
            "   macro avg       0.77      0.77      0.77        60\n",
            "weighted avg       0.78      0.77      0.77        60\n",
            "\n"
          ],
          "name": "stdout"
        }
      ]
    },
    {
      "cell_type": "code",
      "metadata": {
        "colab_type": "code",
        "outputId": "91f5562e-62f5-41b2-ec3a-11a227267f88",
        "id": "PazplRNgpAUW",
        "colab": {
          "base_uri": "https://localhost:8080/",
          "height": 780
        }
      },
      "source": [
        "cnf_matrix = (confusion_matrix(np.argmax(ytest,axis=1), y_pred))\n",
        "np.set_printoptions(precision=2)\n",
        "plt.figure(figsize=(10,10))\n",
        "plot_confusion_matrix(cnf_matrix, classes=target_names,\n",
        "                      title='Confusion matrix')\n",
        "#plt.show()"
      ],
      "execution_count": 0,
      "outputs": [
        {
          "output_type": "stream",
          "text": [
            "Confusion matrix, without normalization\n",
            "[[25  9]\n",
            " [ 5 21]]\n"
          ],
          "name": "stdout"
        },
        {
          "output_type": "display_data",
          "data": {
            "image/png": "[encoded data removed]",
            "text/plain": [
              "<Figure size 720x720 with 2 Axes>"
            ]
          },
          "metadata": {
            "tags": [],
            "needs_background": "light"
          }
        }
      ]
    },
    {
      "cell_type": "markdown",
      "metadata": {
        "id": "kBedh7sOnMyv",
        "colab_type": "text"
      },
      "source": [
        "## 3.4 Model - 3 with Data Augumentation"
      ]
    },
    {
      "cell_type": "markdown",
      "metadata": {
        "id": "vF9SZoZpnfbG",
        "colab_type": "text"
      },
      "source": [
        "### 3.4.1 Model Structure"
      ]
    },
    {
      "cell_type": "code",
      "metadata": {
        "colab_type": "code",
        "outputId": "8fe9a123-9f45-45b5-f569-67bb92d16905",
        "id": "5winzWv7pKAN",
        "colab": {
          "base_uri": "https://localhost:8080/",
          "height": 683
        }
      },
      "source": [
        "model = models.Sequential()\n",
        "\n",
        "model.add(layers.Conv2D(16, (3,3), input_shape=(300,300,3), activation='relu', strides=(1,1), padding='valid'))\n",
        "model.add(layers.MaxPooling2D(pool_size=(3,3), strides=(2,2)))\n",
        "\n",
        "model.add(layers.Conv2D(32, (5,5),activation='relu', strides=(1,1), padding='valid'))\n",
        "model.add(layers.MaxPooling2D(pool_size=(3,3), strides=(2,2)))\n",
        "\n",
        "model.add(layers.Conv2D(32, (5,5),activation='relu', strides=(1,1), padding='valid'))\n",
        "model.add(layers.MaxPooling2D(pool_size=(3,3), strides=(2,2)))\n",
        "\n",
        "model.add(layers.Conv2D(32, (5,5),activation='relu', strides=(1,1), padding='valid'))\n",
        "model.add(layers.MaxPooling2D(pool_size=(3,3), strides=(2,2)))\n",
        "\n",
        "\n",
        "model.add(layers.Flatten())\n",
        "\n",
        "model.add(layers.Dense(256, activation='relu'))\n",
        "model.add(layers.Dropout(0.40))\n",
        "model.add(layers.Dense(128, activation='relu'))\n",
        "model.add(layers.Dropout(0.40))\n",
        "model.add(layers.Dense(2, activation='softmax'))\n",
        "\n",
        "model.summary()"
      ],
      "execution_count": 0,
      "outputs": [
        {
          "output_type": "stream",
          "text": [
            "WARNING:tensorflow:From /usr/local/lib/python3.6/dist-packages/keras/backend/tensorflow_backend.py:4070: The name tf.nn.max_pool is deprecated. Please use tf.nn.max_pool2d instead.\n",
            "\n",
            "Model: \"sequential_1\"\n",
            "_________________________________________________________________\n",
            "Layer (type)                 Output Shape              Param #   \n",
            "=================================================================\n",
            "conv2d_1 (Conv2D)            (None, 298, 298, 16)      448       \n",
            "_________________________________________________________________\n",
            "max_pooling2d_1 (MaxPooling2 (None, 148, 148, 16)      0         \n",
            "_________________________________________________________________\n",
            "conv2d_2 (Conv2D)            (None, 144, 144, 32)      12832     \n",
            "_________________________________________________________________\n",
            "max_pooling2d_2 (MaxPooling2 (None, 71, 71, 32)        0         \n",
            "_________________________________________________________________\n",
            "conv2d_3 (Conv2D)            (None, 67, 67, 32)        25632     \n",
            "_________________________________________________________________\n",
            "max_pooling2d_3 (MaxPooling2 (None, 33, 33, 32)        0         \n",
            "_________________________________________________________________\n",
            "conv2d_4 (Conv2D)            (None, 29, 29, 32)        25632     \n",
            "_________________________________________________________________\n",
            "max_pooling2d_4 (MaxPooling2 (None, 14, 14, 32)        0         \n",
            "_________________________________________________________________\n",
            "flatten_1 (Flatten)          (None, 6272)              0         \n",
            "_________________________________________________________________\n",
            "dense_1 (Dense)              (None, 256)               1605888   \n",
            "_________________________________________________________________\n",
            "dropout_1 (Dropout)          (None, 256)               0         \n",
            "_________________________________________________________________\n",
            "dense_2 (Dense)              (None, 128)               32896     \n",
            "_________________________________________________________________\n",
            "dropout_2 (Dropout)          (None, 128)               0         \n",
            "_________________________________________________________________\n",
            "dense_3 (Dense)              (None, 2)                 258       \n",
            "=================================================================\n",
            "Total params: 1,703,586\n",
            "Trainable params: 1,703,586\n",
            "Non-trainable params: 0\n",
            "_________________________________________________________________\n"
          ],
          "name": "stdout"
        }
      ]
    },
    {
      "cell_type": "markdown",
      "metadata": {
        "id": "5Y6MNacfnYm8",
        "colab_type": "text"
      },
      "source": [
        "### 3.4.2 Compiling and training\n"
      ]
    },
    {
      "cell_type": "code",
      "metadata": {
        "colab_type": "code",
        "outputId": "6a5c9e5f-1ee4-495d-a5eb-6e12295a3d36",
        "id": "DE9Rh19SpOAI",
        "colab": {
          "base_uri": "https://localhost:8080/",
          "height": 802
        }
      },
      "source": [
        "from keras.layers import Input, Lambda, Dense, Flatten\n",
        "from keras.models import Model\n",
        "from keras.applications.vgg16 import VGG16\n",
        "from keras.applications.vgg16 import preprocess_input\n",
        "from keras.preprocessing import image\n",
        "from keras.preprocessing.image import ImageDataGenerator\n",
        "from keras.models import Sequential\n",
        "import numpy as np\n",
        "from glob import glob\n",
        "import matplotlib.pyplot as plt\n",
        "\n",
        "model.compile(loss='binary_crossentropy',\n",
        "              optimizer='Adam',\n",
        "              metrics=['accuracy'])\n",
        "\n",
        "datagen = ImageDataGenerator(zoom_range=0.3, rotation_range=50,\n",
        "                                   width_shift_range=0.2, height_shift_range=0.2, shear_range=0.2, \n",
        "                                   horizontal_flip=True, fill_mode='nearest')\n",
        "it_train = datagen.flow(xtrain, ytrain, batch_size=32)\n",
        "# fit model\n",
        "steps = int(xtrain.shape[0] / 32)\n",
        "history = model.fit_generator(it_train, steps_per_epoch=steps, epochs=20, validation_data=(xtest, ytest), verbose=1)\n",
        "# evaluate model  "
      ],
      "execution_count": 0,
      "outputs": [
        {
          "output_type": "stream",
          "text": [
            "WARNING:tensorflow:From /usr/local/lib/python3.6/dist-packages/tensorflow/python/ops/math_grad.py:1250: add_dispatch_support.<locals>.wrapper (from tensorflow.python.ops.array_ops) is deprecated and will be removed in a future version.\n",
            "Instructions for updating:\n",
            "Use tf.where in 2.0, which has the same broadcast rule as np.where\n",
            "WARNING:tensorflow:From /usr/local/lib/python3.6/dist-packages/keras/backend/tensorflow_backend.py:422: The name tf.global_variables is deprecated. Please use tf.compat.v1.global_variables instead.\n",
            "\n",
            "Epoch 1/20\n",
            "7/7 [==============================] - 18s 3s/step - loss: 0.7786 - accuracy: 0.4903 - val_loss: 0.7005 - val_accuracy: 0.4333\n",
            "Epoch 2/20\n",
            "7/7 [==============================] - 17s 2s/step - loss: 0.6925 - accuracy: 0.4951 - val_loss: 0.6819 - val_accuracy: 0.6500\n",
            "Epoch 3/20\n",
            "7/7 [==============================] - 17s 2s/step - loss: 0.6876 - accuracy: 0.5000 - val_loss: 0.6683 - val_accuracy: 0.4000\n",
            "Epoch 4/20\n",
            "7/7 [==============================] - 18s 3s/step - loss: 0.6335 - accuracy: 0.5938 - val_loss: 0.6189 - val_accuracy: 0.6833\n",
            "Epoch 5/20\n",
            "7/7 [==============================] - 17s 2s/step - loss: 0.5896 - accuracy: 0.6262 - val_loss: 0.6651 - val_accuracy: 0.6833\n",
            "Epoch 6/20\n",
            "7/7 [==============================] - 17s 2s/step - loss: 0.6433 - accuracy: 0.5777 - val_loss: 0.6307 - val_accuracy: 0.6833\n",
            "Epoch 7/20\n",
            "7/7 [==============================] - 17s 2s/step - loss: 0.6242 - accuracy: 0.5631 - val_loss: 0.6684 - val_accuracy: 0.6333\n",
            "Epoch 8/20\n",
            "7/7 [==============================] - 17s 2s/step - loss: 0.5980 - accuracy: 0.6408 - val_loss: 0.6604 - val_accuracy: 0.7000\n",
            "Epoch 9/20\n",
            "7/7 [==============================] - 16s 2s/step - loss: 0.5889 - accuracy: 0.6359 - val_loss: 0.6103 - val_accuracy: 0.7000\n",
            "Epoch 10/20\n",
            "7/7 [==============================] - 17s 2s/step - loss: 0.5822 - accuracy: 0.6602 - val_loss: 0.6274 - val_accuracy: 0.7000\n",
            "Epoch 11/20\n",
            "7/7 [==============================] - 17s 2s/step - loss: 0.5725 - accuracy: 0.6408 - val_loss: 0.6330 - val_accuracy: 0.7000\n",
            "Epoch 12/20\n",
            "7/7 [==============================] - 19s 3s/step - loss: 0.5502 - accuracy: 0.6786 - val_loss: 0.6507 - val_accuracy: 0.7000\n",
            "Epoch 13/20\n",
            "7/7 [==============================] - 17s 2s/step - loss: 0.5993 - accuracy: 0.6505 - val_loss: 0.5953 - val_accuracy: 0.7000\n",
            "Epoch 14/20\n",
            "7/7 [==============================] - 16s 2s/step - loss: 0.5613 - accuracy: 0.6755 - val_loss: 0.6261 - val_accuracy: 0.7167\n",
            "Epoch 15/20\n",
            "7/7 [==============================] - 18s 3s/step - loss: 0.5630 - accuracy: 0.6473 - val_loss: 0.6482 - val_accuracy: 0.7167\n",
            "Epoch 16/20\n",
            "7/7 [==============================] - 17s 2s/step - loss: 0.5638 - accuracy: 0.6456 - val_loss: 0.6357 - val_accuracy: 0.7000\n",
            "Epoch 17/20\n",
            "7/7 [==============================] - 17s 2s/step - loss: 0.5549 - accuracy: 0.6796 - val_loss: 0.6554 - val_accuracy: 0.7000\n",
            "Epoch 18/20\n",
            "7/7 [==============================] - 17s 2s/step - loss: 0.5431 - accuracy: 0.6845 - val_loss: 0.6944 - val_accuracy: 0.6833\n",
            "Epoch 19/20\n",
            "7/7 [==============================] - 19s 3s/step - loss: 0.5593 - accuracy: 0.6696 - val_loss: 0.6500 - val_accuracy: 0.7000\n",
            "Epoch 20/20\n",
            "7/7 [==============================] - 17s 2s/step - loss: 0.5604 - accuracy: 0.6383 - val_loss: 0.6249 - val_accuracy: 0.7000\n"
          ],
          "name": "stdout"
        }
      ]
    },
    {
      "cell_type": "markdown",
      "metadata": {
        "id": "ghf89EUunlud",
        "colab_type": "text"
      },
      "source": [
        "### 3.4.3 Results on Test data"
      ]
    },
    {
      "cell_type": "code",
      "metadata": {
        "colab_type": "code",
        "outputId": "beb9b470-ec0a-48e7-f97c-db0cca8a934e",
        "id": "tQmvoxSDpXYR",
        "colab": {
          "base_uri": "https://localhost:8080/",
          "height": 51
        }
      },
      "source": [
        "model.evaluate(xtest,ytest)"
      ],
      "execution_count": 0,
      "outputs": [
        {
          "output_type": "stream",
          "text": [
            "60/60 [==============================] - 1s 19ms/step\n"
          ],
          "name": "stdout"
        },
        {
          "output_type": "execute_result",
          "data": {
            "text/plain": [
              "[0.6249313215414684, 0.699999988079071]"
            ]
          },
          "metadata": {
            "tags": []
          },
          "execution_count": 23
        }
      ]
    },
    {
      "cell_type": "code",
      "metadata": {
        "colab_type": "code",
        "outputId": "5d08f20d-3714-4cba-bdc5-855d5e6148e6",
        "id": "MkLod3LopXYa",
        "colab": {
          "base_uri": "https://localhost:8080/",
          "height": 52
        }
      },
      "source": [
        "pred=model.predict(xtest[0].reshape(1,300,300,3))\n",
        "print(pred)\n",
        "print(pred.argmax())"
      ],
      "execution_count": 0,
      "outputs": [
        {
          "output_type": "stream",
          "text": [
            "[[0.67 0.33]]\n",
            "0\n"
          ],
          "name": "stdout"
        }
      ]
    },
    {
      "cell_type": "code",
      "metadata": {
        "colab_type": "code",
        "outputId": "d7bf563d-851a-4201-ef8c-298fd941f80a",
        "id": "n2FLl6SapXYf",
        "colab": {
          "base_uri": "https://localhost:8080/",
          "height": 70
        }
      },
      "source": [
        "\n",
        "test_loss,test_acc=model.evaluate(xtest,ytest)\n",
        "print(test_loss)\n",
        "print(test_acc)"
      ],
      "execution_count": 0,
      "outputs": [
        {
          "output_type": "stream",
          "text": [
            "60/60 [==============================] - 1s 19ms/step\n",
            "0.6249313215414684\n",
            "0.699999988079071\n"
          ],
          "name": "stdout"
        }
      ]
    },
    {
      "cell_type": "code",
      "metadata": {
        "colab_type": "code",
        "outputId": "ca4f3dd5-c54d-4590-c679-7c5de12abc35",
        "id": "AA-GS5KjpXYl",
        "colab": {
          "base_uri": "https://localhost:8080/",
          "height": 70
        }
      },
      "source": [
        "test_loss,test_acc=model.evaluate(xtest,ytest)\n",
        "print(test_loss)\n",
        "print(test_acc)"
      ],
      "execution_count": 0,
      "outputs": [
        {
          "output_type": "stream",
          "text": [
            "60/60 [==============================] - 1s 19ms/step\n",
            "0.6249313215414684\n",
            "0.699999988079071\n"
          ],
          "name": "stdout"
        }
      ]
    },
    {
      "cell_type": "code",
      "metadata": {
        "colab_type": "code",
        "id": "6kag6lOYpXYs",
        "colab": {}
      },
      "source": [
        "train_loss = history.history['loss']\n",
        "train_acc = history.history['accuracy']\n",
        "val_loss = history.history['val_loss']\n",
        "val_acc = history.history['val_accuracy']\n",
        "xc=range(len(train_loss))"
      ],
      "execution_count": 0,
      "outputs": []
    },
    {
      "cell_type": "code",
      "metadata": {
        "colab_type": "code",
        "outputId": "31dbe877-284c-4874-96d4-56bf6669e4ec",
        "id": "G4Evrs20pXYx",
        "colab": {
          "base_uri": "https://localhost:8080/",
          "height": 296
        }
      },
      "source": [
        "import matplotlib.pyplot as plt\n",
        "%matplotlib inline\n",
        "plt.plot(xc, train_loss)\n",
        "plt.plot(xc, val_loss)\n",
        "plt.xlabel(\"Epoch\")\n",
        "plt.ylabel(\"Loss\")\n",
        "plt.legend(['train','val'])"
      ],
      "execution_count": 0,
      "outputs": [
        {
          "output_type": "execute_result",
          "data": {
            "text/plain": [
              "<matplotlib.legend.Legend at 0x7f196dc07a20>"
            ]
          },
          "metadata": {
            "tags": []
          },
          "execution_count": 28
        },
        {
          "output_type": "display_data",
          "data": {
            "image/png": "[encoded data removed]",
            "text/plain": [
              "<Figure size 432x288 with 1 Axes>"
            ]
          },
          "metadata": {
            "tags": [],
            "needs_background": "light"
          }
        }
      ]
    },
    {
      "cell_type": "code",
      "metadata": {
        "colab_type": "code",
        "outputId": "b15d82c4-a9fb-490d-e15c-25e3c5e33579",
        "id": "ijR1Dx4opXY4",
        "colab": {
          "base_uri": "https://localhost:8080/",
          "height": 296
        }
      },
      "source": [
        "import matplotlib.pyplot as plt\n",
        "%matplotlib inline\n",
        "plt.plot(xc, train_acc)\n",
        "plt.plot(xc, val_acc)\n",
        "plt.xlabel(\"Epoch\")\n",
        "plt.ylabel(\"Acc\")\n",
        "plt.legend(['train','val'])"
      ],
      "execution_count": 0,
      "outputs": [
        {
          "output_type": "execute_result",
          "data": {
            "text/plain": [
              "<matplotlib.legend.Legend at 0x7f196db56b00>"
            ]
          },
          "metadata": {
            "tags": []
          },
          "execution_count": 29
        },
        {
          "output_type": "display_data",
          "data": {
            "image/png": "[encoded data removed]",
            "text/plain": [
              "<Figure size 432x288 with 1 Axes>"
            ]
          },
          "metadata": {
            "tags": [],
            "needs_background": "light"
          }
        }
      ]
    },
    {
      "cell_type": "code",
      "metadata": {
        "colab_type": "code",
        "outputId": "05bd2e2c-5698-48d6-8222-3edde32ba7d3",
        "id": "LNxUuYaEpXY-",
        "colab": {
          "base_uri": "https://localhost:8080/",
          "height": 194
        }
      },
      "source": [
        "%matplotlib inline\n",
        "for i in range(10):\n",
        "    pred = model.predict(xtest[i].reshape(1, 300, 300, 3))\n",
        "    print(\"\"+str(i+1)+\" Actual is \"+ \" \" + str(ytest[i])+\" Predicted is \"+str(pred.argmax()))"
      ],
      "execution_count": 0,
      "outputs": [
        {
          "output_type": "stream",
          "text": [
            "1 Actual is  [0. 1.] Predicted is 0\n",
            "2 Actual is  [0. 1.] Predicted is 0\n",
            "3 Actual is  [0. 1.] Predicted is 0\n",
            "4 Actual is  [1. 0.] Predicted is 0\n",
            "5 Actual is  [1. 0.] Predicted is 0\n",
            "6 Actual is  [0. 1.] Predicted is 0\n",
            "7 Actual is  [1. 0.] Predicted is 0\n",
            "8 Actual is  [1. 0.] Predicted is 0\n",
            "9 Actual is  [1. 0.] Predicted is 0\n",
            "10 Actual is  [0. 1.] Predicted is 1\n"
          ],
          "name": "stdout"
        }
      ]
    },
    {
      "cell_type": "markdown",
      "metadata": {
        "id": "QcW6CTUOnskQ",
        "colab_type": "text"
      },
      "source": [
        "### 3.4.5 F1 Score And Confusion Matrix"
      ]
    },
    {
      "cell_type": "code",
      "metadata": {
        "colab_type": "code",
        "outputId": "ebafba1f-2693-42a8-926f-01e5a6aaf026",
        "id": "8V0hBb1iphI4",
        "colab": {
          "base_uri": "https://localhost:8080/",
          "height": 170
        }
      },
      "source": [
        "import numpy as np\n",
        "from sklearn.metrics import classification_report,confusion_matrix\n",
        "import itertools\n",
        "\n",
        "Y_pred = model.predict(xtest)\n",
        "y_pred = np.argmax(Y_pred, axis=1)\n",
        "target_names = ['class 0', 'class 1']\n",
        "print(classification_report(np.argmax(ytest,axis=1), y_pred,target_names=target_names))"
      ],
      "execution_count": 0,
      "outputs": [
        {
          "output_type": "stream",
          "text": [
            "              precision    recall  f1-score   support\n",
            "\n",
            "     class 0       0.66      0.97      0.79        34\n",
            "     class 1       0.90      0.35      0.50        26\n",
            "\n",
            "    accuracy                           0.70        60\n",
            "   macro avg       0.78      0.66      0.64        60\n",
            "weighted avg       0.76      0.70      0.66        60\n",
            "\n"
          ],
          "name": "stdout"
        }
      ]
    },
    {
      "cell_type": "code",
      "metadata": {
        "colab_type": "code",
        "outputId": "cd322dc2-98c4-40aa-ac0b-200ad9726c72",
        "id": "7-etOQoQphJE",
        "colab": {
          "base_uri": "https://localhost:8080/",
          "height": 780
        }
      },
      "source": [
        "cnf_matrix = (confusion_matrix(np.argmax(ytest,axis=1), y_pred))\n",
        "np.set_printoptions(precision=2)\n",
        "plt.figure(figsize=(10,10))\n",
        "plot_confusion_matrix(cnf_matrix, classes=target_names,\n",
        "                      title='Confusion matrix')\n",
        "#plt.show()"
      ],
      "execution_count": 0,
      "outputs": [
        {
          "output_type": "stream",
          "text": [
            "Confusion matrix, without normalization\n",
            "[[33  1]\n",
            " [17  9]]\n"
          ],
          "name": "stdout"
        },
        {
          "output_type": "display_data",
          "data": {
            "image/png": "[encoded data removed]",
            "text/plain": [
              "<Figure size 720x720 with 2 Axes>"
            ]
          },
          "metadata": {
            "tags": [],
            "needs_background": "light"
          }
        }
      ]
    },
    {
      "cell_type": "markdown",
      "metadata": {
        "id": "wdbG7Mj8n9Hx",
        "colab_type": "text"
      },
      "source": [
        "## 3.5 Transfer Learning with VGG-16"
      ]
    },
    {
      "cell_type": "code",
      "metadata": {
        "id": "Fs2-C6NetAPz",
        "colab_type": "code",
        "colab": {}
      },
      "source": [
        "from keras.layers import Input, Lambda, Dense, Flatten\n",
        "from keras.models import Model\n",
        "from keras.applications.vgg16 import VGG16\n",
        "from keras.applications.vgg16 import preprocess_input\n",
        "from keras.preprocessing import image\n",
        "from keras.preprocessing.image import ImageDataGenerator\n",
        "from keras.models import Sequential\n",
        "import numpy as np\n",
        "from glob import glob\n",
        "import matplotlib.pyplot as plt\n",
        "\n",
        "# re-size all the images to this\n",
        "IMAGE_SIZE = [300, 300]\n",
        "\n",
        "# add preprocessing layer to the front of VGG\n",
        "vgg = VGG16(input_shape=IMAGE_SIZE + [3], weights='imagenet', include_top=False)\n",
        "\n",
        "# don't train existing weights\n"
      ],
      "execution_count": 0,
      "outputs": []
    },
    {
      "cell_type": "code",
      "metadata": {
        "id": "3TMVnO8yCAYW",
        "colab_type": "code",
        "colab": {}
      },
      "source": [
        "vgg.trainable = False"
      ],
      "execution_count": 0,
      "outputs": []
    },
    {
      "cell_type": "markdown",
      "metadata": {
        "id": "algNuYInoCt1",
        "colab_type": "text"
      },
      "source": [
        "### 3.5.1 Setting VGG-16 Model Training as False"
      ]
    },
    {
      "cell_type": "code",
      "metadata": {
        "colab_type": "code",
        "outputId": "2d364664-46d7-4f21-906d-999dacfcc194",
        "id": "G9UTm0LzG3BP",
        "colab": {
          "base_uri": "https://localhost:8080/",
          "height": 638
        }
      },
      "source": [
        "import pandas as pd\n",
        "\n",
        "set_trainable = False\n",
        "for layer in vgg.layers:\n",
        "    if layer.name in []:\n",
        "        set_trainable = True\n",
        "    if set_trainable:\n",
        "        layer.trainable = True\n",
        "    else:\n",
        "        layer.trainable = False\n",
        "        \n",
        "layers = [(layer, layer.name, layer.trainable) for layer in vgg.layers]\n",
        "pd.DataFrame(layers, columns=['Layer Type', 'Layer Name', 'Layer Trainable']) "
      ],
      "execution_count": 0,
      "outputs": [
        {
          "output_type": "execute_result",
          "data": {
            "text/html": [
              "<div>\n",
              "<style scoped>\n",
              "    .dataframe tbody tr th:only-of-type {\n",
              "        vertical-align: middle;\n",
              "    }\n",
              "\n",
              "    .dataframe tbody tr th {\n",
              "        vertical-align: top;\n",
              "    }\n",
              "\n",
              "    .dataframe thead th {\n",
              "        text-align: right;\n",
              "    }\n",
              "</style>\n",
              "<table border=\"1\" class=\"dataframe\">\n",
              "  <thead>\n",
              "    <tr style=\"text-align: right;\">\n",
              "      <th></th>\n",
              "      <th>Layer Type</th>\n",
              "      <th>Layer Name</th>\n",
              "      <th>Layer Trainable</th>\n",
              "    </tr>\n",
              "  </thead>\n",
              "  <tbody>\n",
              "    <tr>\n",
              "      <th>0</th>\n",
              "      <td>&lt;keras.engine.input_layer.InputLayer object at...</td>\n",
              "      <td>input_1</td>\n",
              "      <td>False</td>\n",
              "    </tr>\n",
              "    <tr>\n",
              "      <th>1</th>\n",
              "      <td>&lt;keras.layers.convolutional.Conv2D object at 0...</td>\n",
              "      <td>block1_conv1</td>\n",
              "      <td>False</td>\n",
              "    </tr>\n",
              "    <tr>\n",
              "      <th>2</th>\n",
              "      <td>&lt;keras.layers.convolutional.Conv2D object at 0...</td>\n",
              "      <td>block1_conv2</td>\n",
              "      <td>False</td>\n",
              "    </tr>\n",
              "    <tr>\n",
              "      <th>3</th>\n",
              "      <td>&lt;keras.layers.pooling.MaxPooling2D object at 0...</td>\n",
              "      <td>block1_pool</td>\n",
              "      <td>False</td>\n",
              "    </tr>\n",
              "    <tr>\n",
              "      <th>4</th>\n",
              "      <td>&lt;keras.layers.convolutional.Conv2D object at 0...</td>\n",
              "      <td>block2_conv1</td>\n",
              "      <td>False</td>\n",
              "    </tr>\n",
              "    <tr>\n",
              "      <th>5</th>\n",
              "      <td>&lt;keras.layers.convolutional.Conv2D object at 0...</td>\n",
              "      <td>block2_conv2</td>\n",
              "      <td>False</td>\n",
              "    </tr>\n",
              "    <tr>\n",
              "      <th>6</th>\n",
              "      <td>&lt;keras.layers.pooling.MaxPooling2D object at 0...</td>\n",
              "      <td>block2_pool</td>\n",
              "      <td>False</td>\n",
              "    </tr>\n",
              "    <tr>\n",
              "      <th>7</th>\n",
              "      <td>&lt;keras.layers.convolutional.Conv2D object at 0...</td>\n",
              "      <td>block3_conv1</td>\n",
              "      <td>False</td>\n",
              "    </tr>\n",
              "    <tr>\n",
              "      <th>8</th>\n",
              "      <td>&lt;keras.layers.convolutional.Conv2D object at 0...</td>\n",
              "      <td>block3_conv2</td>\n",
              "      <td>False</td>\n",
              "    </tr>\n",
              "    <tr>\n",
              "      <th>9</th>\n",
              "      <td>&lt;keras.layers.convolutional.Conv2D object at 0...</td>\n",
              "      <td>block3_conv3</td>\n",
              "      <td>False</td>\n",
              "    </tr>\n",
              "    <tr>\n",
              "      <th>10</th>\n",
              "      <td>&lt;keras.layers.pooling.MaxPooling2D object at 0...</td>\n",
              "      <td>block3_pool</td>\n",
              "      <td>False</td>\n",
              "    </tr>\n",
              "    <tr>\n",
              "      <th>11</th>\n",
              "      <td>&lt;keras.layers.convolutional.Conv2D object at 0...</td>\n",
              "      <td>block4_conv1</td>\n",
              "      <td>False</td>\n",
              "    </tr>\n",
              "    <tr>\n",
              "      <th>12</th>\n",
              "      <td>&lt;keras.layers.convolutional.Conv2D object at 0...</td>\n",
              "      <td>block4_conv2</td>\n",
              "      <td>False</td>\n",
              "    </tr>\n",
              "    <tr>\n",
              "      <th>13</th>\n",
              "      <td>&lt;keras.layers.convolutional.Conv2D object at 0...</td>\n",
              "      <td>block4_conv3</td>\n",
              "      <td>False</td>\n",
              "    </tr>\n",
              "    <tr>\n",
              "      <th>14</th>\n",
              "      <td>&lt;keras.layers.pooling.MaxPooling2D object at 0...</td>\n",
              "      <td>block4_pool</td>\n",
              "      <td>False</td>\n",
              "    </tr>\n",
              "    <tr>\n",
              "      <th>15</th>\n",
              "      <td>&lt;keras.layers.convolutional.Conv2D object at 0...</td>\n",
              "      <td>block5_conv1</td>\n",
              "      <td>False</td>\n",
              "    </tr>\n",
              "    <tr>\n",
              "      <th>16</th>\n",
              "      <td>&lt;keras.layers.convolutional.Conv2D object at 0...</td>\n",
              "      <td>block5_conv2</td>\n",
              "      <td>False</td>\n",
              "    </tr>\n",
              "    <tr>\n",
              "      <th>17</th>\n",
              "      <td>&lt;keras.layers.convolutional.Conv2D object at 0...</td>\n",
              "      <td>block5_conv3</td>\n",
              "      <td>False</td>\n",
              "    </tr>\n",
              "    <tr>\n",
              "      <th>18</th>\n",
              "      <td>&lt;keras.layers.pooling.MaxPooling2D object at 0...</td>\n",
              "      <td>block5_pool</td>\n",
              "      <td>False</td>\n",
              "    </tr>\n",
              "  </tbody>\n",
              "</table>\n",
              "</div>"
            ],
            "text/plain": [
              "                                           Layer Type  ... Layer Trainable\n",
              "0   <keras.engine.input_layer.InputLayer object at...  ...           False\n",
              "1   <keras.layers.convolutional.Conv2D object at 0...  ...           False\n",
              "2   <keras.layers.convolutional.Conv2D object at 0...  ...           False\n",
              "3   <keras.layers.pooling.MaxPooling2D object at 0...  ...           False\n",
              "4   <keras.layers.convolutional.Conv2D object at 0...  ...           False\n",
              "5   <keras.layers.convolutional.Conv2D object at 0...  ...           False\n",
              "6   <keras.layers.pooling.MaxPooling2D object at 0...  ...           False\n",
              "7   <keras.layers.convolutional.Conv2D object at 0...  ...           False\n",
              "8   <keras.layers.convolutional.Conv2D object at 0...  ...           False\n",
              "9   <keras.layers.convolutional.Conv2D object at 0...  ...           False\n",
              "10  <keras.layers.pooling.MaxPooling2D object at 0...  ...           False\n",
              "11  <keras.layers.convolutional.Conv2D object at 0...  ...           False\n",
              "12  <keras.layers.convolutional.Conv2D object at 0...  ...           False\n",
              "13  <keras.layers.convolutional.Conv2D object at 0...  ...           False\n",
              "14  <keras.layers.pooling.MaxPooling2D object at 0...  ...           False\n",
              "15  <keras.layers.convolutional.Conv2D object at 0...  ...           False\n",
              "16  <keras.layers.convolutional.Conv2D object at 0...  ...           False\n",
              "17  <keras.layers.convolutional.Conv2D object at 0...  ...           False\n",
              "18  <keras.layers.pooling.MaxPooling2D object at 0...  ...           False\n",
              "\n",
              "[19 rows x 3 columns]"
            ]
          },
          "metadata": {
            "tags": []
          },
          "execution_count": 88
        }
      ]
    },
    {
      "cell_type": "markdown",
      "metadata": {
        "id": "XT8SESIWoMG_",
        "colab_type": "text"
      },
      "source": [
        "### 3.5.2 Model Structure"
      ]
    },
    {
      "cell_type": "code",
      "metadata": {
        "id": "oTtshkcEVINI",
        "colab_type": "code",
        "outputId": "20470a14-b1c1-468e-bfe0-7fbe56099a1c",
        "colab": {
          "base_uri": "https://localhost:8080/",
          "height": 54
        }
      },
      "source": [
        "\n",
        "from keras.layers import Conv2D, MaxPooling2D, Flatten, Dense, Dropout, InputLayer\n",
        "from keras.models import Sequential\n",
        "from keras import optimizers\n",
        "\n",
        "model = Sequential()\n",
        "model.add(vgg)\n",
        "model.add(Flatten())\n",
        "model.add(Dense(256, activation='relu'))\n",
        "model.add(Dropout(0.5))\n",
        "model.add(Dense(128, activation='relu'))\n",
        "model.add(Dropout(0.5))\n",
        "model.add(Dense(2, activation='softmax'))\n",
        "'''\n",
        "model.compile(loss='categorical_crossentropy',\n",
        "              optimizer='Adam',\n",
        "              metrics=['accuracy'])\n",
        "\n",
        "datagen = ImageDataGenerator(zoom_range=0.3, rotation_range=50,\n",
        "                                   width_shift_range=0.2, height_shift_range=0.2, shear_range=0.2, \n",
        "                                   horizontal_flip=True, fill_mode='nearest')\n",
        "it_train = datagen.flow(xtrain, ytrain, batch_size=32)\n",
        "# fit model\n",
        "steps = int(xtrain.shape[0] / 32)\n",
        "history = model.fit_generator(it_train, steps_per_epoch=steps, epochs=20, validation_data=(xtest, ytest), verbose=1)\n",
        "# evaluate model  '''"
      ],
      "execution_count": 0,
      "outputs": [
        {
          "output_type": "execute_result",
          "data": {
            "text/plain": [
              "\"\\nmodel.compile(loss='categorical_crossentropy',\\n              optimizer='Adam',\\n              metrics=['accuracy'])\\n\\ndatagen = ImageDataGenerator(zoom_range=0.3, rotation_range=50,\\n                                   width_shift_range=0.2, height_shift_range=0.2, shear_range=0.2, \\n                                   horizontal_flip=True, fill_mode='nearest')\\nit_train = datagen.flow(xtrain, ytrain, batch_size=32)\\n# fit model\\nsteps = int(xtrain.shape[0] / 32)\\nhistory = model.fit_generator(it_train, steps_per_epoch=steps, epochs=20, validation_data=(xtest, ytest), verbose=1)\\n# evaluate model  \""
            ]
          },
          "metadata": {
            "tags": []
          },
          "execution_count": 89
        }
      ]
    },
    {
      "cell_type": "markdown",
      "metadata": {
        "id": "tMolQQmBoP1w",
        "colab_type": "text"
      },
      "source": [
        "### 3.5.3 Model compiling and Training"
      ]
    },
    {
      "cell_type": "code",
      "metadata": {
        "colab_type": "code",
        "outputId": "baf34461-66d6-41f1-f14f-20daf6f1f3e1",
        "id": "WVd6G2aoD9Rh",
        "colab": {
          "base_uri": "https://localhost:8080/",
          "height": 1000
        }
      },
      "source": [
        "model.compile(loss=\"categorical_crossentropy\", optimizer=\"Adam\", metrics=['accuracy'])\n",
        "history=model.fit(xtrain, ytrain, validation_split=(0.2), batch_size=256, epochs=50, verbose=1)"
      ],
      "execution_count": 0,
      "outputs": [
        {
          "output_type": "stream",
          "text": [
            "Train on 190 samples, validate on 48 samples\n",
            "Epoch 1/50\n",
            "190/190 [==============================] - 102s 538ms/step - loss: 1.2941 - accuracy: 0.4368 - val_loss: 8.7704 - val_accuracy: 0.5000\n",
            "Epoch 2/50\n",
            "190/190 [==============================] - 101s 532ms/step - loss: 8.2051 - accuracy: 0.5158 - val_loss: 0.8559 - val_accuracy: 0.5833\n",
            "Epoch 3/50\n",
            "190/190 [==============================] - 102s 535ms/step - loss: 1.9867 - accuracy: 0.5053 - val_loss: 2.4412 - val_accuracy: 0.5000\n",
            "Epoch 4/50\n",
            "190/190 [==============================] - 101s 533ms/step - loss: 3.5097 - accuracy: 0.5105 - val_loss: 0.8312 - val_accuracy: 0.6042\n",
            "Epoch 5/50\n",
            "190/190 [==============================] - 101s 531ms/step - loss: 2.7947 - accuracy: 0.5158 - val_loss: 1.1663 - val_accuracy: 0.5000\n",
            "Epoch 6/50\n",
            "190/190 [==============================] - 101s 530ms/step - loss: 1.7722 - accuracy: 0.6526 - val_loss: 1.9788 - val_accuracy: 0.5000\n",
            "Epoch 7/50\n",
            "190/190 [==============================] - 101s 531ms/step - loss: 2.3797 - accuracy: 0.5737 - val_loss: 1.7848 - val_accuracy: 0.5000\n",
            "Epoch 8/50\n",
            "190/190 [==============================] - 99s 523ms/step - loss: 1.9049 - accuracy: 0.6474 - val_loss: 0.9647 - val_accuracy: 0.5208\n",
            "Epoch 9/50\n",
            "190/190 [==============================] - 103s 543ms/step - loss: 1.4107 - accuracy: 0.6737 - val_loss: 0.5852 - val_accuracy: 0.6458\n",
            "Epoch 10/50\n",
            "190/190 [==============================] - 103s 544ms/step - loss: 1.3575 - accuracy: 0.6526 - val_loss: 0.5357 - val_accuracy: 0.7500\n",
            "Epoch 11/50\n",
            "190/190 [==============================] - 106s 556ms/step - loss: 0.9162 - accuracy: 0.7000 - val_loss: 0.5131 - val_accuracy: 0.7917\n",
            "Epoch 12/50\n",
            "190/190 [==============================] - 104s 547ms/step - loss: 0.9776 - accuracy: 0.7158 - val_loss: 0.4715 - val_accuracy: 0.7500\n",
            "Epoch 13/50\n",
            "190/190 [==============================] - 102s 536ms/step - loss: 0.9363 - accuracy: 0.7421 - val_loss: 0.4464 - val_accuracy: 0.7708\n",
            "Epoch 14/50\n",
            "190/190 [==============================] - 101s 531ms/step - loss: 0.6969 - accuracy: 0.7526 - val_loss: 0.4686 - val_accuracy: 0.7292\n",
            "Epoch 15/50\n",
            "190/190 [==============================] - 106s 555ms/step - loss: 0.5967 - accuracy: 0.7789 - val_loss: 0.4957 - val_accuracy: 0.7292\n",
            "Epoch 16/50\n",
            "190/190 [==============================] - 101s 529ms/step - loss: 0.7139 - accuracy: 0.7895 - val_loss: 0.4633 - val_accuracy: 0.7500\n",
            "Epoch 17/50\n",
            "190/190 [==============================] - 100s 524ms/step - loss: 0.4518 - accuracy: 0.8316 - val_loss: 0.4379 - val_accuracy: 0.8125\n",
            "Epoch 18/50\n",
            "190/190 [==============================] - 100s 526ms/step - loss: 0.3450 - accuracy: 0.8579 - val_loss: 0.4278 - val_accuracy: 0.8125\n",
            "Epoch 19/50\n",
            "190/190 [==============================] - 98s 515ms/step - loss: 0.2854 - accuracy: 0.8684 - val_loss: 0.4247 - val_accuracy: 0.8125\n",
            "Epoch 20/50\n",
            "190/190 [==============================] - 98s 514ms/step - loss: 0.3029 - accuracy: 0.8789 - val_loss: 0.4269 - val_accuracy: 0.8125\n",
            "Epoch 21/50\n",
            "190/190 [==============================] - 98s 516ms/step - loss: 0.2657 - accuracy: 0.8737 - val_loss: 0.4311 - val_accuracy: 0.7917\n",
            "Epoch 22/50\n",
            "190/190 [==============================] - 96s 507ms/step - loss: 0.2588 - accuracy: 0.9263 - val_loss: 0.4313 - val_accuracy: 0.7917\n",
            "Epoch 23/50\n",
            "190/190 [==============================] - 97s 509ms/step - loss: 0.2174 - accuracy: 0.9053 - val_loss: 0.4253 - val_accuracy: 0.8125\n",
            "Epoch 24/50\n",
            "190/190 [==============================] - 98s 516ms/step - loss: 0.2677 - accuracy: 0.8737 - val_loss: 0.4168 - val_accuracy: 0.8125\n",
            "Epoch 25/50\n",
            "190/190 [==============================] - 96s 505ms/step - loss: 0.2301 - accuracy: 0.8947 - val_loss: 0.4164 - val_accuracy: 0.8125\n",
            "Epoch 26/50\n",
            "190/190 [==============================] - 97s 511ms/step - loss: 0.2614 - accuracy: 0.9000 - val_loss: 0.4116 - val_accuracy: 0.8125\n",
            "Epoch 27/50\n",
            "190/190 [==============================] - 98s 515ms/step - loss: 0.1619 - accuracy: 0.9316 - val_loss: 0.4095 - val_accuracy: 0.8125\n",
            "Epoch 28/50\n",
            "190/190 [==============================] - 99s 523ms/step - loss: 0.1705 - accuracy: 0.9421 - val_loss: 0.4130 - val_accuracy: 0.8125\n",
            "Epoch 29/50\n",
            "190/190 [==============================] - 100s 524ms/step - loss: 0.1247 - accuracy: 0.9421 - val_loss: 0.4184 - val_accuracy: 0.8542\n",
            "Epoch 30/50\n",
            "190/190 [==============================] - 100s 529ms/step - loss: 0.1555 - accuracy: 0.9158 - val_loss: 0.4161 - val_accuracy: 0.8542\n",
            "Epoch 31/50\n",
            "190/190 [==============================] - 99s 521ms/step - loss: 0.1380 - accuracy: 0.9526 - val_loss: 0.4115 - val_accuracy: 0.8333\n",
            "Epoch 32/50\n",
            "190/190 [==============================] - 99s 520ms/step - loss: 0.1703 - accuracy: 0.9316 - val_loss: 0.4080 - val_accuracy: 0.8333\n",
            "Epoch 33/50\n",
            "190/190 [==============================] - 98s 518ms/step - loss: 0.1549 - accuracy: 0.9421 - val_loss: 0.4139 - val_accuracy: 0.8333\n",
            "Epoch 34/50\n",
            "190/190 [==============================] - 97s 512ms/step - loss: 0.0853 - accuracy: 0.9737 - val_loss: 0.4189 - val_accuracy: 0.8333\n",
            "Epoch 35/50\n",
            "190/190 [==============================] - 97s 512ms/step - loss: 0.1081 - accuracy: 0.9579 - val_loss: 0.4226 - val_accuracy: 0.8333\n",
            "Epoch 36/50\n",
            "190/190 [==============================] - 98s 514ms/step - loss: 0.0937 - accuracy: 0.9737 - val_loss: 0.4309 - val_accuracy: 0.8333\n",
            "Epoch 37/50\n",
            "190/190 [==============================] - 100s 525ms/step - loss: 0.0955 - accuracy: 0.9579 - val_loss: 0.4392 - val_accuracy: 0.8333\n",
            "Epoch 38/50\n",
            "190/190 [==============================] - 97s 513ms/step - loss: 0.0662 - accuracy: 0.9895 - val_loss: 0.4470 - val_accuracy: 0.7917\n",
            "Epoch 39/50\n",
            "190/190 [==============================] - 97s 510ms/step - loss: 0.0807 - accuracy: 0.9632 - val_loss: 0.4530 - val_accuracy: 0.7917\n",
            "Epoch 40/50\n",
            "190/190 [==============================] - 96s 504ms/step - loss: 0.0963 - accuracy: 0.9684 - val_loss: 0.4562 - val_accuracy: 0.7917\n",
            "Epoch 41/50\n",
            "190/190 [==============================] - 94s 496ms/step - loss: 0.0831 - accuracy: 0.9789 - val_loss: 0.4559 - val_accuracy: 0.8125\n",
            "Epoch 42/50\n",
            "190/190 [==============================] - 94s 493ms/step - loss: 0.0702 - accuracy: 0.9684 - val_loss: 0.4500 - val_accuracy: 0.8333\n",
            "Epoch 43/50\n",
            "190/190 [==============================] - 93s 490ms/step - loss: 0.0513 - accuracy: 0.9947 - val_loss: 0.4441 - val_accuracy: 0.8333\n",
            "Epoch 44/50\n",
            "190/190 [==============================] - 92s 486ms/step - loss: 0.0787 - accuracy: 0.9579 - val_loss: 0.4459 - val_accuracy: 0.8542\n",
            "Epoch 45/50\n",
            "190/190 [==============================] - 92s 486ms/step - loss: 0.0586 - accuracy: 0.9895 - val_loss: 0.4504 - val_accuracy: 0.8542\n",
            "Epoch 46/50\n",
            "190/190 [==============================] - 94s 494ms/step - loss: 0.0369 - accuracy: 0.9895 - val_loss: 0.4566 - val_accuracy: 0.8333\n",
            "Epoch 47/50\n",
            "190/190 [==============================] - 95s 498ms/step - loss: 0.0434 - accuracy: 0.9789 - val_loss: 0.4591 - val_accuracy: 0.8542\n",
            "Epoch 48/50\n",
            "190/190 [==============================] - 100s 527ms/step - loss: 0.0341 - accuracy: 0.9895 - val_loss: 0.4566 - val_accuracy: 0.8542\n",
            "Epoch 49/50\n",
            "190/190 [==============================] - 102s 536ms/step - loss: 0.0611 - accuracy: 0.9789 - val_loss: 0.4544 - val_accuracy: 0.8333\n",
            "Epoch 50/50\n",
            "190/190 [==============================] - 102s 538ms/step - loss: 0.0528 - accuracy: 0.9737 - val_loss: 0.4514 - val_accuracy: 0.8542\n"
          ],
          "name": "stdout"
        }
      ]
    },
    {
      "cell_type": "markdown",
      "metadata": {
        "id": "bBTPD4OSoW73",
        "colab_type": "text"
      },
      "source": [
        "### 3.5.4 Results on Test Data"
      ]
    },
    {
      "cell_type": "code",
      "metadata": {
        "id": "NpyXZvftiD1B",
        "colab_type": "code",
        "outputId": "9838e789-2677-44d5-b705-d21c449690c4",
        "colab": {
          "base_uri": "https://localhost:8080/",
          "height": 34
        }
      },
      "source": [
        "_, acc = model.evaluate(xtest, ytest, verbose=0)\n",
        "print('> %.3f' % (acc * 100.0))\n",
        "\n"
      ],
      "execution_count": 0,
      "outputs": [
        {
          "output_type": "stream",
          "text": [
            "> 81.667\n"
          ],
          "name": "stdout"
        }
      ]
    },
    {
      "cell_type": "code",
      "metadata": {
        "colab_type": "code",
        "outputId": "b7a0deb0-1628-424a-b05a-4c7dcff0f942",
        "id": "ptJe8NuJ_eFS",
        "colab": {
          "base_uri": "https://localhost:8080/",
          "height": 68
        }
      },
      "source": [
        "test_loss,test_acc=model.evaluate(xtest,ytest)\n",
        "print(test_loss)\n",
        "print(test_acc)"
      ],
      "execution_count": 0,
      "outputs": [
        {
          "output_type": "stream",
          "text": [
            "60/60 [==============================] - 26s 431ms/step\n",
            "0.6772413770357768\n",
            "0.8166666626930237\n"
          ],
          "name": "stdout"
        }
      ]
    },
    {
      "cell_type": "code",
      "metadata": {
        "colab_type": "code",
        "id": "v55kfuiP_eFt",
        "colab": {}
      },
      "source": [
        "train_loss = history.history['loss']\n",
        "train_acc = history.history['accuracy']\n",
        "val_loss = history.history['val_loss']\n",
        "val_acc = history.history['val_accuracy']\n",
        "xc=range(len(train_loss))"
      ],
      "execution_count": 0,
      "outputs": []
    },
    {
      "cell_type": "code",
      "metadata": {
        "colab_type": "code",
        "outputId": "ab0ab603-3b04-48b8-8e8b-bc0225d8d55e",
        "id": "T-uxg06R_eF2",
        "colab": {
          "base_uri": "https://localhost:8080/",
          "height": 296
        }
      },
      "source": [
        "import matplotlib.pyplot as plt\n",
        "%matplotlib inline\n",
        "plt.plot(xc, train_loss)\n",
        "plt.plot(xc, val_loss)\n",
        "plt.xlabel(\"Epoch\")\n",
        "plt.ylabel(\"Loss\")\n",
        "plt.legend(['train','val'])"
      ],
      "execution_count": 0,
      "outputs": [
        {
          "output_type": "execute_result",
          "data": {
            "text/plain": [
              "<matplotlib.legend.Legend at 0x7fcf6a0347b8>"
            ]
          },
          "metadata": {
            "tags": []
          },
          "execution_count": 100
        },
        {
          "output_type": "display_data",
          "data": {
            "image/png": "[encoded data removed]",
            "text/plain": [
              "<Figure size 432x288 with 1 Axes>"
            ]
          },
          "metadata": {
            "tags": [],
            "needs_background": "light"
          }
        }
      ]
    },
    {
      "cell_type": "code",
      "metadata": {
        "colab_type": "code",
        "outputId": "993e5555-6834-4db6-c9ee-eb972c62f820",
        "id": "sBMdJt0S_eF8",
        "colab": {
          "base_uri": "https://localhost:8080/",
          "height": 296
        }
      },
      "source": [
        "import matplotlib.pyplot as plt\n",
        "%matplotlib inline\n",
        "plt.plot(xc, train_acc)\n",
        "plt.plot(xc, val_acc)\n",
        "plt.xlabel(\"Epoch\")\n",
        "plt.ylabel(\"Acc\")\n",
        "plt.legend(['train','val'])"
      ],
      "execution_count": 0,
      "outputs": [
        {
          "output_type": "execute_result",
          "data": {
            "text/plain": [
              "<matplotlib.legend.Legend at 0x7fcf6a01fa58>"
            ]
          },
          "metadata": {
            "tags": []
          },
          "execution_count": 101
        },
        {
          "output_type": "display_data",
          "data": {
            "image/png": "[encoded data removed]",
            "text/plain": [
              "<Figure size 432x288 with 1 Axes>"
            ]
          },
          "metadata": {
            "tags": [],
            "needs_background": "light"
          }
        }
      ]
    },
    {
      "cell_type": "code",
      "metadata": {
        "colab_type": "code",
        "outputId": "420e0d5b-e61b-472b-a701-564a8825e0ef",
        "id": "LQoYKlc-_eGE",
        "colab": {
          "base_uri": "https://localhost:8080/",
          "height": 187
        }
      },
      "source": [
        "%matplotlib inline\n",
        "for i in range(10):\n",
        "    pred = model.predict(xtest[i].reshape(1, 300, 300, 3))\n",
        "    print(\"\"+str(i+1)+\" Actual is \"+ \" \" + str(ytest[i])+\" Predicted is \"+str(pred.argmax()))"
      ],
      "execution_count": 0,
      "outputs": [
        {
          "output_type": "stream",
          "text": [
            "1 Actual is  [0. 1.] Predicted is 1\n",
            "2 Actual is  [0. 1.] Predicted is 1\n",
            "3 Actual is  [0. 1.] Predicted is 1\n",
            "4 Actual is  [1. 0.] Predicted is 0\n",
            "5 Actual is  [1. 0.] Predicted is 0\n",
            "6 Actual is  [0. 1.] Predicted is 0\n",
            "7 Actual is  [1. 0.] Predicted is 1\n",
            "8 Actual is  [1. 0.] Predicted is 0\n",
            "9 Actual is  [1. 0.] Predicted is 0\n",
            "10 Actual is  [0. 1.] Predicted is 1\n"
          ],
          "name": "stdout"
        }
      ]
    },
    {
      "cell_type": "markdown",
      "metadata": {
        "id": "kjGuHKTeobfn",
        "colab_type": "text"
      },
      "source": [
        "### 3.5.5 F1 Score and Confusion Matrix"
      ]
    },
    {
      "cell_type": "code",
      "metadata": {
        "colab_type": "code",
        "outputId": "8d5ba872-8ad6-4b56-9b72-c6ec8af1aad4",
        "id": "4I7gAOxU_eGK",
        "colab": {
          "base_uri": "https://localhost:8080/",
          "height": 170
        }
      },
      "source": [
        "import numpy as np\n",
        "from sklearn.metrics import classification_report,confusion_matrix\n",
        "import itertools\n",
        "\n",
        "Y_pred = model.predict(xtest)\n",
        "y_pred = np.argmax(Y_pred, axis=1)\n",
        "target_names = ['class 0', 'class 1']\n",
        "print(classification_report(np.argmax(ytest,axis=1), y_pred,target_names=target_names))"
      ],
      "execution_count": 0,
      "outputs": [
        {
          "output_type": "stream",
          "text": [
            "              precision    recall  f1-score   support\n",
            "\n",
            "     class 0       0.87      0.79      0.83        34\n",
            "     class 1       0.76      0.85      0.80        26\n",
            "\n",
            "    accuracy                           0.82        60\n",
            "   macro avg       0.81      0.82      0.82        60\n",
            "weighted avg       0.82      0.82      0.82        60\n",
            "\n"
          ],
          "name": "stdout"
        }
      ]
    },
    {
      "cell_type": "code",
      "metadata": {
        "colab_type": "code",
        "outputId": "d5e34c6d-026f-445a-c65f-af4b3f40e439",
        "id": "-H3SZFUr_eGQ",
        "colab": {
          "base_uri": "https://localhost:8080/",
          "height": 780
        }
      },
      "source": [
        "cnf_matrix = (confusion_matrix(np.argmax(ytest,axis=1), y_pred))\n",
        "np.set_printoptions(precision=2)\n",
        "plt.figure(figsize=(10,10))\n",
        "plot_confusion_matrix(cnf_matrix, classes=target_names,\n",
        "                      title='Confusion matrix')\n",
        "#plt.show()"
      ],
      "execution_count": 0,
      "outputs": [
        {
          "output_type": "stream",
          "text": [
            "Confusion matrix, without normalization\n",
            "[[27  7]\n",
            " [ 4 22]]\n"
          ],
          "name": "stdout"
        },
        {
          "output_type": "display_data",
          "data": {
            "image/png": "[encoded data removed]",
            "text/plain": [
              "<Figure size 720x720 with 2 Axes>"
            ]
          },
          "metadata": {
            "tags": [],
            "needs_background": "light"
          }
        }
      ]
    },
    {
      "cell_type": "markdown",
      "metadata": {
        "id": "3CHCf5A2wtU8",
        "colab_type": "text"
      },
      "source": [
        "# 4. Summary"
      ]
    },
    {
      "cell_type": "code",
      "metadata": {
        "id": "OEl-wstEwyn6",
        "colab_type": "code",
        "outputId": "76879823-cde5-4639-afb0-ec7652af62e2",
        "colab": {
          "base_uri": "https://localhost:8080/",
          "height": 190
        }
      },
      "source": [
        "from prettytable import PrettyTable\n",
        "x = PrettyTable()\n",
        "x.field_names = [\"Model\",\"Optimizer\",\"Dropout\",\"train loss\",\"Val loss\",\"Val Accuracy\",\"test accuracy\",\"F1 score(class 0)\",\"F1 score(class 1)\"]\n",
        "x.add_row([\"LeNet\",\"SGD\",\"No\",\"0.10\",\"0.287\",\"0.963\",\"0.75\",\"0.78\",\"0.72\"])\n",
        "x.add_row([\"Modified LeNet\",\"ADAM\",\"No\",\"0.07\",\"0.363\",\"0.895\",\"0.733\",\"0.75\",\"0.71\"])\n",
        "x.add_row([\"4 ConV + MaxPool Model\",\"ADAM\",\"Yes\",\"0.05\",\"0.796\",\"0.85\",\"0.76\",\"0.78\",\"0.75\"])\n",
        "x.add_row([\"4 ConV + MaxPool Model + Image Augumentation\",\"ADAM\",\"Yes\",\"0.52\",\"0.65\",\"0.70\",\"0.69\",\"0.79\",\"0.50\"])\n",
        "x.add_row([\"VGG-16 + Dense Layers\",\"ADAM\",\"Yes\",\"0.0528\",\"0.45\",\"0.8542\",\"0.8166\",\"0.83\",\"0.80\"])\n",
        "\n",
        "print(x)"
      ],
      "execution_count": 2,
      "outputs": [
        {
          "output_type": "stream",
          "text": [
            "+----------------------------------------------+-----------+---------+------------+----------+--------------+---------------+-------------------+-------------------+\n",
            "|                    Model                     | Optimizer | Dropout | train loss | Val loss | Val Accuracy | test accuracy | F1 score(class 0) | F1 score(class 1) |\n",
            "+----------------------------------------------+-----------+---------+------------+----------+--------------+---------------+-------------------+-------------------+\n",
            "|                    LeNet                     |    SGD    |    No   |    0.10    |  0.287   |    0.963     |      0.75     |        0.78       |        0.72       |\n",
            "|                Modified LeNet                |    ADAM   |    No   |    0.07    |  0.363   |    0.895     |     0.733     |        0.75       |        0.71       |\n",
            "|            4 ConV + MaxPool Model            |    ADAM   |   Yes   |    0.05    |  0.796   |     0.85     |      0.76     |        0.78       |        0.75       |\n",
            "| 4 ConV + MaxPool Model + Image Augumentation |    ADAM   |   Yes   |    0.52    |   0.65   |     0.70     |      0.69     |        0.79       |        0.50       |\n",
            "|            VGG-16 + Dense Layers             |    ADAM   |   Yes   |   0.0528   |   0.45   |    0.8542    |     0.8166    |        0.83       |        0.80       |\n",
            "+----------------------------------------------+-----------+---------+------------+----------+--------------+---------------+-------------------+-------------------+\n"
          ],
          "name": "stdout"
        }
      ]
    }
  ]
}