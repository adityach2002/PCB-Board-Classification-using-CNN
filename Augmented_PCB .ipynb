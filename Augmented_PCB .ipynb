{
  "nbformat": 4,
  "nbformat_minor": 0,
  "metadata": {
    "colab": {
      "name": "Aug_PCB.ipynb",
      "provenance": [],
      "collapsed_sections": [],
      "toc_visible": true,
      "machine_shape": "hm"
    },
    "kernelspec": {
      "name": "python3",
      "display_name": "Python 3"
    },
    "accelerator": "GPU"
  },
  "cells": [
    {
      "cell_type": "markdown",
      "metadata": {
        "id": "t7QkZJs6OPEN",
        "colab_type": "text"
      },
      "source": [
        "# 1. Importing necessary Libraries and the Dataset."
      ]
    },
    {
      "cell_type": "code",
      "metadata": {
        "id": "Z8Qn4VM1P31b",
        "colab_type": "code",
        "outputId": "066501b6-4591-4511-8dd0-901312acb232",
        "colab": {
          "base_uri": "https://localhost:8080/",
          "height": 666
        }
      },
      "source": [
        "!pip install tensorflow==1.14.0"
      ],
      "execution_count": 1,
      "outputs": [
        {
          "output_type": "stream",
          "text": [
            "Collecting tensorflow==1.14.0\n",
            "\u001b[?25l  Downloading https://files.pythonhosted.org/packages/de/f0/96fb2e0412ae9692dbf400e5b04432885f677ad6241c088ccc5fe7724d69/tensorflow-1.14.0-cp36-cp36m-manylinux1_x86_64.whl (109.2MB)\n",
            "\u001b[K     |████████████████████████████████| 109.2MB 35kB/s \n",
            "\u001b[?25hRequirement already satisfied: gast>=0.2.0 in /usr/local/lib/python3.6/dist-packages (from tensorflow==1.14.0) (0.3.3)\n",
            "Collecting tensorflow-estimator<1.15.0rc0,>=1.14.0rc0\n",
            "\u001b[?25l  Downloading https://files.pythonhosted.org/packages/3c/d5/21860a5b11caf0678fbc8319341b0ae21a07156911132e0e71bffed0510d/tensorflow_estimator-1.14.0-py2.py3-none-any.whl (488kB)\n",
            "\u001b[K     |████████████████████████████████| 491kB 58.8MB/s \n",
            "\u001b[?25hRequirement already satisfied: keras-applications>=1.0.6 in /usr/local/lib/python3.6/dist-packages (from tensorflow==1.14.0) (1.0.8)\n",
            "Requirement already satisfied: grpcio>=1.8.6 in /usr/local/lib/python3.6/dist-packages (from tensorflow==1.14.0) (1.28.1)\n",
            "Requirement already satisfied: termcolor>=1.1.0 in /usr/local/lib/python3.6/dist-packages (from tensorflow==1.14.0) (1.1.0)\n",
            "Requirement already satisfied: google-pasta>=0.1.6 in /usr/local/lib/python3.6/dist-packages (from tensorflow==1.14.0) (0.2.0)\n",
            "Requirement already satisfied: numpy<2.0,>=1.14.5 in /usr/local/lib/python3.6/dist-packages (from tensorflow==1.14.0) (1.18.2)\n",
            "Requirement already satisfied: astor>=0.6.0 in /usr/local/lib/python3.6/dist-packages (from tensorflow==1.14.0) (0.8.1)\n",
            "Requirement already satisfied: absl-py>=0.7.0 in /usr/local/lib/python3.6/dist-packages (from tensorflow==1.14.0) (0.9.0)\n",
            "Requirement already satisfied: six>=1.10.0 in /usr/local/lib/python3.6/dist-packages (from tensorflow==1.14.0) (1.12.0)\n",
            "Requirement already satisfied: protobuf>=3.6.1 in /usr/local/lib/python3.6/dist-packages (from tensorflow==1.14.0) (3.10.0)\n",
            "Collecting tensorboard<1.15.0,>=1.14.0\n",
            "\u001b[?25l  Downloading https://files.pythonhosted.org/packages/91/2d/2ed263449a078cd9c8a9ba50ebd50123adf1f8cfbea1492f9084169b89d9/tensorboard-1.14.0-py3-none-any.whl (3.1MB)\n",
            "\u001b[K     |████████████████████████████████| 3.2MB 58.7MB/s \n",
            "\u001b[?25hRequirement already satisfied: wrapt>=1.11.1 in /usr/local/lib/python3.6/dist-packages (from tensorflow==1.14.0) (1.12.1)\n",
            "Requirement already satisfied: wheel>=0.26 in /usr/local/lib/python3.6/dist-packages (from tensorflow==1.14.0) (0.34.2)\n",
            "Requirement already satisfied: keras-preprocessing>=1.0.5 in /usr/local/lib/python3.6/dist-packages (from tensorflow==1.14.0) (1.1.0)\n",
            "Requirement already satisfied: h5py in /usr/local/lib/python3.6/dist-packages (from keras-applications>=1.0.6->tensorflow==1.14.0) (2.10.0)\n",
            "Requirement already satisfied: setuptools in /usr/local/lib/python3.6/dist-packages (from protobuf>=3.6.1->tensorflow==1.14.0) (46.1.3)\n",
            "Requirement already satisfied: werkzeug>=0.11.15 in /usr/local/lib/python3.6/dist-packages (from tensorboard<1.15.0,>=1.14.0->tensorflow==1.14.0) (1.0.1)\n",
            "Requirement already satisfied: markdown>=2.6.8 in /usr/local/lib/python3.6/dist-packages (from tensorboard<1.15.0,>=1.14.0->tensorflow==1.14.0) (3.2.1)\n",
            "Installing collected packages: tensorflow-estimator, tensorboard, tensorflow\n",
            "  Found existing installation: tensorflow-estimator 2.2.0rc0\n",
            "    Uninstalling tensorflow-estimator-2.2.0rc0:\n",
            "      Successfully uninstalled tensorflow-estimator-2.2.0rc0\n",
            "  Found existing installation: tensorboard 2.2.0\n",
            "    Uninstalling tensorboard-2.2.0:\n",
            "      Successfully uninstalled tensorboard-2.2.0\n",
            "  Found existing installation: tensorflow 2.2.0rc3\n",
            "    Uninstalling tensorflow-2.2.0rc3:\n",
            "      Successfully uninstalled tensorflow-2.2.0rc3\n",
            "Successfully installed tensorboard-1.14.0 tensorflow-1.14.0 tensorflow-estimator-1.14.0\n"
          ],
          "name": "stdout"
        }
      ]
    },
    {
      "cell_type": "code",
      "metadata": {
        "id": "H4PlwNG32k4N",
        "colab_type": "code",
        "outputId": "3def1e53-9890-4a15-9d5d-95198405f158",
        "colab": {
          "base_uri": "https://localhost:8080/",
          "height": 54
        }
      },
      "source": [
        "# This will prompt for authorization.\n",
        "\n",
        "from google.colab import drive\n",
        "drive.mount('/content/drive')"
      ],
      "execution_count": 2,
      "outputs": [
        {
          "output_type": "stream",
          "text": [
            "Drive already mounted at /content/drive; to attempt to forcibly remount, call drive.mount(\"/content/drive\", force_remount=True).\n"
          ],
          "name": "stdout"
        }
      ]
    },
    {
      "cell_type": "markdown",
      "metadata": {
        "id": "Xs8DUtJKR4-X",
        "colab_type": "text"
      },
      "source": [
        "## 1.1 Importing necessary Libraries"
      ]
    },
    {
      "cell_type": "code",
      "metadata": {
        "id": "Ft-w1ujdPror",
        "colab_type": "code",
        "outputId": "750fea48-adbe-4887-860c-0539dec62ebf",
        "colab": {
          "base_uri": "https://localhost:8080/",
          "height": 34
        }
      },
      "source": [
        "# Import necessary Libraries\n",
        "\n",
        "import numpy as np\n",
        "from sklearn.model_selection import train_test_split\n",
        "from keras.utils import to_categorical\n",
        "import keras\n",
        "from keras import models\n",
        "from keras import layers\n",
        "import matplotlib.pyplot as plt\n",
        "%matplotlib inline\n",
        "from sklearn.metrics import classification_report,confusion_matrix\n",
        "import itertools"
      ],
      "execution_count": 3,
      "outputs": [
        {
          "output_type": "stream",
          "text": [
            "Using TensorFlow backend.\n"
          ],
          "name": "stderr"
        }
      ]
    },
    {
      "cell_type": "markdown",
      "metadata": {
        "id": "EFgwmL3uSDZl",
        "colab_type": "text"
      },
      "source": [
        "## 1.2 Reading the data from a shared location in drive"
      ]
    },
    {
      "cell_type": "code",
      "metadata": {
        "id": "8RdJ89ff5I3M",
        "colab_type": "code",
        "colab": {}
      },
      "source": [
        "# Reading data from Train and Test files\n",
        "\n",
        "a=np.load(\"/content/drive/My Drive/Deep Learning Course 2020/classification data/Aug_PCB/s_x_train.npy\")\n",
        "b=np.load(\"/content/drive/My Drive/Deep Learning Course 2020/classification data/Aug_PCB/s_y_train.npy\")\n"
      ],
      "execution_count": 0,
      "outputs": []
    },
    {
      "cell_type": "markdown",
      "metadata": {
        "id": "N-X1mom4SLol",
        "colab_type": "text"
      },
      "source": [
        "## 1.3 High level overview of data"
      ]
    },
    {
      "cell_type": "code",
      "metadata": {
        "id": "mpwasxcTRDhr",
        "colab_type": "code",
        "outputId": "44da6a3d-7a49-436f-bd72-3b86227ca50e",
        "colab": {
          "base_uri": "https://localhost:8080/",
          "height": 51
        }
      },
      "source": [
        "print(\"Number of datapoints in training data : \",a.shape[0])\n",
        "print(\"dimension of each image : \",a.shape[1:])"
      ],
      "execution_count": 0,
      "outputs": [
        {
          "output_type": "stream",
          "text": [
            "Number of datapoints in training data :  5040\n",
            "dimension of each image :  (300, 300, 3)\n"
          ],
          "name": "stdout"
        }
      ]
    },
    {
      "cell_type": "code",
      "metadata": {
        "id": "BvZFc3UZSffo",
        "colab_type": "code",
        "outputId": "9be8319b-e769-4474-eec2-43832cdae6d7",
        "colab": {
          "base_uri": "https://localhost:8080/",
          "height": 51
        }
      },
      "source": [
        "positive_class = 0\n",
        "neg_class = 0\n",
        "for i in b:\n",
        "  if i==0:\n",
        "    neg_class = neg_class+1\n",
        "  else:\n",
        "    positive_class = positive_class+1\n",
        "\n",
        "print(\"Number of negative class data points are : \",neg_class)\n",
        "print(\"NUmber of positive class data points are : \",positive_class)"
      ],
      "execution_count": 0,
      "outputs": [
        {
          "output_type": "stream",
          "text": [
            "Number of negative class data points are :  2520\n",
            "NUmber of positive class data points are :  2520\n"
          ],
          "name": "stdout"
        }
      ]
    },
    {
      "cell_type": "code",
      "metadata": {
        "id": "3j5Rv5sYGK8V",
        "colab_type": "code",
        "outputId": "34127d9d-5d81-4de9-9bee-1a94135ea29c",
        "colab": {
          "base_uri": "https://localhost:8080/",
          "height": 286
        }
      },
      "source": [
        "# view a sample image datapoint\n",
        "\n",
        "plt.imshow(a[500], cmap='gray')\n",
        "print(b[500])"
      ],
      "execution_count": 0,
      "outputs": [
        {
          "output_type": "stream",
          "text": [
            "0.0\n"
          ],
          "name": "stdout"
        },
        {
          "output_type": "display_data",
          "data": {
            "image/png": "[encoded data removed]",
            "text/plain": [
              "<Figure size 432x288 with 1 Axes>"
            ]
          },
          "metadata": {
            "tags": []
          }
        }
      ]
    },
    {
      "cell_type": "markdown",
      "metadata": {
        "id": "wCUSOxJDUPbG",
        "colab_type": "text"
      },
      "source": [
        "# 2. Splitting the data into Train and Test and normalizing the pixel values\n"
      ]
    },
    {
      "cell_type": "code",
      "metadata": {
        "id": "WWs5C1EdGr0L",
        "colab_type": "code",
        "colab": {}
      },
      "source": [
        "# train test split in scikit learn , test size = 30 percent\n",
        "\n",
        "xtrain, xtest, ytrain, ytest = train_test_split(a, b, test_size=0.30, random_state=42)"
      ],
      "execution_count": 0,
      "outputs": []
    },
    {
      "cell_type": "code",
      "metadata": {
        "id": "6cfJF_osHmD0",
        "colab_type": "code",
        "colab": {}
      },
      "source": [
        "xtrain = xtrain.astype('float32')\n",
        "xtest  = xtest.astype('float32')"
      ],
      "execution_count": 0,
      "outputs": []
    },
    {
      "cell_type": "markdown",
      "metadata": {
        "id": "eVJfogGZU1o6",
        "colab_type": "text"
      },
      "source": [
        "## 2.1 Data Normalization"
      ]
    },
    {
      "cell_type": "code",
      "metadata": {
        "id": "9s6UNFM62Djm",
        "colab_type": "code",
        "outputId": "30bc5c38-f3b2-4323-888f-a1fb249a2f22",
        "colab": {
          "base_uri": "https://localhost:8080/",
          "height": 153
        }
      },
      "source": [
        "#keras.utils.normalize(a, axis=-1, order=2)\n",
        "\n",
        "print (np.max(xtrain),np.max(xtest))\n",
        "print (np.min(xtrain),np.min(xtest))\n",
        "\n",
        "print (np.max(ytrain),np.max(ytest))\n",
        "print (np.min(ytrain),np.min(ytest))\n",
        "\n",
        "mean = np.mean(xtrain)\n",
        "std  = np.std(xtrain)\n",
        "\n",
        "print(mean)\n",
        "print(std)\n",
        "\n",
        "xtrain -= mean\n",
        "xtrain /= std\n",
        "\n",
        "xtest -= mean\n",
        "xtest /= std\n",
        "\n",
        "print (np.max(xtrain),np.max(xtest))\n",
        "print (np.min(xtrain),np.min(xtest))"
      ],
      "execution_count": 6,
      "outputs": [
        {
          "output_type": "stream",
          "text": [
            "1.0 1.0\n",
            "0.0 0.0\n",
            "1.0 1.0\n",
            "0.0 0.0\n",
            "0.20859058\n",
            "0.20788237\n",
            "3.807006 3.807006\n",
            "-1.0034068 -1.0034068\n"
          ],
          "name": "stdout"
        }
      ]
    },
    {
      "cell_type": "code",
      "metadata": {
        "id": "7A91IbEa0W8s",
        "colab_type": "code",
        "colab": {}
      },
      "source": [
        "xtrain = xtrain.reshape(xtrain.shape[0],300,300,3)\n",
        "xtest =  xtest.reshape(xtest.shape[0],300,300,3)"
      ],
      "execution_count": 0,
      "outputs": []
    },
    {
      "cell_type": "markdown",
      "metadata": {
        "id": "vytszoG6U_e-",
        "colab_type": "text"
      },
      "source": [
        "## 2.2 One Hot encoding of class labels"
      ]
    },
    {
      "cell_type": "code",
      "metadata": {
        "id": "zMbLmBA_0W2F",
        "colab_type": "code",
        "outputId": "92a7f039-ea3e-411f-ec9a-7cd72d06249d",
        "colab": {
          "base_uri": "https://localhost:8080/",
          "height": 34
        }
      },
      "source": [
        "ytrain = to_categorical(ytrain)\n",
        "ytest  =  to_categorical(ytest)\n",
        "print(ytest[0])"
      ],
      "execution_count": 8,
      "outputs": [
        {
          "output_type": "stream",
          "text": [
            "[0. 1.]\n"
          ],
          "name": "stdout"
        }
      ]
    },
    {
      "cell_type": "markdown",
      "metadata": {
        "id": "CeY0FiJJVNE6",
        "colab_type": "text"
      },
      "source": [
        "# 3. CNN Model for classification of PCB Boards for Augumented Data"
      ]
    },
    {
      "cell_type": "markdown",
      "metadata": {
        "id": "6vrQ7op0VXK6",
        "colab_type": "text"
      },
      "source": [
        "## 3.1 LeNet for Classification"
      ]
    },
    {
      "cell_type": "markdown",
      "metadata": {
        "id": "YAcaw25mai6Y",
        "colab_type": "text"
      },
      "source": [
        "### 3.1.1 LeNet Structure"
      ]
    },
    {
      "cell_type": "code",
      "metadata": {
        "colab_type": "code",
        "outputId": "d5276fb1-5af4-45f1-bce2-31bcc37f6615",
        "id": "wZykkrGxaoIu",
        "colab": {
          "base_uri": "https://localhost:8080/",
          "height": 425
        }
      },
      "source": [
        "model = models.Sequential()\n",
        "\n",
        "model.add(layers.Conv2D(6, (3,3), input_shape=(300,300,3), activation='relu', strides=(1,1), padding='valid'))\n",
        "model.add(layers.AveragePooling2D(pool_size=(2,2), strides=(2,2)))\n",
        "\n",
        "model.add(layers.Conv2D(16, (5,5),activation='relu', strides=(1,1), padding='valid'))\n",
        "model.add(layers.AveragePooling2D(pool_size=(2,2), strides=(2,2)))\n",
        "\n",
        "model.add(layers.Flatten())\n",
        "\n",
        "model.add(layers.Dense(120, activation='relu'))\n",
        "model.add(layers.Dense(84, activation='relu'))\n",
        "model.add(layers.Dense(2, activation='softmax'))\n",
        "\n",
        "model.summary()"
      ],
      "execution_count": 0,
      "outputs": [
        {
          "output_type": "stream",
          "text": [
            "Model: \"sequential_1\"\n",
            "_________________________________________________________________\n",
            "Layer (type)                 Output Shape              Param #   \n",
            "=================================================================\n",
            "conv2d_1 (Conv2D)            (None, 298, 298, 6)       168       \n",
            "_________________________________________________________________\n",
            "average_pooling2d_1 (Average (None, 149, 149, 6)       0         \n",
            "_________________________________________________________________\n",
            "conv2d_2 (Conv2D)            (None, 145, 145, 16)      2416      \n",
            "_________________________________________________________________\n",
            "average_pooling2d_2 (Average (None, 72, 72, 16)        0         \n",
            "_________________________________________________________________\n",
            "flatten_1 (Flatten)          (None, 82944)             0         \n",
            "_________________________________________________________________\n",
            "dense_1 (Dense)              (None, 120)               9953400   \n",
            "_________________________________________________________________\n",
            "dense_2 (Dense)              (None, 84)                10164     \n",
            "_________________________________________________________________\n",
            "dense_3 (Dense)              (None, 2)                 170       \n",
            "=================================================================\n",
            "Total params: 9,966,318\n",
            "Trainable params: 9,966,318\n",
            "Non-trainable params: 0\n",
            "_________________________________________________________________\n"
          ],
          "name": "stdout"
        }
      ]
    },
    {
      "cell_type": "markdown",
      "metadata": {
        "id": "z3D_6FpaapGE",
        "colab_type": "text"
      },
      "source": [
        "### 3.1.2 Compiling and Training Model"
      ]
    },
    {
      "cell_type": "code",
      "metadata": {
        "colab_type": "code",
        "outputId": "9898ac12-767c-4d51-e85e-be4eec0ffd1f",
        "id": "Qgi_sNq7az1J",
        "colab": {
          "base_uri": "https://localhost:8080/",
          "height": 1000
        }
      },
      "source": [
        "# using Adam Optimizer and loss as cat crossentropy\n",
        "\n",
        "model.compile(loss=\"categorical_crossentropy\", optimizer=\"sgd\", metrics=['accuracy'])\n",
        "history=model.fit(xtrain, ytrain, validation_split=(0.2), batch_size=256, epochs=50, verbose=1)"
      ],
      "execution_count": 0,
      "outputs": [
        {
          "output_type": "stream",
          "text": [
            "WARNING:tensorflow:From /usr/local/lib/python3.6/dist-packages/keras/backend/tensorflow_backend.py:422: The name tf.global_variables is deprecated. Please use tf.compat.v1.global_variables instead.\n",
            "\n",
            "Train on 2822 samples, validate on 706 samples\n",
            "Epoch 1/50\n",
            "2822/2822 [==============================] - 94s 33ms/step - loss: 0.6663 - accuracy: 0.6060 - val_loss: 0.7152 - val_accuracy: 0.5297\n",
            "Epoch 2/50\n",
            "2822/2822 [==============================] - 93s 33ms/step - loss: 0.6351 - accuracy: 0.6300 - val_loss: 0.6628 - val_accuracy: 0.5765\n",
            "Epoch 3/50\n",
            "2822/2822 [==============================] - 94s 33ms/step - loss: 0.5651 - accuracy: 0.7077 - val_loss: 0.5240 - val_accuracy: 0.7620\n",
            "Epoch 4/50\n",
            "2822/2822 [==============================] - 93s 33ms/step - loss: 0.4454 - accuracy: 0.8069 - val_loss: 0.8797 - val_accuracy: 0.5439\n",
            "Epoch 5/50\n",
            "2822/2822 [==============================] - 93s 33ms/step - loss: 0.4277 - accuracy: 0.8349 - val_loss: 1.3249 - val_accuracy: 0.5482\n",
            "Epoch 6/50\n",
            "2822/2822 [==============================] - 94s 33ms/step - loss: 0.5490 - accuracy: 0.7892 - val_loss: 0.7688 - val_accuracy: 0.6062\n",
            "Epoch 7/50\n",
            "2822/2822 [==============================] - 93s 33ms/step - loss: 0.4196 - accuracy: 0.8356 - val_loss: 0.4143 - val_accuracy: 0.8272\n",
            "Epoch 8/50\n",
            "2822/2822 [==============================] - 93s 33ms/step - loss: 0.3187 - accuracy: 0.8785 - val_loss: 0.3504 - val_accuracy: 0.8428\n",
            "Epoch 9/50\n",
            "2822/2822 [==============================] - 93s 33ms/step - loss: 0.2801 - accuracy: 0.8916 - val_loss: 0.4989 - val_accuracy: 0.7465\n",
            "Epoch 10/50\n",
            "2822/2822 [==============================] - 93s 33ms/step - loss: 0.2879 - accuracy: 0.8848 - val_loss: 0.3764 - val_accuracy: 0.8385\n",
            "Epoch 11/50\n",
            "2822/2822 [==============================] - 94s 33ms/step - loss: 0.2488 - accuracy: 0.9015 - val_loss: 0.3626 - val_accuracy: 0.8584\n",
            "Epoch 12/50\n",
            "2822/2822 [==============================] - 94s 33ms/step - loss: 0.2004 - accuracy: 0.9206 - val_loss: 0.2764 - val_accuracy: 0.8909\n",
            "Epoch 13/50\n",
            "2822/2822 [==============================] - 94s 33ms/step - loss: 0.1696 - accuracy: 0.9383 - val_loss: 0.3461 - val_accuracy: 0.8513\n",
            "Epoch 14/50\n",
            "2822/2822 [==============================] - 95s 34ms/step - loss: 0.2809 - accuracy: 0.8859 - val_loss: 0.2770 - val_accuracy: 0.8881\n",
            "Epoch 15/50\n",
            "2822/2822 [==============================] - 95s 34ms/step - loss: 0.1533 - accuracy: 0.9419 - val_loss: 0.2503 - val_accuracy: 0.9008\n",
            "Epoch 16/50\n",
            "2822/2822 [==============================] - 95s 34ms/step - loss: 0.1295 - accuracy: 0.9529 - val_loss: 0.2412 - val_accuracy: 0.9051\n",
            "Epoch 17/50\n",
            "2822/2822 [==============================] - 95s 34ms/step - loss: 0.1142 - accuracy: 0.9610 - val_loss: 0.2545 - val_accuracy: 0.9079\n",
            "Epoch 18/50\n",
            "2822/2822 [==============================] - 94s 33ms/step - loss: 0.1040 - accuracy: 0.9631 - val_loss: 0.2653 - val_accuracy: 0.9037\n",
            "Epoch 19/50\n",
            "2822/2822 [==============================] - 93s 33ms/step - loss: 0.0986 - accuracy: 0.9702 - val_loss: 0.2233 - val_accuracy: 0.9193\n",
            "Epoch 20/50\n",
            "2822/2822 [==============================] - 93s 33ms/step - loss: 0.0865 - accuracy: 0.9731 - val_loss: 0.5330 - val_accuracy: 0.8470\n",
            "Epoch 21/50\n",
            "2822/2822 [==============================] - 94s 33ms/step - loss: 0.6373 - accuracy: 0.8412 - val_loss: 0.2669 - val_accuracy: 0.8966\n",
            "Epoch 22/50\n",
            "2822/2822 [==============================] - 95s 34ms/step - loss: 0.1591 - accuracy: 0.9465 - val_loss: 0.3100 - val_accuracy: 0.8357\n",
            "Epoch 23/50\n",
            "2822/2822 [==============================] - 96s 34ms/step - loss: 0.1352 - accuracy: 0.9546 - val_loss: 0.2155 - val_accuracy: 0.9207\n",
            "Epoch 24/50\n",
            "2822/2822 [==============================] - 96s 34ms/step - loss: 0.1000 - accuracy: 0.9674 - val_loss: 0.3254 - val_accuracy: 0.8300\n",
            "Epoch 25/50\n",
            "2822/2822 [==============================] - 96s 34ms/step - loss: 0.1034 - accuracy: 0.9649 - val_loss: 0.2102 - val_accuracy: 0.9278\n",
            "Epoch 26/50\n",
            "2822/2822 [==============================] - 96s 34ms/step - loss: 0.0785 - accuracy: 0.9773 - val_loss: 0.2338 - val_accuracy: 0.9008\n",
            "Epoch 27/50\n",
            "2822/2822 [==============================] - 95s 34ms/step - loss: 0.0757 - accuracy: 0.9752 - val_loss: 0.2729 - val_accuracy: 0.8853\n",
            "Epoch 28/50\n",
            "2822/2822 [==============================] - 94s 33ms/step - loss: 0.0801 - accuracy: 0.9706 - val_loss: 0.2008 - val_accuracy: 0.9320\n",
            "Epoch 29/50\n",
            "2822/2822 [==============================] - 93s 33ms/step - loss: 0.0629 - accuracy: 0.9844 - val_loss: 0.2388 - val_accuracy: 0.9320\n",
            "Epoch 30/50\n",
            "2822/2822 [==============================] - 93s 33ms/step - loss: 0.0602 - accuracy: 0.9812 - val_loss: 0.2379 - val_accuracy: 0.9093\n",
            "Epoch 31/50\n",
            "2822/2822 [==============================] - 93s 33ms/step - loss: 0.0603 - accuracy: 0.9809 - val_loss: 0.2194 - val_accuracy: 0.9348\n",
            "Epoch 32/50\n",
            "2822/2822 [==============================] - 93s 33ms/step - loss: 0.0533 - accuracy: 0.9837 - val_loss: 0.9539 - val_accuracy: 0.8003\n",
            "Epoch 33/50\n",
            "2822/2822 [==============================] - 95s 34ms/step - loss: 0.1261 - accuracy: 0.9717 - val_loss: 0.2737 - val_accuracy: 0.9093\n",
            "Epoch 34/50\n",
            "2822/2822 [==============================] - 93s 33ms/step - loss: 0.0556 - accuracy: 0.9833 - val_loss: 0.2224 - val_accuracy: 0.9320\n",
            "Epoch 35/50\n",
            "2822/2822 [==============================] - 93s 33ms/step - loss: 0.0516 - accuracy: 0.9851 - val_loss: 0.2437 - val_accuracy: 0.9150\n",
            "Epoch 36/50\n",
            "2822/2822 [==============================] - 94s 33ms/step - loss: 0.0592 - accuracy: 0.9763 - val_loss: 0.2434 - val_accuracy: 0.9306\n",
            "Epoch 37/50\n",
            "2822/2822 [==============================] - 95s 34ms/step - loss: 0.0460 - accuracy: 0.9851 - val_loss: 0.2347 - val_accuracy: 0.9320\n",
            "Epoch 38/50\n",
            "2822/2822 [==============================] - 93s 33ms/step - loss: 0.0420 - accuracy: 0.9894 - val_loss: 0.2797 - val_accuracy: 0.9193\n",
            "Epoch 39/50\n",
            "2822/2822 [==============================] - 95s 34ms/step - loss: 0.0504 - accuracy: 0.9855 - val_loss: 0.2440 - val_accuracy: 0.9278\n",
            "Epoch 40/50\n",
            "2822/2822 [==============================] - 93s 33ms/step - loss: 0.0400 - accuracy: 0.9887 - val_loss: 0.2639 - val_accuracy: 0.9108\n",
            "Epoch 41/50\n",
            "2822/2822 [==============================] - 95s 34ms/step - loss: 0.0432 - accuracy: 0.9869 - val_loss: 0.2282 - val_accuracy: 0.9433\n",
            "Epoch 42/50\n",
            "2822/2822 [==============================] - 96s 34ms/step - loss: 0.0356 - accuracy: 0.9911 - val_loss: 0.2174 - val_accuracy: 0.9391\n",
            "Epoch 43/50\n",
            "2822/2822 [==============================] - 95s 34ms/step - loss: 0.0351 - accuracy: 0.9915 - val_loss: 0.2750 - val_accuracy: 0.9193\n",
            "Epoch 44/50\n",
            "2822/2822 [==============================] - 95s 34ms/step - loss: 0.0375 - accuracy: 0.9872 - val_loss: 0.2128 - val_accuracy: 0.9476\n",
            "Epoch 45/50\n",
            "2822/2822 [==============================] - 95s 34ms/step - loss: 0.0305 - accuracy: 0.9915 - val_loss: 0.2195 - val_accuracy: 0.9348\n",
            "Epoch 46/50\n",
            "2822/2822 [==============================] - 96s 34ms/step - loss: 0.0312 - accuracy: 0.9904 - val_loss: 0.2188 - val_accuracy: 0.9462\n",
            "Epoch 47/50\n",
            "2822/2822 [==============================] - 93s 33ms/step - loss: 0.0290 - accuracy: 0.9922 - val_loss: 0.2278 - val_accuracy: 0.9433\n",
            "Epoch 48/50\n",
            "2822/2822 [==============================] - 94s 33ms/step - loss: 0.0291 - accuracy: 0.9908 - val_loss: 0.2249 - val_accuracy: 0.9476\n",
            "Epoch 49/50\n",
            "2822/2822 [==============================] - 95s 34ms/step - loss: 0.0264 - accuracy: 0.9922 - val_loss: 0.2254 - val_accuracy: 0.9476\n",
            "Epoch 50/50\n",
            "2822/2822 [==============================] - 93s 33ms/step - loss: 0.0276 - accuracy: 0.9926 - val_loss: 0.5961 - val_accuracy: 0.8725\n"
          ],
          "name": "stdout"
        }
      ]
    },
    {
      "cell_type": "markdown",
      "metadata": {
        "id": "lJc-JXOabKcR",
        "colab_type": "text"
      },
      "source": [
        "### 3.1.3 Results on Test data."
      ]
    },
    {
      "cell_type": "code",
      "metadata": {
        "colab_type": "code",
        "outputId": "119df27c-ac61-4984-df0d-b9c6dca9ede7",
        "id": "3L-qZyCWbFRw",
        "colab": {
          "base_uri": "https://localhost:8080/",
          "height": 51
        }
      },
      "source": [
        "model.evaluate(xtest,ytest)"
      ],
      "execution_count": 0,
      "outputs": [
        {
          "output_type": "stream",
          "text": [
            "1512/1512 [==============================] - 22s 15ms/step\n"
          ],
          "name": "stdout"
        },
        {
          "output_type": "execute_result",
          "data": {
            "text/plain": [
              "[0.5329912370218645, 0.8849206566810608]"
            ]
          },
          "metadata": {
            "tags": []
          },
          "execution_count": 19
        }
      ]
    },
    {
      "cell_type": "code",
      "metadata": {
        "colab_type": "code",
        "outputId": "260432bc-e7dd-48d4-a911-edd332325041",
        "id": "EF6lX4kFbFR1",
        "colab": {
          "base_uri": "https://localhost:8080/",
          "height": 51
        }
      },
      "source": [
        "pred=model.predict(xtest[0].reshape(1,300,300,3))\n",
        "print(pred)\n",
        "print(pred.argmax())"
      ],
      "execution_count": 0,
      "outputs": [
        {
          "output_type": "stream",
          "text": [
            "[[6.7450455e-05 9.9993253e-01]]\n",
            "1\n"
          ],
          "name": "stdout"
        }
      ]
    },
    {
      "cell_type": "code",
      "metadata": {
        "colab_type": "code",
        "outputId": "84c4fda5-76d6-4fe5-ba20-e0bc73883866",
        "id": "-lt84c6vbFR5",
        "colab": {
          "base_uri": "https://localhost:8080/",
          "height": 68
        }
      },
      "source": [
        "test_loss,test_acc=model.evaluate(xtest,ytest)\n",
        "print(test_loss)\n",
        "print(test_acc)"
      ],
      "execution_count": 0,
      "outputs": [
        {
          "output_type": "stream",
          "text": [
            "1512/1512 [==============================] - 19s 12ms/step\n",
            "0.5329912370218645\n",
            "0.8849206566810608\n"
          ],
          "name": "stdout"
        }
      ]
    },
    {
      "cell_type": "code",
      "metadata": {
        "colab_type": "code",
        "id": "vU_7Sc1LbFR9",
        "colab": {}
      },
      "source": [
        "train_loss = history.history['loss']\n",
        "train_acc = history.history['accuracy']\n",
        "val_loss = history.history['val_loss']\n",
        "val_acc = history.history['val_accuracy']\n",
        "xc=range(len(train_loss))"
      ],
      "execution_count": 0,
      "outputs": []
    },
    {
      "cell_type": "code",
      "metadata": {
        "colab_type": "code",
        "outputId": "78acd188-93cc-4a01-9c00-e81f317d906c",
        "id": "JdyopebGbFSB",
        "colab": {
          "base_uri": "https://localhost:8080/",
          "height": 296
        }
      },
      "source": [
        "\n",
        "plt.plot(xc, train_loss)\n",
        "plt.plot(xc, val_loss)\n",
        "plt.xlabel(\"Epoch\")\n",
        "plt.ylabel(\"Loss\")\n",
        "plt.legend(['train','val'])"
      ],
      "execution_count": 0,
      "outputs": [
        {
          "output_type": "execute_result",
          "data": {
            "text/plain": [
              "<matplotlib.legend.Legend at 0x7f58c9713160>"
            ]
          },
          "metadata": {
            "tags": []
          },
          "execution_count": 25
        },
        {
          "output_type": "display_data",
          "data": {
            "image/png": "[encoded data removed]",
            "text/plain": [
              "<Figure size 432x288 with 1 Axes>"
            ]
          },
          "metadata": {
            "tags": [],
            "needs_background": "light"
          }
        }
      ]
    },
    {
      "cell_type": "code",
      "metadata": {
        "colab_type": "code",
        "outputId": "13d37845-79ea-4386-bc22-31d8fadf46c4",
        "id": "1aLsILHObFSG",
        "colab": {
          "base_uri": "https://localhost:8080/",
          "height": 296
        }
      },
      "source": [
        "\n",
        "plt.plot(xc, train_acc)\n",
        "plt.plot(xc, val_acc)\n",
        "plt.xlabel(\"Epoch\")\n",
        "plt.ylabel(\"Acc\")\n",
        "plt.legend(['train','val'])"
      ],
      "execution_count": 0,
      "outputs": [
        {
          "output_type": "execute_result",
          "data": {
            "text/plain": [
              "<matplotlib.legend.Legend at 0x7f58c967fd68>"
            ]
          },
          "metadata": {
            "tags": []
          },
          "execution_count": 26
        },
        {
          "output_type": "display_data",
          "data": {
            "image/png": "[encoded data removed]",
            "text/plain": [
              "<Figure size 432x288 with 1 Axes>"
            ]
          },
          "metadata": {
            "tags": [],
            "needs_background": "light"
          }
        }
      ]
    },
    {
      "cell_type": "code",
      "metadata": {
        "colab_type": "code",
        "outputId": "91bbd57a-7fe7-4972-962d-6ac5c8dfb8a6",
        "id": "gWOfhkwIbFSJ",
        "colab": {
          "base_uri": "https://localhost:8080/",
          "height": 187
        }
      },
      "source": [
        "\n",
        "for i in range(10):\n",
        "    pred = model.predict(xtest[i].reshape(1, 300, 300, 3))\n",
        "    print(\"\"+str(i+1)+\" Actual is \"+ \" \" + str(ytest[i])+\" Predicted is \"+str(pred.argmax()))"
      ],
      "execution_count": 0,
      "outputs": [
        {
          "output_type": "stream",
          "text": [
            "1 Actual is  [0. 1.] Predicted is 1\n",
            "2 Actual is  [0. 1.] Predicted is 0\n",
            "3 Actual is  [1. 0.] Predicted is 0\n",
            "4 Actual is  [0. 1.] Predicted is 1\n",
            "5 Actual is  [0. 1.] Predicted is 1\n",
            "6 Actual is  [0. 1.] Predicted is 1\n",
            "7 Actual is  [1. 0.] Predicted is 0\n",
            "8 Actual is  [0. 1.] Predicted is 1\n",
            "9 Actual is  [0. 1.] Predicted is 0\n",
            "10 Actual is  [1. 0.] Predicted is 0\n"
          ],
          "name": "stdout"
        }
      ]
    },
    {
      "cell_type": "markdown",
      "metadata": {
        "id": "IUPFbTYbbTVO",
        "colab_type": "text"
      },
      "source": [
        "### 3.1.4 F1 score and Confusion Matrix"
      ]
    },
    {
      "cell_type": "code",
      "metadata": {
        "colab_type": "code",
        "outputId": "0c34133b-a927-4978-f329-d6cc96ccd1dd",
        "id": "b1zmhs6pbFSN",
        "colab": {
          "base_uri": "https://localhost:8080/",
          "height": 170
        }
      },
      "source": [
        "Y_pred = model.predict(xtest)\n",
        "y_pred = np.argmax(Y_pred, axis=1)\n",
        "target_names = ['class 0', 'class 1']\n",
        "print(classification_report(np.argmax(ytest,axis=1), y_pred,target_names=target_names))"
      ],
      "execution_count": 0,
      "outputs": [
        {
          "output_type": "stream",
          "text": [
            "              precision    recall  f1-score   support\n",
            "\n",
            "     class 0       0.82      0.99      0.90       773\n",
            "     class 1       0.99      0.77      0.87       739\n",
            "\n",
            "    accuracy                           0.88      1512\n",
            "   macro avg       0.90      0.88      0.88      1512\n",
            "weighted avg       0.90      0.88      0.88      1512\n",
            "\n"
          ],
          "name": "stdout"
        }
      ]
    },
    {
      "cell_type": "code",
      "metadata": {
        "colab_type": "code",
        "id": "N6UYcsj4bFSQ",
        "colab": {}
      },
      "source": [
        "def plot_confusion_matrix(cm, classes,\n",
        "                          normalize=False,\n",
        "                          title='Confusion matrix',\n",
        "                          cmap=plt.cm.Blues):\n",
        "    \"\"\"\n",
        "    This function prints and plots the confusion matrix.\n",
        "    Normalization can be applied by setting `normalize=True`.\n",
        "    \"\"\"\n",
        "    plt.imshow(cm, interpolation='nearest', cmap=cmap)\n",
        "    plt.title(title)\n",
        "    plt.colorbar()\n",
        "    tick_marks = np.arange(len(classes))\n",
        "    plt.xticks(tick_marks, classes, rotation=45)\n",
        "    plt.yticks(tick_marks, classes)\n",
        "\n",
        "    if normalize:\n",
        "        cm = cm.astype('float') / cm.sum(axis=1)[:, np.newaxis]\n",
        "        print(\"Normalized confusion matrix\")\n",
        "    else:\n",
        "        print('Confusion matrix, without normalization')\n",
        "\n",
        "    print(cm)\n",
        "\n",
        "    thresh = cm.max() / 2.\n",
        "    for i, j in itertools.product(range(cm.shape[0]), range(cm.shape[1])):\n",
        "        plt.text(j, i, cm[i, j],\n",
        "                 horizontalalignment=\"center\",\n",
        "                 color=\"white\" if cm[i, j] > thresh else \"black\")\n",
        "        \n",
        "\n",
        "    plt.tight_layout()\n",
        "    plt.ylabel('True label')\n",
        "    plt.xlabel('Predicted label')"
      ],
      "execution_count": 0,
      "outputs": []
    },
    {
      "cell_type": "code",
      "metadata": {
        "colab_type": "code",
        "outputId": "2e1816af-9486-4697-a47f-0bd78d225041",
        "id": "USeUMqAZbFST",
        "colab": {
          "base_uri": "https://localhost:8080/",
          "height": 780
        }
      },
      "source": [
        "cnf_matrix = (confusion_matrix(np.argmax(ytest,axis=1), y_pred))\n",
        "np.set_printoptions(precision=2)\n",
        "plt.figure(figsize=(10,10))\n",
        "plot_confusion_matrix(cnf_matrix, classes=target_names,\n",
        "                      title='Confusion matrix')\n",
        "#plt.show()"
      ],
      "execution_count": 0,
      "outputs": [
        {
          "output_type": "stream",
          "text": [
            "Confusion matrix, without normalization\n",
            "[[766   7]\n",
            " [167 572]]\n"
          ],
          "name": "stdout"
        },
        {
          "output_type": "display_data",
          "data": {
            "image/png": "[encoded data removed]",
            "text/plain": [
              "<Figure size 720x720 with 2 Axes>"
            ]
          },
          "metadata": {
            "tags": [],
            "needs_background": "light"
          }
        }
      ]
    },
    {
      "cell_type": "markdown",
      "metadata": {
        "id": "MLNyT0jaeFUT",
        "colab_type": "text"
      },
      "source": [
        "## 3.2 Modified LeNet (3 Concolutional-Max Pooling Layers)"
      ]
    },
    {
      "cell_type": "markdown",
      "metadata": {
        "id": "0igejsFTaUKe",
        "colab_type": "text"
      },
      "source": [
        "### 3.2.1 Modified Structure"
      ]
    },
    {
      "cell_type": "code",
      "metadata": {
        "colab_type": "code",
        "outputId": "9d81f90d-c8d1-4874-b0b4-548463b87761",
        "id": "NANDtveUDMUD",
        "colab": {
          "base_uri": "https://localhost:8080/",
          "height": 547
        }
      },
      "source": [
        "# Slight Modification of LeNet (1998) model with one extra convolutional layer before flattening\n",
        "\n",
        "model = models.Sequential()\n",
        "\n",
        "model.add(layers.Conv2D(6, (3,3), input_shape=(300,300,3), activation='relu', strides=(1,1), padding='valid'))\n",
        "model.add(layers.MaxPooling2D(pool_size=(2,2), strides=(2,2)))\n",
        "\n",
        "model.add(layers.Conv2D(16, (5,5),activation='relu', strides=(1,1), padding='valid'))\n",
        "model.add(layers.MaxPooling2D(pool_size=(2,2), strides=(2,2)))\n",
        "\n",
        "model.add(layers.Conv2D(16, (5,5),activation='relu', strides=(1,1), padding='valid'))\n",
        "model.add(layers.MaxPooling2D(pool_size=(2,2), strides=(2,2)))\n",
        "\n",
        "model.add(layers.Flatten())\n",
        "\n",
        "model.add(layers.Dense(120, activation='relu'))\n",
        "model.add(layers.Dense(84, activation='relu'))\n",
        "\n",
        "model.add(layers.Dense(2, activation='softmax'))\n",
        "\n",
        "model.summary()"
      ],
      "execution_count": 15,
      "outputs": [
        {
          "output_type": "stream",
          "text": [
            "WARNING:tensorflow:From /usr/local/lib/python3.6/dist-packages/keras/backend/tensorflow_backend.py:4070: The name tf.nn.max_pool is deprecated. Please use tf.nn.max_pool2d instead.\n",
            "\n",
            "Model: \"sequential_1\"\n",
            "_________________________________________________________________\n",
            "Layer (type)                 Output Shape              Param #   \n",
            "=================================================================\n",
            "conv2d_1 (Conv2D)            (None, 298, 298, 6)       168       \n",
            "_________________________________________________________________\n",
            "max_pooling2d_1 (MaxPooling2 (None, 149, 149, 6)       0         \n",
            "_________________________________________________________________\n",
            "conv2d_2 (Conv2D)            (None, 145, 145, 16)      2416      \n",
            "_________________________________________________________________\n",
            "max_pooling2d_2 (MaxPooling2 (None, 72, 72, 16)        0         \n",
            "_________________________________________________________________\n",
            "conv2d_3 (Conv2D)            (None, 68, 68, 16)        6416      \n",
            "_________________________________________________________________\n",
            "max_pooling2d_3 (MaxPooling2 (None, 34, 34, 16)        0         \n",
            "_________________________________________________________________\n",
            "flatten_1 (Flatten)          (None, 18496)             0         \n",
            "_________________________________________________________________\n",
            "dense_1 (Dense)              (None, 120)               2219640   \n",
            "_________________________________________________________________\n",
            "dense_2 (Dense)              (None, 84)                10164     \n",
            "_________________________________________________________________\n",
            "dense_3 (Dense)              (None, 2)                 170       \n",
            "=================================================================\n",
            "Total params: 2,238,974\n",
            "Trainable params: 2,238,974\n",
            "Non-trainable params: 0\n",
            "_________________________________________________________________\n"
          ],
          "name": "stdout"
        }
      ]
    },
    {
      "cell_type": "markdown",
      "metadata": {
        "id": "Jwg-TfmEWd9-",
        "colab_type": "text"
      },
      "source": [
        "### 3.2.2 Compiling and training the Model"
      ]
    },
    {
      "cell_type": "code",
      "metadata": {
        "id": "03UQEmQLmuHj",
        "colab_type": "code",
        "outputId": "51dfb644-3dc2-4d4d-99a8-664964004f8a",
        "colab": {
          "base_uri": "https://localhost:8080/",
          "height": 1000
        }
      },
      "source": [
        "# using Adam Optimizer and loss as cat crossentropy\n",
        "\n",
        "model.compile(loss=\"categorical_crossentropy\", optimizer=\"Adam\", metrics=['accuracy'])\n",
        "history=model.fit(xtrain, ytrain, validation_split=(0.2), batch_size=256, epochs=50, verbose=1)"
      ],
      "execution_count": 22,
      "outputs": [
        {
          "output_type": "stream",
          "text": [
            "WARNING:tensorflow:From /usr/local/lib/python3.6/dist-packages/keras/backend/tensorflow_backend.py:422: The name tf.global_variables is deprecated. Please use tf.compat.v1.global_variables instead.\n",
            "\n",
            "Train on 2822 samples, validate on 706 samples\n",
            "Epoch 1/50\n",
            "2822/2822 [==============================] - 115s 41ms/step - loss: 0.8327 - accuracy: 0.5354 - val_loss: 0.6014 - val_accuracy: 0.7153\n",
            "Epoch 2/50\n",
            "2822/2822 [==============================] - 115s 41ms/step - loss: 0.5100 - accuracy: 0.7307 - val_loss: 0.4278 - val_accuracy: 0.8102\n",
            "Epoch 3/50\n",
            "2822/2822 [==============================] - 115s 41ms/step - loss: 0.3502 - accuracy: 0.8529 - val_loss: 0.3283 - val_accuracy: 0.8725\n",
            "Epoch 4/50\n",
            "2822/2822 [==============================] - 115s 41ms/step - loss: 0.2344 - accuracy: 0.9086 - val_loss: 0.2807 - val_accuracy: 0.8909\n",
            "Epoch 5/50\n",
            "2822/2822 [==============================] - 116s 41ms/step - loss: 0.1604 - accuracy: 0.9352 - val_loss: 0.3047 - val_accuracy: 0.9150\n",
            "Epoch 6/50\n",
            "2822/2822 [==============================] - 116s 41ms/step - loss: 0.1096 - accuracy: 0.9642 - val_loss: 0.2760 - val_accuracy: 0.9178\n",
            "Epoch 7/50\n",
            "2822/2822 [==============================] - 116s 41ms/step - loss: 0.0770 - accuracy: 0.9699 - val_loss: 0.3134 - val_accuracy: 0.9292\n",
            "Epoch 8/50\n",
            "2822/2822 [==============================] - 115s 41ms/step - loss: 0.0503 - accuracy: 0.9816 - val_loss: 0.3064 - val_accuracy: 0.9419\n",
            "Epoch 9/50\n",
            "2822/2822 [==============================] - 115s 41ms/step - loss: 0.0325 - accuracy: 0.9872 - val_loss: 0.3343 - val_accuracy: 0.9476\n",
            "Epoch 10/50\n",
            "2822/2822 [==============================] - 115s 41ms/step - loss: 0.0231 - accuracy: 0.9922 - val_loss: 0.5161 - val_accuracy: 0.9292\n",
            "Epoch 11/50\n",
            "2822/2822 [==============================] - 116s 41ms/step - loss: 0.0215 - accuracy: 0.9922 - val_loss: 0.3446 - val_accuracy: 0.9448\n",
            "Epoch 12/50\n",
            "2822/2822 [==============================] - 115s 41ms/step - loss: 0.0189 - accuracy: 0.9940 - val_loss: 0.4098 - val_accuracy: 0.9448\n",
            "Epoch 13/50\n",
            "2822/2822 [==============================] - 115s 41ms/step - loss: 0.0131 - accuracy: 0.9957 - val_loss: 0.4245 - val_accuracy: 0.9490\n",
            "Epoch 14/50\n",
            "2822/2822 [==============================] - 116s 41ms/step - loss: 0.0129 - accuracy: 0.9961 - val_loss: 0.3631 - val_accuracy: 0.9462\n",
            "Epoch 15/50\n",
            "2822/2822 [==============================] - 115s 41ms/step - loss: 0.0160 - accuracy: 0.9954 - val_loss: 0.3889 - val_accuracy: 0.9433\n",
            "Epoch 16/50\n",
            "2822/2822 [==============================] - 115s 41ms/step - loss: 0.1167 - accuracy: 0.9628 - val_loss: 0.6727 - val_accuracy: 0.8116\n",
            "Epoch 17/50\n",
            "2822/2822 [==============================] - 115s 41ms/step - loss: 0.1340 - accuracy: 0.9564 - val_loss: 0.2446 - val_accuracy: 0.9292\n",
            "Epoch 18/50\n",
            "2822/2822 [==============================] - 115s 41ms/step - loss: 0.0569 - accuracy: 0.9823 - val_loss: 0.2848 - val_accuracy: 0.9547\n",
            "Epoch 19/50\n",
            "2822/2822 [==============================] - 116s 41ms/step - loss: 0.0210 - accuracy: 0.9940 - val_loss: 0.4148 - val_accuracy: 0.9490\n",
            "Epoch 20/50\n",
            "2822/2822 [==============================] - 115s 41ms/step - loss: 0.0116 - accuracy: 0.9968 - val_loss: 0.4514 - val_accuracy: 0.9490\n",
            "Epoch 21/50\n",
            "2822/2822 [==============================] - 116s 41ms/step - loss: 0.0093 - accuracy: 0.9975 - val_loss: 0.4368 - val_accuracy: 0.9490\n",
            "Epoch 22/50\n",
            "2822/2822 [==============================] - 116s 41ms/step - loss: 0.0065 - accuracy: 0.9986 - val_loss: 0.4315 - val_accuracy: 0.9476\n",
            "Epoch 23/50\n",
            "2822/2822 [==============================] - 116s 41ms/step - loss: 0.0063 - accuracy: 0.9979 - val_loss: 0.5034 - val_accuracy: 0.9490\n",
            "Epoch 24/50\n",
            "2822/2822 [==============================] - 116s 41ms/step - loss: 0.0077 - accuracy: 0.9975 - val_loss: 0.4897 - val_accuracy: 0.9518\n",
            "Epoch 25/50\n",
            "2822/2822 [==============================] - 116s 41ms/step - loss: 0.0069 - accuracy: 0.9982 - val_loss: 0.4443 - val_accuracy: 0.9518\n",
            "Epoch 26/50\n",
            "2822/2822 [==============================] - 116s 41ms/step - loss: 0.0071 - accuracy: 0.9986 - val_loss: 0.4924 - val_accuracy: 0.9518\n",
            "Epoch 27/50\n",
            "2822/2822 [==============================] - 117s 41ms/step - loss: 0.0037 - accuracy: 0.9993 - val_loss: 0.4934 - val_accuracy: 0.9533\n",
            "Epoch 28/50\n",
            "2822/2822 [==============================] - 116s 41ms/step - loss: 0.0025 - accuracy: 0.9996 - val_loss: 0.4721 - val_accuracy: 0.9533\n",
            "Epoch 29/50\n",
            "2822/2822 [==============================] - 116s 41ms/step - loss: 0.0025 - accuracy: 0.9993 - val_loss: 0.5122 - val_accuracy: 0.9547\n",
            "Epoch 30/50\n",
            "2822/2822 [==============================] - 116s 41ms/step - loss: 0.0021 - accuracy: 0.9993 - val_loss: 0.4800 - val_accuracy: 0.9533\n",
            "Epoch 31/50\n",
            "2822/2822 [==============================] - 116s 41ms/step - loss: 0.0016 - accuracy: 0.9996 - val_loss: 0.5297 - val_accuracy: 0.9533\n",
            "Epoch 32/50\n",
            "2822/2822 [==============================] - 116s 41ms/step - loss: 0.0015 - accuracy: 1.0000 - val_loss: 0.4831 - val_accuracy: 0.9533\n",
            "Epoch 33/50\n",
            "2822/2822 [==============================] - 116s 41ms/step - loss: 0.0015 - accuracy: 0.9993 - val_loss: 0.5695 - val_accuracy: 0.9504\n",
            "Epoch 34/50\n",
            "2822/2822 [==============================] - 116s 41ms/step - loss: 0.0028 - accuracy: 0.9993 - val_loss: 0.5048 - val_accuracy: 0.9575\n",
            "Epoch 35/50\n",
            "2822/2822 [==============================] - 117s 41ms/step - loss: 0.0010 - accuracy: 1.0000 - val_loss: 0.5053 - val_accuracy: 0.9561\n",
            "Epoch 36/50\n",
            "2822/2822 [==============================] - 117s 41ms/step - loss: 0.0011 - accuracy: 0.9996 - val_loss: 0.5228 - val_accuracy: 0.9547\n",
            "Epoch 37/50\n",
            "2822/2822 [==============================] - 117s 42ms/step - loss: 0.0012 - accuracy: 0.9996 - val_loss: 0.6057 - val_accuracy: 0.9490\n",
            "Epoch 38/50\n",
            "2822/2822 [==============================] - 117s 41ms/step - loss: 0.0112 - accuracy: 0.9957 - val_loss: 0.5939 - val_accuracy: 0.9533\n",
            "Epoch 39/50\n",
            "2822/2822 [==============================] - 117s 41ms/step - loss: 0.0071 - accuracy: 0.9979 - val_loss: 0.4862 - val_accuracy: 0.9575\n",
            "Epoch 40/50\n",
            "2822/2822 [==============================] - 116s 41ms/step - loss: 0.0042 - accuracy: 0.9986 - val_loss: 0.4692 - val_accuracy: 0.9589\n",
            "Epoch 41/50\n",
            "2822/2822 [==============================] - 116s 41ms/step - loss: 0.0025 - accuracy: 0.9989 - val_loss: 0.5017 - val_accuracy: 0.9589\n",
            "Epoch 42/50\n",
            "2822/2822 [==============================] - 116s 41ms/step - loss: 0.0013 - accuracy: 1.0000 - val_loss: 0.5000 - val_accuracy: 0.9603\n",
            "Epoch 43/50\n",
            "2822/2822 [==============================] - 119s 42ms/step - loss: 8.6938e-04 - accuracy: 1.0000 - val_loss: 0.5280 - val_accuracy: 0.9603\n",
            "Epoch 44/50\n",
            "2822/2822 [==============================] - 116s 41ms/step - loss: 7.3542e-04 - accuracy: 1.0000 - val_loss: 0.5396 - val_accuracy: 0.9603\n",
            "Epoch 45/50\n",
            "2822/2822 [==============================] - 116s 41ms/step - loss: 4.8202e-04 - accuracy: 1.0000 - val_loss: 0.5325 - val_accuracy: 0.9603\n",
            "Epoch 46/50\n",
            "2822/2822 [==============================] - 116s 41ms/step - loss: 4.2321e-04 - accuracy: 1.0000 - val_loss: 0.5492 - val_accuracy: 0.9603\n",
            "Epoch 47/50\n",
            "2822/2822 [==============================] - 116s 41ms/step - loss: 4.9715e-04 - accuracy: 1.0000 - val_loss: 0.5474 - val_accuracy: 0.9603\n",
            "Epoch 48/50\n",
            "2822/2822 [==============================] - 116s 41ms/step - loss: 3.1262e-04 - accuracy: 1.0000 - val_loss: 0.5522 - val_accuracy: 0.9603\n",
            "Epoch 49/50\n",
            "2822/2822 [==============================] - 116s 41ms/step - loss: 2.3476e-04 - accuracy: 1.0000 - val_loss: 0.5631 - val_accuracy: 0.9603\n",
            "Epoch 50/50\n",
            "2822/2822 [==============================] - 116s 41ms/step - loss: 2.2234e-04 - accuracy: 1.0000 - val_loss: 0.5669 - val_accuracy: 0.9603\n"
          ],
          "name": "stdout"
        }
      ]
    },
    {
      "cell_type": "markdown",
      "metadata": {
        "id": "m8npIPizejIH",
        "colab_type": "text"
      },
      "source": [
        "### 3.2.3 Results on Test Data"
      ]
    },
    {
      "cell_type": "code",
      "metadata": {
        "id": "0f6vWqxtFsnW",
        "colab_type": "code",
        "outputId": "ce6450e9-cac7-4e13-8dff-74003cc23de9",
        "colab": {
          "base_uri": "https://localhost:8080/",
          "height": 51
        }
      },
      "source": [
        "model.evaluate(xtest,ytest)"
      ],
      "execution_count": 23,
      "outputs": [
        {
          "output_type": "stream",
          "text": [
            "1512/1512 [==============================] - 22s 14ms/step\n"
          ],
          "name": "stdout"
        },
        {
          "output_type": "execute_result",
          "data": {
            "text/plain": [
              "[0.3783596193414788, 0.9589946866035461]"
            ]
          },
          "metadata": {
            "tags": []
          },
          "execution_count": 23
        }
      ]
    },
    {
      "cell_type": "code",
      "metadata": {
        "id": "CFrhtFNvSFbh",
        "colab_type": "code",
        "outputId": "71e48b01-1372-4afc-b448-bdfd86839aab",
        "colab": {
          "base_uri": "https://localhost:8080/",
          "height": 51
        }
      },
      "source": [
        "pred=model.predict(xtest[0].reshape(1,300,300,3))\n",
        "print(pred)\n",
        "print(pred.argmax())"
      ],
      "execution_count": 24,
      "outputs": [
        {
          "output_type": "stream",
          "text": [
            "[[2.4584218e-10 1.0000000e+00]]\n",
            "1\n"
          ],
          "name": "stdout"
        }
      ]
    },
    {
      "cell_type": "code",
      "metadata": {
        "id": "NXrljEXjGGcs",
        "colab_type": "code",
        "outputId": "99cec9d9-298f-440f-fc77-c2cf28583035",
        "colab": {
          "base_uri": "https://localhost:8080/",
          "height": 68
        }
      },
      "source": [
        "test_loss,test_acc=model.evaluate(xtest,ytest)\n",
        "print(test_loss)\n",
        "print(test_acc)"
      ],
      "execution_count": 26,
      "outputs": [
        {
          "output_type": "stream",
          "text": [
            "1512/1512 [==============================] - 21s 14ms/step\n",
            "0.3783596193414788\n",
            "0.9589946866035461\n"
          ],
          "name": "stdout"
        }
      ]
    },
    {
      "cell_type": "code",
      "metadata": {
        "id": "ANMlS2hSGGpb",
        "colab_type": "code",
        "colab": {}
      },
      "source": [
        "train_loss = history.history['loss']\n",
        "train_acc = history.history['accuracy']\n",
        "val_loss = history.history['val_loss']\n",
        "val_acc = history.history['val_accuracy']\n",
        "xc=range(len(train_loss))"
      ],
      "execution_count": 0,
      "outputs": []
    },
    {
      "cell_type": "code",
      "metadata": {
        "id": "8NqqIltwGGvM",
        "colab_type": "code",
        "outputId": "9e27c8b5-86fe-42db-fb8b-915c1b77af76",
        "colab": {
          "base_uri": "https://localhost:8080/",
          "height": 296
        }
      },
      "source": [
        "\n",
        "plt.plot(xc, train_loss)\n",
        "plt.plot(xc, val_loss)\n",
        "plt.xlabel(\"Epoch\")\n",
        "plt.ylabel(\"Loss\")\n",
        "plt.legend(['train','val'])"
      ],
      "execution_count": 29,
      "outputs": [
        {
          "output_type": "execute_result",
          "data": {
            "text/plain": [
              "<matplotlib.legend.Legend at 0x7eff8f56bef0>"
            ]
          },
          "metadata": {
            "tags": []
          },
          "execution_count": 29
        },
        {
          "output_type": "display_data",
          "data": {
            "image/png": "[encoded data removed]",
            "text/plain": [
              "<Figure size 432x288 with 1 Axes>"
            ]
          },
          "metadata": {
            "tags": [],
            "needs_background": "light"
          }
        }
      ]
    },
    {
      "cell_type": "code",
      "metadata": {
        "id": "LAAataRe6UIr",
        "colab_type": "code",
        "outputId": "3479a3b9-1721-4f7b-b18b-65eb1e385222",
        "colab": {
          "base_uri": "https://localhost:8080/",
          "height": 296
        }
      },
      "source": [
        "\n",
        "plt.plot(xc, train_acc)\n",
        "plt.plot(xc, val_acc)\n",
        "plt.xlabel(\"Epoch\")\n",
        "plt.ylabel(\"Acc\")\n",
        "plt.legend(['train','val'])"
      ],
      "execution_count": 30,
      "outputs": [
        {
          "output_type": "execute_result",
          "data": {
            "text/plain": [
              "<matplotlib.legend.Legend at 0x7eff8f508ac8>"
            ]
          },
          "metadata": {
            "tags": []
          },
          "execution_count": 30
        },
        {
          "output_type": "display_data",
          "data": {
            "image/png": "[encoded data removed]",
            "text/plain": [
              "<Figure size 432x288 with 1 Axes>"
            ]
          },
          "metadata": {
            "tags": [],
            "needs_background": "light"
          }
        }
      ]
    },
    {
      "cell_type": "code",
      "metadata": {
        "id": "DXL5_36FGG89",
        "colab_type": "code",
        "outputId": "b293a001-a60b-4605-f455-413990c1d799",
        "colab": {
          "base_uri": "https://localhost:8080/",
          "height": 187
        }
      },
      "source": [
        "\n",
        "for i in range(10):\n",
        "    pred = model.predict(xtest[i].reshape(1, 300, 300, 3))\n",
        "    print(\"\"+str(i+1)+\" Actual is \"+ \" \" + str(ytest[i])+\" Predicted is \"+str(pred.argmax()))"
      ],
      "execution_count": 31,
      "outputs": [
        {
          "output_type": "stream",
          "text": [
            "1 Actual is  [0. 1.] Predicted is 1\n",
            "2 Actual is  [0. 1.] Predicted is 1\n",
            "3 Actual is  [1. 0.] Predicted is 1\n",
            "4 Actual is  [0. 1.] Predicted is 1\n",
            "5 Actual is  [0. 1.] Predicted is 1\n",
            "6 Actual is  [0. 1.] Predicted is 1\n",
            "7 Actual is  [1. 0.] Predicted is 0\n",
            "8 Actual is  [0. 1.] Predicted is 1\n",
            "9 Actual is  [0. 1.] Predicted is 0\n",
            "10 Actual is  [1. 0.] Predicted is 0\n"
          ],
          "name": "stdout"
        }
      ]
    },
    {
      "cell_type": "markdown",
      "metadata": {
        "id": "7RQQb4jmeyQa",
        "colab_type": "text"
      },
      "source": [
        "### 3.2.4 F1 Score and Confusion Matrix"
      ]
    },
    {
      "cell_type": "code",
      "metadata": {
        "id": "pFmcXsM6GG0L",
        "colab_type": "code",
        "outputId": "87925d9e-9aee-4bc4-abfb-9b15e7f229c7",
        "colab": {
          "base_uri": "https://localhost:8080/",
          "height": 170
        }
      },
      "source": [
        "\n",
        "Y_pred = model.predict(xtest)\n",
        "y_pred = np.argmax(Y_pred, axis=1)\n",
        "target_names = ['class 0', 'class 1']\n",
        "print(classification_report(np.argmax(ytest,axis=1), y_pred,target_names=target_names))"
      ],
      "execution_count": 32,
      "outputs": [
        {
          "output_type": "stream",
          "text": [
            "              precision    recall  f1-score   support\n",
            "\n",
            "     class 0       0.94      0.98      0.96       773\n",
            "     class 1       0.98      0.94      0.96       739\n",
            "\n",
            "    accuracy                           0.96      1512\n",
            "   macro avg       0.96      0.96      0.96      1512\n",
            "weighted avg       0.96      0.96      0.96      1512\n",
            "\n"
          ],
          "name": "stdout"
        }
      ]
    },
    {
      "cell_type": "code",
      "metadata": {
        "id": "DqX1NSY0Qr03",
        "colab_type": "code",
        "colab": {}
      },
      "source": [
        "def plot_confusion_matrix(cm, classes,\n",
        "                          normalize=False,\n",
        "                          title='Confusion matrix',\n",
        "                          cmap=plt.cm.Blues):\n",
        "    \"\"\"\n",
        "    This function prints and plots the confusion matrix.\n",
        "    Normalization can be applied by setting `normalize=True`.\n",
        "    \"\"\"\n",
        "    plt.imshow(cm, interpolation='nearest', cmap=cmap)\n",
        "    plt.title(title)\n",
        "    plt.colorbar()\n",
        "    tick_marks = np.arange(len(classes))\n",
        "    plt.xticks(tick_marks, classes, rotation=45)\n",
        "    plt.yticks(tick_marks, classes)\n",
        "\n",
        "    if normalize:\n",
        "        cm = cm.astype('float') / cm.sum(axis=1)[:, np.newaxis]\n",
        "        print(\"Normalized confusion matrix\")\n",
        "    else:\n",
        "        print('Confusion matrix, without normalization')\n",
        "\n",
        "    print(cm)\n",
        "\n",
        "    thresh = cm.max() / 2.\n",
        "    for i, j in itertools.product(range(cm.shape[0]), range(cm.shape[1])):\n",
        "        plt.text(j, i, cm[i, j],\n",
        "                 horizontalalignment=\"center\",\n",
        "                 color=\"white\" if cm[i, j] > thresh else \"black\")\n",
        "        \n",
        "\n",
        "    plt.tight_layout()\n",
        "    plt.ylabel('True label')\n",
        "    plt.xlabel('Predicted label')"
      ],
      "execution_count": 0,
      "outputs": []
    },
    {
      "cell_type": "code",
      "metadata": {
        "id": "r_Zc96z4Qr6E",
        "colab_type": "code",
        "outputId": "f91eef70-64dc-48a0-e3bf-6348850e21dd",
        "colab": {
          "base_uri": "https://localhost:8080/",
          "height": 780
        }
      },
      "source": [
        "cnf_matrix = (confusion_matrix(np.argmax(ytest,axis=1), y_pred))\n",
        "np.set_printoptions(precision=2)\n",
        "plt.figure(figsize=(10,10))\n",
        "plot_confusion_matrix(cnf_matrix, classes=target_names,\n",
        "                      title='Confusion matrix')\n",
        "#plt.show()"
      ],
      "execution_count": 34,
      "outputs": [
        {
          "output_type": "stream",
          "text": [
            "Confusion matrix, without normalization\n",
            "[[758  15]\n",
            " [ 47 692]]\n"
          ],
          "name": "stdout"
        },
        {
          "output_type": "display_data",
          "data": {
            "image/png": "[encoded data removed]",
            "text/plain": [
              "<Figure size 720x720 with 2 Axes>"
            ]
          },
          "metadata": {
            "tags": [],
            "needs_background": "light"
          }
        }
      ]
    },
    {
      "cell_type": "markdown",
      "metadata": {
        "id": "PT4h9Ub8fCOq",
        "colab_type": "text"
      },
      "source": [
        "## 3.3 4-Convolutional Layers with Max-Pooling(5X5) and 2 Dense Layers "
      ]
    },
    {
      "cell_type": "markdown",
      "metadata": {
        "id": "kWuXA-PCfsMG",
        "colab_type": "text"
      },
      "source": [
        "### 3.3.1 Model Structure"
      ]
    },
    {
      "cell_type": "code",
      "metadata": {
        "id": "9p-fsQ-wUzUE",
        "colab_type": "code",
        "outputId": "e2cb65ed-3f2d-4e9e-ba75-fcdbf53d429a",
        "colab": {
          "base_uri": "https://localhost:8080/",
          "height": 561
        }
      },
      "source": [
        "model = models.Sequential()\n",
        "\n",
        "model.add(layers.Conv2D(16, (3,3), input_shape=(300,300,3), activation='relu', strides=(1,1), padding='valid'))\n",
        "model.add(layers.MaxPooling2D(pool_size=(3,3), strides=(2,2)))\n",
        "\n",
        "model.add(layers.Conv2D(32, (5,5),activation='relu', strides=(1,1), padding='valid'))\n",
        "model.add(layers.MaxPooling2D(pool_size=(3,3), strides=(2,2)))\n",
        "\n",
        "model.add(layers.Conv2D(32, (5,5),activation='relu', strides=(1,1), padding='valid'))\n",
        "model.add(layers.MaxPooling2D(pool_size=(3,3), strides=(2,2)))\n",
        "\n",
        "model.add(layers.Conv2D(32, (5,5),activation='relu', strides=(1,1), padding='valid'))\n",
        "model.add(layers.MaxPooling2D(pool_size=(3,3), strides=(2,2)))\n",
        "\n",
        "\n",
        "model.add(layers.Flatten())\n",
        "\n",
        "model.add(layers.Dense(256, activation='relu'))\n",
        "model.add(layers.Dense(128, activation='relu'))\n",
        "\n",
        "model.add(layers.Dense(2, activation='softmax'))\n",
        "\n",
        "model.summary()"
      ],
      "execution_count": 37,
      "outputs": [
        {
          "output_type": "stream",
          "text": [
            "Model: \"sequential_4\"\n",
            "_________________________________________________________________\n",
            "Layer (type)                 Output Shape              Param #   \n",
            "=================================================================\n",
            "conv2d_12 (Conv2D)           (None, 298, 298, 16)      448       \n",
            "_________________________________________________________________\n",
            "max_pooling2d_12 (MaxPooling (None, 148, 148, 16)      0         \n",
            "_________________________________________________________________\n",
            "conv2d_13 (Conv2D)           (None, 144, 144, 32)      12832     \n",
            "_________________________________________________________________\n",
            "max_pooling2d_13 (MaxPooling (None, 71, 71, 32)        0         \n",
            "_________________________________________________________________\n",
            "conv2d_14 (Conv2D)           (None, 67, 67, 32)        25632     \n",
            "_________________________________________________________________\n",
            "max_pooling2d_14 (MaxPooling (None, 33, 33, 32)        0         \n",
            "_________________________________________________________________\n",
            "conv2d_15 (Conv2D)           (None, 29, 29, 32)        25632     \n",
            "_________________________________________________________________\n",
            "max_pooling2d_15 (MaxPooling (None, 14, 14, 32)        0         \n",
            "_________________________________________________________________\n",
            "flatten_4 (Flatten)          (None, 6272)              0         \n",
            "_________________________________________________________________\n",
            "dense_10 (Dense)             (None, 256)               1605888   \n",
            "_________________________________________________________________\n",
            "dense_11 (Dense)             (None, 128)               32896     \n",
            "_________________________________________________________________\n",
            "dense_12 (Dense)             (None, 2)                 258       \n",
            "=================================================================\n",
            "Total params: 1,703,586\n",
            "Trainable params: 1,703,586\n",
            "Non-trainable params: 0\n",
            "_________________________________________________________________\n"
          ],
          "name": "stdout"
        }
      ]
    },
    {
      "cell_type": "markdown",
      "metadata": {
        "id": "NWM8aJznfysU",
        "colab_type": "text"
      },
      "source": [
        "### 3.3.2 Compiling and training the Model"
      ]
    },
    {
      "cell_type": "code",
      "metadata": {
        "colab_type": "code",
        "outputId": "a9c026b5-473e-4a62-f72c-62ac8232a6db",
        "id": "QaznVUgdU4B4",
        "colab": {
          "base_uri": "https://localhost:8080/",
          "height": 1000
        }
      },
      "source": [
        "model.compile(loss=\"categorical_crossentropy\", optimizer=\"Adam\", metrics=['accuracy'])\n",
        "history=model.fit(xtrain, ytrain, validation_split=(0.2), batch_size=256, epochs=50, verbose=1)"
      ],
      "execution_count": 25,
      "outputs": [
        {
          "output_type": "stream",
          "text": [
            "Train on 2822 samples, validate on 706 samples\n",
            "Epoch 1/50\n",
            "2822/2822 [==============================] - 11s 4ms/step - loss: 0.7177 - accuracy: 0.5985 - val_loss: 0.6454 - val_accuracy: 0.6926\n",
            "Epoch 2/50\n",
            "2822/2822 [==============================] - 10s 4ms/step - loss: 0.5568 - accuracy: 0.7275 - val_loss: 0.6342 - val_accuracy: 0.6983\n",
            "Epoch 3/50\n",
            "2822/2822 [==============================] - 10s 4ms/step - loss: 0.5504 - accuracy: 0.7551 - val_loss: 0.4637 - val_accuracy: 0.8102\n",
            "Epoch 4/50\n",
            "2822/2822 [==============================] - 10s 4ms/step - loss: 0.4342 - accuracy: 0.8349 - val_loss: 0.4217 - val_accuracy: 0.7932\n",
            "Epoch 5/50\n",
            "2822/2822 [==============================] - 10s 4ms/step - loss: 0.4081 - accuracy: 0.8278 - val_loss: 0.3326 - val_accuracy: 0.8654\n",
            "Epoch 6/50\n",
            "2822/2822 [==============================] - 10s 4ms/step - loss: 0.3100 - accuracy: 0.8721 - val_loss: 0.2891 - val_accuracy: 0.8810\n",
            "Epoch 7/50\n",
            "2822/2822 [==============================] - 10s 4ms/step - loss: 0.2668 - accuracy: 0.8891 - val_loss: 0.2390 - val_accuracy: 0.8994\n",
            "Epoch 8/50\n",
            "2822/2822 [==============================] - 10s 4ms/step - loss: 0.1952 - accuracy: 0.9231 - val_loss: 0.2616 - val_accuracy: 0.9051\n",
            "Epoch 9/50\n",
            "2822/2822 [==============================] - 10s 4ms/step - loss: 0.1506 - accuracy: 0.9437 - val_loss: 0.2052 - val_accuracy: 0.9193\n",
            "Epoch 10/50\n",
            "2822/2822 [==============================] - 10s 4ms/step - loss: 0.1068 - accuracy: 0.9582 - val_loss: 0.2056 - val_accuracy: 0.9391\n",
            "Epoch 11/50\n",
            "2822/2822 [==============================] - 10s 4ms/step - loss: 0.0969 - accuracy: 0.9589 - val_loss: 0.2032 - val_accuracy: 0.9334\n",
            "Epoch 12/50\n",
            "2822/2822 [==============================] - 10s 4ms/step - loss: 0.0904 - accuracy: 0.9656 - val_loss: 0.3313 - val_accuracy: 0.9193\n",
            "Epoch 13/50\n",
            "2822/2822 [==============================] - 10s 4ms/step - loss: 0.0882 - accuracy: 0.9653 - val_loss: 0.2220 - val_accuracy: 0.9023\n",
            "Epoch 14/50\n",
            "2822/2822 [==============================] - 10s 4ms/step - loss: 0.1001 - accuracy: 0.9578 - val_loss: 0.1365 - val_accuracy: 0.9575\n",
            "Epoch 15/50\n",
            "2822/2822 [==============================] - 10s 4ms/step - loss: 0.0542 - accuracy: 0.9798 - val_loss: 0.1360 - val_accuracy: 0.9632\n",
            "Epoch 16/50\n",
            "2822/2822 [==============================] - 10s 4ms/step - loss: 0.0344 - accuracy: 0.9894 - val_loss: 0.2421 - val_accuracy: 0.9618\n",
            "Epoch 17/50\n",
            "2822/2822 [==============================] - 10s 4ms/step - loss: 0.0369 - accuracy: 0.9901 - val_loss: 0.1742 - val_accuracy: 0.9646\n",
            "Epoch 18/50\n",
            "2822/2822 [==============================] - 10s 4ms/step - loss: 0.0196 - accuracy: 0.9940 - val_loss: 0.1916 - val_accuracy: 0.9504\n",
            "Epoch 19/50\n",
            "2822/2822 [==============================] - 10s 4ms/step - loss: 0.0272 - accuracy: 0.9876 - val_loss: 0.1092 - val_accuracy: 0.9788\n",
            "Epoch 20/50\n",
            "2822/2822 [==============================] - 10s 4ms/step - loss: 0.0203 - accuracy: 0.9926 - val_loss: 0.2021 - val_accuracy: 0.9688\n",
            "Epoch 21/50\n",
            "2822/2822 [==============================] - 10s 4ms/step - loss: 0.0112 - accuracy: 0.9961 - val_loss: 0.1614 - val_accuracy: 0.9717\n",
            "Epoch 22/50\n",
            "2822/2822 [==============================] - 10s 4ms/step - loss: 0.0079 - accuracy: 0.9989 - val_loss: 0.2021 - val_accuracy: 0.9688\n",
            "Epoch 23/50\n",
            "2822/2822 [==============================] - 10s 4ms/step - loss: 0.0107 - accuracy: 0.9979 - val_loss: 0.2198 - val_accuracy: 0.9717\n",
            "Epoch 24/50\n",
            "2822/2822 [==============================] - 10s 4ms/step - loss: 0.0062 - accuracy: 0.9989 - val_loss: 0.1889 - val_accuracy: 0.9703\n",
            "Epoch 25/50\n",
            "2822/2822 [==============================] - 10s 4ms/step - loss: 0.0115 - accuracy: 0.9954 - val_loss: 0.2899 - val_accuracy: 0.9603\n",
            "Epoch 26/50\n",
            "2822/2822 [==============================] - 10s 4ms/step - loss: 0.0136 - accuracy: 0.9957 - val_loss: 0.3005 - val_accuracy: 0.9646\n",
            "Epoch 27/50\n",
            "2822/2822 [==============================] - 10s 4ms/step - loss: 0.0132 - accuracy: 0.9950 - val_loss: 0.1544 - val_accuracy: 0.9759\n",
            "Epoch 28/50\n",
            "2822/2822 [==============================] - 10s 4ms/step - loss: 0.0126 - accuracy: 0.9947 - val_loss: 0.1508 - val_accuracy: 0.9745\n",
            "Epoch 29/50\n",
            "2822/2822 [==============================] - 10s 4ms/step - loss: 0.0106 - accuracy: 0.9961 - val_loss: 0.2383 - val_accuracy: 0.9745\n",
            "Epoch 30/50\n",
            "2822/2822 [==============================] - 10s 4ms/step - loss: 0.0076 - accuracy: 0.9979 - val_loss: 0.2934 - val_accuracy: 0.9632\n",
            "Epoch 31/50\n",
            "2822/2822 [==============================] - 10s 4ms/step - loss: 0.0050 - accuracy: 0.9982 - val_loss: 0.1899 - val_accuracy: 0.9773\n",
            "Epoch 32/50\n",
            "2822/2822 [==============================] - 10s 4ms/step - loss: 0.0031 - accuracy: 0.9989 - val_loss: 0.2398 - val_accuracy: 0.9759\n",
            "Epoch 33/50\n",
            "2822/2822 [==============================] - 10s 4ms/step - loss: 0.0015 - accuracy: 0.9996 - val_loss: 0.2894 - val_accuracy: 0.9759\n",
            "Epoch 34/50\n",
            "2822/2822 [==============================] - 10s 4ms/step - loss: 0.0013 - accuracy: 1.0000 - val_loss: 0.2375 - val_accuracy: 0.9759\n",
            "Epoch 35/50\n",
            "2822/2822 [==============================] - 10s 4ms/step - loss: 0.0014 - accuracy: 0.9993 - val_loss: 0.2693 - val_accuracy: 0.9745\n",
            "Epoch 36/50\n",
            "2822/2822 [==============================] - 10s 4ms/step - loss: 0.0016 - accuracy: 0.9993 - val_loss: 0.2805 - val_accuracy: 0.9688\n",
            "Epoch 37/50\n",
            "2822/2822 [==============================] - 10s 4ms/step - loss: 0.0044 - accuracy: 0.9979 - val_loss: 0.3424 - val_accuracy: 0.9717\n",
            "Epoch 38/50\n",
            "2822/2822 [==============================] - 10s 4ms/step - loss: 0.0039 - accuracy: 0.9993 - val_loss: 0.1654 - val_accuracy: 0.9745\n",
            "Epoch 39/50\n",
            "2822/2822 [==============================] - 10s 4ms/step - loss: 0.0031 - accuracy: 0.9989 - val_loss: 0.2738 - val_accuracy: 0.9717\n",
            "Epoch 40/50\n",
            "2822/2822 [==============================] - 10s 4ms/step - loss: 0.0016 - accuracy: 0.9996 - val_loss: 0.2674 - val_accuracy: 0.9717\n",
            "Epoch 41/50\n",
            "2822/2822 [==============================] - 10s 4ms/step - loss: 0.0019 - accuracy: 0.9996 - val_loss: 0.3150 - val_accuracy: 0.9703\n",
            "Epoch 42/50\n",
            "2822/2822 [==============================] - 10s 4ms/step - loss: 0.0063 - accuracy: 0.9993 - val_loss: 0.3099 - val_accuracy: 0.9674\n",
            "Epoch 43/50\n",
            "2822/2822 [==============================] - 10s 4ms/step - loss: 0.0013 - accuracy: 1.0000 - val_loss: 0.1958 - val_accuracy: 0.9759\n",
            "Epoch 44/50\n",
            "2822/2822 [==============================] - 10s 4ms/step - loss: 5.9187e-04 - accuracy: 1.0000 - val_loss: 0.2071 - val_accuracy: 0.9745\n",
            "Epoch 45/50\n",
            "2822/2822 [==============================] - 10s 4ms/step - loss: 4.5168e-04 - accuracy: 1.0000 - val_loss: 0.2465 - val_accuracy: 0.9717\n",
            "Epoch 46/50\n",
            "2822/2822 [==============================] - 10s 4ms/step - loss: 3.1095e-04 - accuracy: 1.0000 - val_loss: 0.2288 - val_accuracy: 0.9759\n",
            "Epoch 47/50\n",
            "2822/2822 [==============================] - 10s 4ms/step - loss: 3.0854e-04 - accuracy: 1.0000 - val_loss: 0.2711 - val_accuracy: 0.9703\n",
            "Epoch 48/50\n",
            "2822/2822 [==============================] - 10s 4ms/step - loss: 1.9713e-04 - accuracy: 1.0000 - val_loss: 0.2411 - val_accuracy: 0.9745\n",
            "Epoch 49/50\n",
            "2822/2822 [==============================] - 10s 4ms/step - loss: 2.2688e-04 - accuracy: 1.0000 - val_loss: 0.2713 - val_accuracy: 0.9703\n",
            "Epoch 50/50\n",
            "2822/2822 [==============================] - 10s 4ms/step - loss: 0.0010 - accuracy: 0.9996 - val_loss: 0.2302 - val_accuracy: 0.9745\n"
          ],
          "name": "stdout"
        }
      ]
    },
    {
      "cell_type": "markdown",
      "metadata": {
        "id": "_H1etrysf6lQ",
        "colab_type": "text"
      },
      "source": [
        "### 3.3.3 Results on Test Data"
      ]
    },
    {
      "cell_type": "code",
      "metadata": {
        "colab_type": "code",
        "outputId": "9c993e5e-e77a-4a54-b5d7-3cd864b39151",
        "id": "n3CQlxuu_b0Z",
        "colab": {
          "base_uri": "https://localhost:8080/",
          "height": 51
        }
      },
      "source": [
        "model.evaluate(xtest,ytest)"
      ],
      "execution_count": 26,
      "outputs": [
        {
          "output_type": "stream",
          "text": [
            "1512/1512 [==============================] - 3s 2ms/step\n"
          ],
          "name": "stdout"
        },
        {
          "output_type": "execute_result",
          "data": {
            "text/plain": [
              "[0.13986832409660258, 0.9794973731040955]"
            ]
          },
          "metadata": {
            "tags": []
          },
          "execution_count": 26
        }
      ]
    },
    {
      "cell_type": "code",
      "metadata": {
        "colab_type": "code",
        "outputId": "b2955356-5248-4a79-b8bc-dda9a634e290",
        "id": "EqwZbfYO_b0w",
        "colab": {
          "base_uri": "https://localhost:8080/",
          "height": 51
        }
      },
      "source": [
        "pred=model.predict(xtest[0].reshape(1,300,300,3))\n",
        "print(pred)\n",
        "print(pred.argmax())"
      ],
      "execution_count": 27,
      "outputs": [
        {
          "output_type": "stream",
          "text": [
            "[[1.2356151e-11 1.0000000e+00]]\n",
            "1\n"
          ],
          "name": "stdout"
        }
      ]
    },
    {
      "cell_type": "code",
      "metadata": {
        "colab_type": "code",
        "outputId": "62ddd8ed-597f-4456-c097-7fa4faaeeb80",
        "id": "92Sz4ftu_b02",
        "colab": {
          "base_uri": "https://localhost:8080/",
          "height": 68
        }
      },
      "source": [
        "test_loss,test_acc=model.evaluate(xtest,ytest)\n",
        "print(test_loss)\n",
        "print(test_acc)"
      ],
      "execution_count": 28,
      "outputs": [
        {
          "output_type": "stream",
          "text": [
            "1512/1512 [==============================] - 3s 2ms/step\n",
            "0.13986832409660258\n",
            "0.9794973731040955\n"
          ],
          "name": "stdout"
        }
      ]
    },
    {
      "cell_type": "code",
      "metadata": {
        "colab_type": "code",
        "id": "3fTlGZqN_nRd",
        "colab": {}
      },
      "source": [
        "train_loss = history.history['loss']\n",
        "train_acc = history.history['accuracy']\n",
        "val_loss = history.history['val_loss']\n",
        "val_acc = history.history['val_accuracy']\n",
        "xc=range(len(train_loss))"
      ],
      "execution_count": 0,
      "outputs": []
    },
    {
      "cell_type": "code",
      "metadata": {
        "colab_type": "code",
        "outputId": "7bf524d0-0b72-4a3e-9c82-2315ae2f7ba4",
        "id": "3tQLnitw_nRv",
        "colab": {
          "base_uri": "https://localhost:8080/",
          "height": 296
        }
      },
      "source": [
        "import matplotlib.pyplot as plt\n",
        "%matplotlib inline\n",
        "plt.plot(xc, train_loss)\n",
        "plt.plot(xc, val_loss)\n",
        "plt.xlabel(\"Epoch\")\n",
        "plt.ylabel(\"Loss\")\n",
        "plt.legend(['train','val'])"
      ],
      "execution_count": 30,
      "outputs": [
        {
          "output_type": "execute_result",
          "data": {
            "text/plain": [
              "<matplotlib.legend.Legend at 0x7fe16093a7f0>"
            ]
          },
          "metadata": {
            "tags": []
          },
          "execution_count": 30
        },
        {
          "output_type": "display_data",
          "data": {
            "image/png": "[encoded data removed]",
            "text/plain": [
              "<Figure size 432x288 with 1 Axes>"
            ]
          },
          "metadata": {
            "tags": [],
            "needs_background": "light"
          }
        }
      ]
    },
    {
      "cell_type": "code",
      "metadata": {
        "colab_type": "code",
        "outputId": "377f5683-c91f-4329-89c9-491bc7528402",
        "id": "f7-JaPpB_nR3",
        "colab": {
          "base_uri": "https://localhost:8080/",
          "height": 296
        }
      },
      "source": [
        "import matplotlib.pyplot as plt\n",
        "%matplotlib inline\n",
        "plt.plot(xc, train_acc)\n",
        "plt.plot(xc, val_acc)\n",
        "plt.xlabel(\"Epoch\")\n",
        "plt.ylabel(\"Acc\")\n",
        "plt.legend(['train','val'])"
      ],
      "execution_count": 31,
      "outputs": [
        {
          "output_type": "execute_result",
          "data": {
            "text/plain": [
              "<matplotlib.legend.Legend at 0x7fe1608a6f28>"
            ]
          },
          "metadata": {
            "tags": []
          },
          "execution_count": 31
        },
        {
          "output_type": "display_data",
          "data": {
            "image/png": "[encoded data removed]",
            "text/plain": [
              "<Figure size 432x288 with 1 Axes>"
            ]
          },
          "metadata": {
            "tags": [],
            "needs_background": "light"
          }
        }
      ]
    },
    {
      "cell_type": "code",
      "metadata": {
        "colab_type": "code",
        "outputId": "73122a36-393e-4a24-e818-ac842d7a7503",
        "id": "JeTwfbfw_nR8",
        "colab": {
          "base_uri": "https://localhost:8080/",
          "height": 187
        }
      },
      "source": [
        "%matplotlib inline\n",
        "for i in range(10):\n",
        "    pred = model.predict(xtest[i].reshape(1, 300, 300, 3))\n",
        "    print(\"\"+str(i+1)+\" Actual is \"+ \" \" + str(ytest[i])+\" Predicted is \"+str(pred.argmax()))"
      ],
      "execution_count": 32,
      "outputs": [
        {
          "output_type": "stream",
          "text": [
            "1 Actual is  [0. 1.] Predicted is 1\n",
            "2 Actual is  [0. 1.] Predicted is 0\n",
            "3 Actual is  [1. 0.] Predicted is 0\n",
            "4 Actual is  [0. 1.] Predicted is 1\n",
            "5 Actual is  [0. 1.] Predicted is 1\n",
            "6 Actual is  [0. 1.] Predicted is 1\n",
            "7 Actual is  [1. 0.] Predicted is 0\n",
            "8 Actual is  [0. 1.] Predicted is 1\n",
            "9 Actual is  [0. 1.] Predicted is 1\n",
            "10 Actual is  [1. 0.] Predicted is 0\n"
          ],
          "name": "stdout"
        }
      ]
    },
    {
      "cell_type": "markdown",
      "metadata": {
        "id": "v_diVWNPgAw5",
        "colab_type": "text"
      },
      "source": [
        "### 3.3.4 F1 Score and Confusion Matrix"
      ]
    },
    {
      "cell_type": "code",
      "metadata": {
        "colab_type": "code",
        "outputId": "780a0647-17ec-4e32-e3c9-34ff8d418711",
        "id": "LKjX4Pcn_nSA",
        "colab": {
          "base_uri": "https://localhost:8080/",
          "height": 170
        }
      },
      "source": [
        "import numpy as np\n",
        "from sklearn.metrics import classification_report,confusion_matrix\n",
        "import itertools\n",
        "\n",
        "Y_pred = model.predict(xtest)\n",
        "y_pred = np.argmax(Y_pred, axis=1)\n",
        "target_names = ['class 0', 'class 1']\n",
        "print(classification_report(np.argmax(ytest,axis=1), y_pred,target_names=target_names))"
      ],
      "execution_count": 33,
      "outputs": [
        {
          "output_type": "stream",
          "text": [
            "              precision    recall  f1-score   support\n",
            "\n",
            "     class 0       0.96      1.00      0.98       773\n",
            "     class 1       1.00      0.96      0.98       739\n",
            "\n",
            "    accuracy                           0.98      1512\n",
            "   macro avg       0.98      0.98      0.98      1512\n",
            "weighted avg       0.98      0.98      0.98      1512\n",
            "\n"
          ],
          "name": "stdout"
        }
      ]
    },
    {
      "cell_type": "code",
      "metadata": {
        "colab_type": "code",
        "outputId": "cccc679b-6175-4e71-89cf-42a3174b1add",
        "id": "HUq8gRIw_nSI",
        "colab": {
          "base_uri": "https://localhost:8080/",
          "height": 780
        }
      },
      "source": [
        "cnf_matrix = (confusion_matrix(np.argmax(ytest,axis=1), y_pred))\n",
        "np.set_printoptions(precision=2)\n",
        "plt.figure(figsize=(10,10))\n",
        "plot_confusion_matrix(cnf_matrix, classes=target_names,\n",
        "                      title='Confusion matrix')\n",
        "#plt.show()"
      ],
      "execution_count": 35,
      "outputs": [
        {
          "output_type": "stream",
          "text": [
            "Confusion matrix, without normalization\n",
            "[[770   3]\n",
            " [ 28 711]]\n"
          ],
          "name": "stdout"
        },
        {
          "output_type": "display_data",
          "data": {
            "image/png": "[encoded data removed]",
            "text/plain": [
              "<Figure size 720x720 with 2 Axes>"
            ]
          },
          "metadata": {
            "tags": [],
            "needs_background": "light"
          }
        }
      ]
    },
    {
      "cell_type": "markdown",
      "metadata": {
        "id": "3CHCf5A2wtU8",
        "colab_type": "text"
      },
      "source": [
        "# 4. Summary"
      ]
    },
    {
      "cell_type": "code",
      "metadata": {
        "id": "OEl-wstEwyn6",
        "colab_type": "code",
        "colab": {
          "base_uri": "https://localhost:8080/",
          "height": 156
        },
        "outputId": "85b76993-0fc0-432b-c91c-f6d150a5b603"
      },
      "source": [
        "from prettytable import PrettyTable\n",
        "x = PrettyTable()\n",
        "x.field_names = [\"Model\",\"Optimizer\",\"Val loss\",\"test loss\",\"Val Accuracy\",\"test accuracy\",\"F1 score(class 0)\",\"F1 score(class 1)\"]\n",
        "x.add_row([\"LeNet\",\"SGD\",\"0.56\",\"0.37\",\"0.87\",\"0.88\",\"0.90\",\"0.87\"])\n",
        "x.add_row([\"Modified LeNet\",\"ADAM\",\"0.59\",\"0.53\",\"0.9603\",\"0.9589\",\"0.96\",\"0.96\"])\n",
        "x.add_row([\"4 ConV + MaxPool Model\",\"ADAM\",\"0.23\",\"0.13\",\"0.9745\",\"0.9794\",\"0.98\",\"0.98\"])\n",
        "\n",
        "print(x)"
      ],
      "execution_count": 68,
      "outputs": [
        {
          "output_type": "stream",
          "text": [
            "+------------------------+-----------+----------+-----------+--------------+---------------+-------------------+-------------------+\n",
            "|         Model          | Optimizer | Val loss | test loss | Val Accuracy | test accuracy | F1 score(class 0) | F1 score(class 1) |\n",
            "+------------------------+-----------+----------+-----------+--------------+---------------+-------------------+-------------------+\n",
            "|         LeNet          |    SGD    |   0.56   |    0.37   |     0.87     |      0.88     |        0.90       |        0.87       |\n",
            "|     Modified LeNet     |    ADAM   |   0.59   |    0.53   |    0.9603    |     0.9589    |        0.96       |        0.96       |\n",
            "| 4 ConV + MaxPool Model |    ADAM   |   0.23   |    0.13   |    0.9745    |     0.9794    |        0.98       |        0.98       |\n",
            "+------------------------+-----------+----------+-----------+--------------+---------------+-------------------+-------------------+\n"
          ],
          "name": "stdout"
        }
      ]
    }
  ]
}